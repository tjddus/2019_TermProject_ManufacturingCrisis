{
  "nbformat": 4,
  "nbformat_minor": 0,
  "metadata": {
    "celltoolbar": "Raw Cell Format",
    "kernelspec": {
      "display_name": "Python 3",
      "language": "python",
      "name": "python3"
    },
    "language_info": {
      "codemirror_mode": {
        "name": "ipython",
        "version": 3
      },
      "file_extension": ".py",
      "mimetype": "text/x-python",
      "name": "python",
      "nbconvert_exporter": "python",
      "pygments_lexer": "ipython3",
      "version": "3.7.1"
    },
    "colab": {
      "name": "2019-1H-Termproject Final_Manufacturing crisis_2017103972 .ipynb",
      "provenance": []
    }
  },
  "cells": [
    {
      "cell_type": "markdown",
      "metadata": {
        "id": "JJYeJ2vaOWC4"
      },
      "source": [
        "# Term Project (Crisis of Korea manufacturing )"
      ]
    },
    {
      "cell_type": "markdown",
      "metadata": {
        "id": "9fZg0vb0OWC9"
      },
      "source": [
        "## 주제선정동기"
      ]
    },
    {
      "cell_type": "markdown",
      "metadata": {
        "id": "eKWVKFveOWC-"
      },
      "source": [
        "  이번 독일로 가는 전공연수를 준비하는 과정 중에 *'독일의 인더스트리 4.0'* 에 관한 기사를 보게 되었습니다. 독일의 '인더스트리 4.0'은 제조업과 같은 전통 산업에 IT 시스템을 결합하여 생산시설들을 네트워크화하고 지능형 생산 시스템을 갖춘 스마트 공장으로 진화하자는 의미를 가지는 정책입니다. 스마트공장은 제품 기획부터 판매까지 제품 수명 주기 전반을 최신 ICT 기술로 통합 관리하여 생산 시스템을 최적화시킨 공장입니다.<br>\n",
        " 독일은 제조업 분야에서 강력한 경쟁력을 가짐에도 끊임없이 문제상황을 파악해서 해당 분야에서 꾸준히 성장세를 보여주었습니다. 독일의 '인더스트리 4.0' 외에도 미국은 'Making in America', 중국은 '제조 2025', 일본은 '일본재흥전략' 등 여러 나라가 자신들만의 산업 전략을 통해 제조업 혁신에 총력전을 벌이고 있습니다. 이렇듯 여러 나라는 구조개혁을 통한 제조업 분야에 발전하는 IT기술을 접목시켜 생산성을 높이고 있지만 우리나라는 세금을 낮추고 대출 문턱을 낮춰 집값을 부추기는 등의 오히려 일시적인 성장만을 도모했다고 합니다.<br>\n",
        " 현재 우리나라의 제조업 부가가치가 높은 통계를 내고 있는 제조업 분야는 수출과 일자리의 핵심 산업입니다. 그만큼 한국은 제조업 중심국가라고 말할 수 있습니다.그런데 네이버, 구글 웹사이트에 '한국 제조업'이라는 키워드만 쳐도 \"한국 제조업은 위기를 맞이했다, 혁신이 필요하다\" 등의 기사들이 매일마다 쏟아져나오고 있습니다. 그래서 저는 한국 제조업의 위기상황을 파악할 필요가 있음을 느꼈습니다. 그래서 저는 이번 데이터 분석을 '한국 제조업의 위기'라는 주제를 가지고 진행하고자 합니다.\n",
        " <br> \n",
        " <주제선정동기내용 - 출처> <br>\n",
        " \"제조업 빙하기...국내공급 지난해 이어 마이너스 계속\", (2019-05-9),(뉴스확인:2019-05-09) http://biz.newdaily.co.kr/site/data/html/2019/05/09/2019050900125.html<br>\n",
        " \"제조업 수출 의존 못벗어나...혁신산업 가는 길 넓혀라\",(2019-05-08),(뉴스확인:2019-5-11)\n",
        " http://www.hani.co.kr/arti/economy/economy_general/893132.html\n",
        " \n",
        " <br><br>\n",
        "  우연히 알게된 MFG는 현재 산업기술 최신동향에 대한 기사를 많이 내고 있습니다. MFG는 독자들을 대상으로 \"4차 산업혁명 인식도 조사\"를 진행했다고 합니다. 해당 설문조사에서 4차 산업혁명을 실현시킬 핵심 Action Item이 무엇이냐고 물으니 스마트 제품보다는 \"스마트 공장\"이 많은 비율이 나왔다. 위에서 말했듯이 세계의 주요국들은 현재 제조업 혁신을 위해 노력하고 있습니다. 즉, 첨단 기술의 집약체인 스마트 공장은 4차 산업혁명의 핵심이 되었습니다. 우리나라도 현재 제조업 3.0 전략 수립 이후 국내 제조업 경쟁력 향상을 위한 동력을 마련하고 있지만 현재 제조업 생산력이나 여러 부분에서 많은 위기를 겪고 있습니다. 그래서 저는 해당 위기를 파악하고 분석하며 주요국들의 4차 산업혁명, 완벽한 스마트 공장을 이루기 위한 혁신적 전략 및 사업에 대해 알아보고 우리나라는 어떤식으로 여러 부문의 위기를 해결할 수 있을지를 분석해보고자 합니다.\n",
        "![image.png](attachment:image.png)(attachment:image.png)<br>\n",
        "######  <참고자료 : https://www.kipost.net/news/articleView.html?idxno=3784>"
      ]
    },
    {
      "cell_type": "markdown",
      "metadata": {
        "id": "8MKlFsjjOWC_"
      },
      "source": [
        "#####  웹 크롤링을 이용한 독일 인더스트리 4.0"
      ]
    },
    {
      "cell_type": "code",
      "metadata": {
        "scrolled": false,
        "id": "axWUUfgHOWC_",
        "outputId": "5b15f9fa-6080-4258-a9eb-ce147eef72be"
      },
      "source": [
        "from urllib.request import urlopen\n",
        "from bs4 import BeautifulSoup\n",
        "from IPython.display import Image \n",
        "from selenium import webdriver\n",
        "\n",
        "def clean_text(text):\n",
        "    cleaned_text = re.sub('[a-zA-Z]', '', text)\n",
        "    cleaned_text = re.sub('[\\{\\}\\[\\]\\/?.,;:|\\)*~`!^\\-_+<>@\\#$%&\\\\\\=\\(\\'\\\"]','', cleaned_text)\n",
        "    return cleaned_text\n",
        "\n",
        "\n",
        "html=urlopen(\"https://www.kipost.net/news/articleView.html?idxno=3784\")\n",
        "bsObj=BeautifulSoup(html,\"html.parser\")\n",
        "Industry_Response=bsObj.findAll(\"p\")\n",
        "for response in Industry_Response:\n",
        "    print(response.get_text())\n",
        "    \n",
        "img2 = 'industry_2.jpg' \n",
        "Image(url=img2) "
      ],
      "execution_count": null,
      "outputs": [
        {
          "output_type": "stream",
          "text": [
            "독일어의 ‘Industrie’는 산업 혹은 제조업을 뜻한다. 독일은 인더스트리4.0을 기존의 ‘자동화’와 차별화하고 그 내용을 설명하기 위해 “제4차 산업혁명”이라는 용어를 만들어 냈다.\n",
            "제1차, 제2차 산업혁명에 대해 굳이 설명을 하지 않아도 증기기관 발명에 의한 새로운 동력 활용, 전기 발명에 의한 대량생산 가능성 제공은 대부분 알 것이다.\n",
            "컴퓨터를 기반으로 운용하는 제조업 변화는 다시 제3차 및 제4차 두 단계의 산업혁명으로 구분한다. 컴퓨터를 이용한 자동화의 확대가 제3차 산업혁명이라면, 기존의 자동화를 아무리 확대해도 생산성이 향상되지 않아 추가 조치가 필요한 단계가 나눠지기 때문이다.\n",
            "제4차 산업혁명의 주요 기술 중 하나는 가상 세계와 실제 물리적인 세계를 통합하는 사이버물리시스템(CPS)이 거론된다. CPS 는 상황에 따라 다양하게 설명되는데 그 이유는 CPS가 수준에 따라 다양한 특성을 갖고 있기 때문이다. CPS에 대해서는 나중에 별도로 상세하게 설명할 예정이다.\n",
            " \n",
            "\n",
            " \n",
            "인더스트리 4.0의 의미는 독일에서 인더스트리 4.0과 관련된 활동을 조율하는 위원회인 ‘플랫폼 인더스트리 4.0’에서 제안한 정의에 잘 나타나 있다. 그러나 그 내용은 독자의 관련 업무에 대한 경험에 따라 다양하게 해석될 수 있으므로 여기서는 필자의 관점에서 본 인더스트리 4.0의 주요 특징을 먼저 간단하게 설명한다.\n",
            "\n",
            "기술과 시장의 상호작용, 대량 맞춤과 개인별 맞춤\n",
            "기술과 시장은 서로 상호작용을 한다. 인더스트리4.0가 상정하는 시장은 대상 제품이 기존의 ‘대량 생산’ 과 달리 ‘개인별로 특화된 개별 고객의 요구사항을 충족시키는 것’이다. 맞춤형 가내 수공업과는 차이가 있는데, 현재의 대량 생산과 유사한 수준으로 품질을 일정하게 유지하면서 판매 가격도 저렴하게 공급하는 게 목표이기 때문이다.\n",
            "제품 유형에 대한 논의를 할 때 가끔 혼란이 이는데, 인더스트리4.0의 목표를 ‘대량 맞춤’ (mass customization)으로 설명하는 경우가 있고, 대량맞춤에 대한 정의가 다양하기 때문이다.  요람 코렌(Yoram Koren) 미시건대 교수는 대량 맞춤과 개인별 맞춤 생산의 차이는 기존에 존재하는 모듈을 이용하기만 하느냐, 이를 넘어 개인별로 원하는 디자인을 추가하는가에 따라 구분한다.\n",
            " \n",
            " \n",
            "개인의 요구를 모두 수용하는 가내 수공업 형태의 제조 방식은 작업자가 매우 숙련된 경우를 제외하고는 품질이 일정치 않으며 비용도 매우 많이 소요된다. 그러나 CPS가 접목된 자동화된 제조방식을 활용할 경우에는 개인화된 제품을 대량생산 가격에 맞춰 제공할 수 있는 가능성이 열린다. 이를 위해서는 공장 내부의 설비 및 기계가 네트워킹되고 분권화되고 자율화된 형태로 작동돼야 한다. 이러한 제조 인프라는 하나의 조직에서만 구동되는 것이 아니라 범 기업적으로 분산된 체계에서 작동돼야 하며, 따라서 가치창출에 관련된 모든 조직으로 구성된 가치창출네트워크도 다이내믹하게 실시간으로 최적화된 형태로 스스로 구축돼야 한다.대량 맞춤은 BMW가 실제로 구현하고 있다. 다양한 모듈을 개발해 이미 50만개 정도 유형의 자동차를 생산하고 있는데, 고객의 개별적으로 요구하는 다자인을 수용하지는 않는다. 개인별 맞춤 생산에 대해 이해하기 쉬운 예를 들자면 자동차 튜닝이 있다. 이미 제조가 완료된 자동차를 개인의 취향에 맞게 재디자인해 튜닝하는 작업이 자동차 제조 공정 안으로 들어오는 모습을 생각할 수 있다. 튜닝회사나 미국의 Local Motors 같은 회사는 개인의 요구사항을 반영한 자동차를 만들어준다. 기존의 획일화된 대량 생산 방식으로는 후자 같은 제품이 나올 수 없다. \n",
            "\n",
            "즉, 인더스트리 4.0은 ‘증가하는 개인화된 고객의 요구(increasingly individualised customer wishes)’를 대량생산 제품 가격으로 제공하기 위해서 ‘다이내믹하고, 스스로 조직되고, 범 조직적이고, 실시간으로 최적화하는 가치창출네트워크(dynamic, self-organised, cross-organisational, real-time optimised value networks)’를 만들어내는 것이다.\n"
          ],
          "name": "stdout"
        },
        {
          "output_type": "execute_result",
          "data": {
            "text/html": [
              "<img src=\"industry_2.jpg\"/>"
            ],
            "text/plain": [
              "<IPython.core.display.Image object>"
            ]
          },
          "metadata": {
            "tags": []
          },
          "execution_count": 1
        }
      ]
    },
    {
      "cell_type": "markdown",
      "metadata": {
        "id": "nXVNqzINOWDA"
      },
      "source": [
        "##### 해당 사진은 현재 제품이 라인따라 움직이는 것이 아닌 그 자리에서 부품이 개인화된 고객의 요구를  따라 생산되는 시스템\n",
        "######  <참고자료 : https://www.kipost.net/news/articleView.html?idxno=3784>"
      ]
    },
    {
      "cell_type": "markdown",
      "metadata": {
        "id": "514GmGOwOWDA"
      },
      "source": [
        "## 가설 정의"
      ]
    },
    {
      "cell_type": "markdown",
      "metadata": {
        "id": "Bhbi8ls7OWDA"
      },
      "source": [
        "### 한국 제조업의 위기를 벗어날 수 있을까?\n",
        "\n",
        "\n",
        "<span > 데이터 분석을 통한 한국 제조업이 여러 부분에서 어떤 상황인지 확인하고 혁신을 이룰 방법에 대해 모색해보자.<br> 세계에서 현재 제조업의 막강한 경쟁력을 가지며 계속해서 제조업 혁신을 이루기위해 노력하는 세계 6개 나라 대략 조사 </span>\n"
      ]
    },
    {
      "cell_type": "markdown",
      "metadata": {
        "id": "lL3y7YfEOWDB"
      },
      "source": [
        "## 인터넷을 통한 데이터 획득\n",
        "\n",
        "<h4>1. 네이버 오픈 api를 이용한 뉴스 기사 title 확인 - 한국의 제조업과 관련된 이슈 확인 </h4> <br>\n",
        "<span style=\"color:blue\">- 네이버 developers https://developers.naver.com/docs/search/news/ 에서 json 형태로 \"뉴스\" 부분 데이터를 획득했다 </span>\n",
        "\n",
        "<h4>2. 인터넷을 통해 얻은 제조업과 관련된 데이터를 아래와 같은 부분으로 나누고 해당 부분에 대한 데이터를 분석한다. </h4>\n",
        "\n",
        "&nbsp;&nbsp; 1) 거시지표 :  GDP 대 제조업 순위, 제조업 부가가치율 <br>\n",
        "&nbsp;&nbsp; 2) 무역: 한국이 제조업 수출에 있어서 차지하는 비율 <br>\n",
        "&nbsp;&nbsp; 3) 경쟁력/생산성/제조업생산부문 : 노동생산성 - 1인당 단위노동생산성, 생산성  /무역경쟁력- 제조업 부가가치율 <br>\n",
        "&nbsp;&nbsp; 4) 투자/자본 : 제조업 국가 M&A 비율 증가율 - 한국 제조업 회사의 소극적 인수합병 관련 뉴스 이용<br>\n",
        "&nbsp;&nbsp; 5) 노동/고용 : 연평균 노동시간, 제조업 임금지수 <br>\n",
        "&nbsp;&nbsp; 6) 연구개발 :  종원업 천명당 연구원수 <br><br>\n",
        "<span style=\"color:blue\">- The World Bank https://data.worldbank.org/indicator/NV.IND.MANF.CD?year_high_desc=true에서 csv파일 형태로 1),2) 부분의 데이터를 획득했다. </span>\n",
        "\n",
        "<span style=\"color:blue\">- 산업통계 분석 시스템 https://www.istans.or.kr/co/newCoTab.do?scode=C184 5),6) 부분의 데이터를 csv파일 형태로 받 획득했다. </span>\n",
        "\n",
        "<span style=\"color:blue\">- 한국 제조업 M&A 관련 뉴스 http://weekly.donga.com/List/3/all/11/938808/1, https://www.mk.co.kr/news/economy/view/2019/04/239522/ 4)부분의 데이터를 csv 파일 형태로 저장했으며 해당 뉴스의 크롤링은 해당 사이트의 거부로 뉴스 기사를 직접 가져와 획득했다. </span>\n",
        "\n",
        "<span style=\"color:blue\">- 한국경제연구원 \"[한경연] 2월 25일(월) 조간_제조업 노동생산성 및 단위노동비용 국제비교 보도자료\"를 통해 해당 보도자료에 포함된 3) 부분의 도표 데이터를 csv파일 형태로 저장해 획득했다. </span>\n",
        "\n",
        "<h4>3. 제조업 강국 독일, 일본, 중국, 미국, 한국까지 총 5개 나라의 제조업 혁신을 위해 어떤 방향으로 연구개발을 투자하고<br> 어떤 IT기술을 도입하는 지 등에 대해 'MFG' 사이트를 웹 크롤링하여 데이터를 가져와 분석할 예정이다. </h4><br>\n",
        "<span style=\"color:blue\">- MFG http://www.mfgkr.com/ 에서 세계 주요국들의 제조업, 4차 산업혁명 뉴스를 beautifulsoup을 이용해 크롤링하여 데이터를 획득했다. </span>\n"
      ]
    },
    {
      "cell_type": "markdown",
      "metadata": {
        "id": "6OkGVOv1OWDB"
      },
      "source": [
        "## 분석을 위한 데이터 가공 & 분석 결과 도출\n",
        "\n",
        "## 1. 네이버 오픈 api를 이용한 뉴스 기사 title 확인 - 한국의 제조업과 관련된 이슈 확인\n",
        "  "
      ]
    },
    {
      "cell_type": "code",
      "metadata": {
        "scrolled": true,
        "id": "6qFVOAn4OWDB",
        "outputId": "c83eda2d-59ba-4eeb-ffed-c80b881ef362"
      },
      "source": [
        "# 네이버 검색 API예제는 블로그를 비롯 전문자료까지 호출방법이 동일하므로 blog검색만 대표로 예제를 올렸습니다.\n",
        "# 네이버 검색 Open API 예제 - 블로그 검색\n",
        "import urllib.request\n",
        "import json\n",
        "client_id = \"v7SSqhvGdNlOWhoNzq2i \"\n",
        "client_secret = \"lnpQKePFq8\"\n",
        "\n",
        "encText = urllib.parse.quote(\"한국 제조업\")\n",
        "\n",
        "url = \"https://openapi.naver.com/v1/search/news.json?query=\" + encText + \"&display=50\"+\"&sort=sim\"# json 결과\n",
        "request = urllib.request.Request(url)\n",
        "request.add_header(\"X-Naver-Client-Id\",client_id)\n",
        "request.add_header(\"X-Naver-Client-Secret\",client_secret)\n",
        "response = urllib.request.urlopen(request)\n",
        "rescode = response.getcode()\n",
        "if(rescode==200):\n",
        "    response_body = response.read()\n",
        "    #print(response_body.decode('utf-8'))\n",
        "    response_bodyJson=json.loads(response_body)\n",
        "    for i in range(0,50):\n",
        "        print (\"<\",clean_text(response_bodyJson['items'][i]['title']),\">\",\"\\n\")\n",
        "        print (\" \",clean_text(response_bodyJson['items'][i]['description']),\"\\n\")\n",
        "else:\n",
        "    print(\"Error Code:\" + rescode)\n",
        "    "
      ],
      "execution_count": null,
      "outputs": [
        {
          "output_type": "stream",
          "text": [
            "< 울산 제조업 연계 신성장동력 육성 인구 유입 촉진·이탈 방지를 > \n",
            "\n",
            "  이에 따라 한국은행은 기존 주력 제조업과 연계한 신성장동력 육성 미래 성장 전략 산업 발굴 등을 통해 악화된 고용 상황을 적극 개선해야 한다고 지적했다 기존 주력 제조업과 연계한 신성장동력을 육성하고 미래  \n",
            "\n",
            "< 30대그룹 종업원 4년간 7만9000명 늘어…제조업이 절반 > \n",
            "\n",
            "  금융 및 보험업은 30대 그룹에 농협 한국투자금융 교보생명보험 등 3개 금융그룹이 신규진입한 영향으로 종업원수가 증가했다지난해 30대 그룹 총 근로자 135만4731명 가운데 제조업 비중이 47864만7917명로  \n",
            "\n",
            "< 30대 그룹 종업원 4년간 62 늘어…제조업↓ 사업지원서비스업↑ > \n",
            "\n",
            "  금융·보험업은 30대 그룹에 농협과 한국투자금융이 2016년 그리고 교보생명보험이 2017년 각각 신규진입하면서 종업원수 증가로 이어진 것으로 나타났다 제조업은 2018년 30대 그룹 총근로자135만4731명 중 478  \n",
            "\n",
            "< 美연구소 작년 환율 조작국 한국은 제외 > \n",
            "\n",
            "  한국 중국 일본 스웨덴 이스라엘 대만 등 제조업 수출국 중에서는 환율조작국이 한 군데도 지목되지 않았다 는 한국 대만 이스라엘이 지난 3년간 외화자산 순매수액이 와 비교할 때 평균 1∼2에 달해  \n",
            "\n",
            "< 美연구소 글로벌 환율조작 21세기 들어 최저…한국도 무혐의 > \n",
            "\n",
            "  미국 정부가 환율조작에 대한 관세부과를 추진하는 상황에서 나온 권위 있는 연구소의 분석 결과인데 수출 의존도가 높은 제조업 국가로서 의심을 받아온 한국은 조작국 오명을 피했다 미국의 비영리·초당파  \n",
            "\n",
            "< 윤종원 수석 “제조업 르네상스 전략 이달 발표” > \n",
            "\n",
            "  교역과 제조업 활동이 예상보다 크게 위축되고 있다며 이같이 밝혔다 윤 수석은 경기 하방 추세의 원인과 화폐개혁 추진 가능성에 대해서는 우선 제가 검토한 바가 없고 경제부총리도 그렇게 말했다며 한국은행  \n",
            "\n",
            "< 한경연 30대 그룹 종업원 4년 만에 62 증가제조업은 감소 > \n",
            "\n",
            "  종업원 수가 가장 많이 증가한 업종은 사업시설 관리 및 사업지원서비스업이었고 제조업은 조선과 철강의 구조조정 영향으로 종업원 수가 감소했다 전국경제인연합회 산하 한국경제연구원은 9일  \n",
            "\n",
            "< 윤종원 靑경제수석 “기축통화 없는 한국 경상수지 흑자 기조 이어가야” > \n",
            "\n",
            "  그러면서도 대외여건에 민감한 한국 경제의 특성상 미래는 불투명하다는 입장이다 특히 대외여건이 그는 “세계 경기가 하락세를 나타내고 있는 가운데 특히 통상마찰로 글로벌 교역과 제조업 활동이 예상보다 크게  \n",
            "\n",
            "< 美연구소 “글로벌 환율조작 21세기 들어 최저…한국도 무혐의” > \n",
            "\n",
            "  한국과 중국 일본 독일 등 주요 제조업 수출국들은 미국 정부로부터 환율조작의 의심을 받고 있다 는 “재무부가 환율조작 추세를 감지하는 데 있어 다소 어긋나는 기준을 쓰고 있다”며 환율조작국을  \n",
            "\n",
            "< 현대硏 한국경제 지금이 바닥···과감한 통화·재정 절실 > \n",
            "\n",
            "  특히 제조업은 평균가동률이 2월 703에서 4월 726로 올라오며 반등신호가 나타나고 있다 서비스업 생산증가율은 4월 15를 기록하며 경기수축을 방어하는 역할을 하고 있다 현대연은 한국경기가 수축국면이나  \n",
            "\n",
            "< 美연구소 2018 환율조작국은 싱가포르·노르웨이·마카오한국·중국은 무혐 > \n",
            "\n",
            "  는 제조업 국가 중 한국 대만 이스라엘이 지난 3년간 외화자산 순매수액이 의 12 수준으로 기준에 근접했지만 환율을 조작했다고 보기에는 힘들다고 설명했다 미국으로부터 끊임없이 환율조작국 비난을  \n",
            "\n",
            "< 철강협회 “제철소 고로 조업정지는 제조업 위기 직결” > \n",
            "\n",
            "  철강산업 韓 제조업 엔진… 고로 정비시 일시적 안전벨브 개방 필수 조성우기자5655 기사입력 20190607 020324 ▲ 최정우 한국철경협회 회장 사진스카이데일리  한국철강협회이하·철강협회가 포스코  \n",
            "\n",
            "< 작년 글로벌 환율조작 21세기 들어 최저“한국 환율조작국 아냐” > \n",
            "\n",
            "  한국과 중국 일본 독일 등 주요 제조업 수출국들은 미국 정부로부터 환율조작의 의심을 받고 있다 미 재무부는 지난달 28일 발표한 보고서에서 이들을 포함한 9개국을 환율조작국의 전 단계인 관찰대상국 명단에  \n",
            "\n",
            "< 울산시 ‘2019년 광업제조업조사’ 실시 > \n",
            "\n",
            "  한편 광업제조업조사는 광업제조업 부문에 대한 구조 분포 및 산업활동 실태를 파악해 경제정책 수립 및 관련 산업의 연구 분석에 필요한 기초자료로 제공되며 1968년 한국산업은행에서 처음 실시한 후 올해  \n",
            "\n",
            "< 울산소식시 2019년 광업·제조업 조사 등 > \n",
            "\n",
            "  한편 광업·제조업조사는 광업제조업 부문에 대한 구조 분포 및 산업활동 실태를 파악해 경제정책 수립 및 관련 산업의 연구 분석에 필요한 기초자료로 제공된다 1968년 한국산업은행에서 처음 펼친 후 올해 42회째  \n",
            "\n",
            "< 미중 무역전쟁 치킨게임으로 치달아···베트남 등 ‘어부지리’ 한국시 > \n",
            "\n",
            "  10년 전 휴대전화 생산 거점을 한국의 구미에서 베트남 북부 박닌성으로 옮긴 삼성전자는 지난해 12월 중국 휴대전화 공장 2곳 중 1곳을 폐쇄했다 이에 베트남이 ‘제조업의 메카’로 불리는 중국 광둥 지역을 대체할  \n",
            "\n",
            "< 환율조작국  보고서 한국 중국 일본 대만 면죄부… 다음주 원달러환율 코 > \n",
            "\n",
            "  한국 중국 일본 스웨덴 이스라엘 대만 등 제조업 수출국 중에서는 환율조작국이 한 군데도 지목되지 않았다  환율보고서는 다음주 원달러환율 코스피 코스닥에 변수가 될 것으로 보인다 \n",
            "\n",
            "< 울산시 12일부터 광업·제조업 조사 > \n",
            "\n",
            "  한편 광업ㆍ제조업조사는 광업ㆍ제조업 부문에 대한 구조 분포 및 산업활동 실태를 파악해 경제정책 수립 및 관련 산업의 연구 분석에 필요한 기초자료로 제공되며 1968년 한국산업은행에서 처음 실시한 후 올해  \n",
            "\n",
            "< 한국은행 울산본부 제조업 연게한 수소산업 육성·미래형 자동차 시스템 개발 > \n",
            "\n",
            "  더욱이 고용안정성과 임금보상 측면에서 질적으로 좋은 일자리가 많은 제조업 근로자 비중이 즐어 들고 제조업 여건도 나빠지면서 울산지역의 전반적인 고용의 질이 저하되고 있다고 한국은행 울산본부는 평가했다  \n",
            "\n",
            "< 울산시 ‘2019년 광업·제조업조사’ 실시 > \n",
            "\n",
            "  한편 광업ㆍ제조업조사는 광업제조업 부문에 대한 구조 분포 및 산업활동 실태를 파악해 경제정책 수립 및 관련 산업의 연구 분석에 필요한 기초자료로 제공되며 1968년 한국산업은행에서 처음 실시한 후 올해  \n",
            "\n",
            "< 지자체와 환경단체가 산업의 쌀 생산 고로 가동을 멈추려 하는 깊은 속뜻  > \n",
            "\n",
            "  철강기업들의 모임인 한국철강협회는 7일 고로 조업정지 처분 관련 설명자료를 내고 대국민 호소에 철강협회는  산업의 쌀 철강은 대한민국 제조업의 핵심 엔진이라면서 산업 생태계를 고려할 때 철강생산이  \n",
            "\n",
            "< 제조업 현장에 로봇 도입된다 > \n",
            "\n",
            "  ㈜시아스 인팩이피엠㈜ ㈜동하정밀 등 충북 도내 중소기업 제조업 현장에 로봇이 도입된다 충북지방중소벤처기업청은 중소벤처기업부가 주관하고 한국로봇산업진흥원이 관리하는 로봇활용 제조혁신지원 사업 공모에  \n",
            "\n",
            "< 울산시 2019년 광업·제조업조사 실시 > \n",
            "\n",
            "  한편 광업·제조업조사는 광업제조업 부문에 대한 구조 분포 및 산업활동 실태를 파악해 경제정책 수립 및 관련 산업의 연구 분석에 필요한 기초자료로 제공되며 지난 1968년 한국산업은행에서 처음 실시한 후 올해  \n",
            "\n",
            "< 울산시 2019년 광업·제조업조사 실시 > \n",
            "\n",
            "  한편 광업·제조업조사는 광업제조업 부문에 대한 구조 분포 및 산업활동 실태를 파악해 경제정책 수립 및 관련 산업의 연구 분석에 필요한 기초자료로 제공되며 지난 1968년 한국산업은행에서 처음 실시한 후  \n",
            "\n",
            "< “한국인은 뭐니뭐니 해도 밥심”… 지구촌도 ‘쌀’ 홀릭 안젤라의 푸드트립 > \n",
            "\n",
            "  전세계 쌀의 기원  한국 소로리 볍씨  즉석죽·쌀시리얼…  한끼 간편식 인기 어릴 적 학교를 마치고 집에 쌀가공식품협회에 따르면 쌀 소비량이 많은 업종은 2018년 기준 떡류 제조업이 17만2317으로 1위이고 도시락  \n",
            "\n",
            "< 제조업 혁신으로 한국 위상 되찾을까 산업방송 채널 ‘심층이슈 더팩트’ > \n",
            "\n",
            "  먼저 진행자인 홍석우 전 장관이 “과거 한국의 고속성장을 이끈 제조업이 위기”라고 운을 떼며 “우리나라는 제조업이 나라경제에 큰 비중을 차지하고 있는 제조업 중심 국가인 만큼 위기 극복 방안이 절실하다”  \n",
            "\n",
            "< 생생경제 취준생경단녀에게 300만원 주는 한국형실업부조 일자리 창출에  > \n",
            "\n",
            "  산업혁명이라든지 제조업의 위기 상황 이런 상황에서 더구나 적극적인 사업 재편과 적극적인 노동시장 정책이 필요하다 구조를 바꾸는 정책 노동시장 사업 재편 정책 그리고 그것을 뒷받침할 수 있는 이런 한국형  \n",
            "\n",
            "< 울산시 ‘2019년 광업제조업조사’ 실시 > \n",
            "\n",
            "  한편 광업제조업조사는 광업제조업 부문에 대한 구조 분포 및 산업활동 실태를 파악해 경제정책 수립 및 관련 산업의 연구 분석에 필요한 기초자료로 제공되며 1968년 한국산업은행에서 처음 실시한 후 올해  \n",
            "\n",
            "< 생생경제 취준생경단녀에게 300만원 주는 한국형실업부조 일자리 창출에  > \n",
            "\n",
            "  산업혁명이라든지 제조업의 위기 상황 이런 상황에서 더구나 적극적인 사업 재편과 적극적인 노동시장 정책이 필요하다 구조를 바꾸는 정책 노동시장 사업 재편 정책 그리고 그것을 뒷받침할 수 있는 이런 한국형  \n",
            "\n",
            "< 트럼프 무역전쟁으로 세계 제조업 위축 단계 진입 > \n",
            "\n",
            "  특히 중국과 한국의 제조업 는 50 이하를 기록하고 있다 세계 제조업 경기가 위축된 가장 큰 원인은 무역전쟁이다 트럼프 미 행정부가 중국과 유럽 멕시코 인도 등과 무역 마찰을 빚으면서 경제 활동이 급속히  \n",
            "\n",
            "< 독일·일본·중국·한국 제조업 일제히 위축 > \n",
            "\n",
            "  한국 한국 제조업 기업의 부정적 기류는 상대적으로 강했다 제조업 부문이 2012년 이래 대부분 위축세였기 때문이다 닛케이 한국 제조업 에 따르면 5월 484포인트로 전달 약간의 확장세에서 크게 위축됐다  \n",
            "\n",
            "< 이천시 2018년 기준 광업·제조업 조사 > \n",
            "\n",
            "  1968년 한국산업은행에서 처음 실시한 후 올해로 42회째를 맞는 광업·제조업 조사는 2018년 12월31일을 기준으로 사업체명 조직형태 종사자수 및 연간 급여액 매출액 영업비용 등 사업체 경영과 관련된 13개 항목을  \n",
            "\n",
            "< 이천시 2018년 기준 광업·제조업 조사 실시 > \n",
            "\n",
            "  지난 1968년 한국산업은행에서 처음 실시 한 후 올해로 42회째를 맞는 광업·제조업 조사는 2018년 12월31일을 기준으로 사업체명 조직형태 종사자수 및 연간 급여액 매출액 영업비용 등 사업체 경영과 관련된 13개  \n",
            "\n",
            "< 가전한국의 기막힌 현실…   는 없다 > \n",
            "\n",
            "  전통 제조업의 생산 기지 해외 이전은 한층 더 가팔라질 전망이다 3일 업계에 따르면 삼성전자와 전자의 실제로 일본의 시장조사업체인 후지키메라에 따르면 지난해 한국 가전업체의 주요 품목별 해외 생산  \n",
            "\n",
            "< 제조업에서 문화콘텐츠업으로…신보 보증정책 무게중심 이동 > \n",
            "\n",
            "  뉴스토마토  최홍 기자  신용보증기금이 전통적 제조업만 지원하는 보증방식에서 벗어나 문화콘텐츠업에도 앞서 신보는 한국콘텐츠진흥원과 업무협약을 체결한 바 있다 두 기관은 콘텐츠 금융에 대한 평가 기준을  \n",
            "\n",
            "< 이천시 오는 7월 16일까지 ‘광업·제조업조사’ 실시 > \n",
            "\n",
            "  1968년 한국산업은행에서 처음 실시 한 후 올해로 42회째를 맞는 광업·제조업 조사는 지난 2018년 12월 31일을 기준으로 사업체명 조직형태 종사자수 및 연간 급여액 매출액 영업비용 등 사업체 경영과 관련된 13개  \n",
            "\n",
            "< 경산시 2018년 기준 광업·제조업 조사 실시 > \n",
            "\n",
            "  1968년 한국산업은행에서 처음 실시 후 올해 42회째를 맞은 광업·제조업 조사는 2018년 12월 31일을 기준으로 사업체명 조직 형태 종사자수 및 연간 급여액 매출액 영업비용 등 13개 항목을  \n",
            "\n",
            "< 이천시 2018년 기준 광업·제조업 조사 실시 > \n",
            "\n",
            "  지난 1968년 한국산업은행에서 첫 실시 후 올해로 42회째를 맞는 광업·제조업 조사는 지난해 12월 31일을 기준으로 사업체명 조직형태 종사자수 및 연간 급여액 매출액 영업비용 등 사업체 경영과 관련된 13개 항목을  \n",
            "\n",
            "< 미국중국 무역분쟁 결국 한국에도 파편 튀었다 > \n",
            "\n",
            "  그 밖에 미국을 비롯한 제조업 도 최근 회복세에서 주춤한 흐름을 보이며 경기참가자의 심리가 위축되고 한국투자증권의 정희성 연구원은 “미중 무역분쟁은 직간접적으로 글로벌 경기 하방압력을 높이는  \n",
            "\n",
            "< 정승일 차관 철강소재 혁신해 전방 제조업 활력제고 선도해야 > \n",
            "\n",
            "  이날 행사에는 최정우 한국철강협회 회장 안동일 현대제철 사장 장세욱 동국제강 부회장 이순형 둔화 제조업의 철강절감형 제조기술로의 전환 등으로 하강 국면에 진입해 새로운 변곡점에 도달했다라고  \n",
            "\n",
            "< 최악 치닫는 車·조선 노조사태…한국 제조업이 위험하다 > \n",
            "\n",
            "  김기찬 가톨릭대학교 경영학부 교수는 현재 한국 제조업의 노사관계는 과거 성장 시대의 노사관계를 그대로 이어온 구조라며 이제는 저성장 경제에 맞춰 노사관계의 패러다임도 일거리를 늘리는 방향으로 변화해야  \n",
            "\n",
            "< 아시아 제조업경기 부진…한국·일본·대만 위축 > \n",
            "\n",
            "  시장 정보업체  마킷이 3일 발표한 5월 닛케이 한국 제조업 구매관리자지수는 484로 2월472이후 3개월만에 최저를 기록했다 가 50을 넘으면 경기 확장을 50을 넘지 못하면 경기 위축을 뜻한다 이 지수는  \n",
            "\n",
            "< 한국경제 어제·오늘·내일 제2 한강 기적은 위기극복에서 나온다 > \n",
            "\n",
            "  그동안 한국경제의 눈부신 성장을 주도해온 전통 제조업 위주의 성장 전략이 한계에 봉착하고 있다 더 이상 과거 경제성장의 관행이나 가치관에 머물러서는 한국경제의 미래를 기약할 수 없다 신산업으로의  \n",
            "\n",
            "< 세계 제조업 경기 둔화 뚜렷…5월  6년반래 최저 > \n",
            "\n",
            "  글로벌 시장조사업체 마킷이 발표한 5월 글로벌 제조업 구매관리자지수 가 498로 나타났습니다 4로 37 포인트 낮아졌습니다 또 한국과 대만은 484 일본은 498로 모두 50을 밑돌았습니다 \n",
            "\n",
            "< 세계 제조업 경기 둔화 뚜렷…5월  6년반래 최저 > \n",
            "\n",
            "  한국과 대만은 484 일본은 498로 모두 50을 밑돌았다 제조업은 세계 경기순환의 출발점이 되는 경우가 많다 개인소비에 비해 변동이 큰데다 서비스와 달리 무역을 통해 세계의 경제활동과 연동되기 쉽기  \n",
            "\n",
            "< 걸음마 뗀 스마트제조 한국형 전략 시급  > \n",
            "\n",
            "  이에 따라 장기적이고 구조적인 관점에서 제조업 경쟁력 제고를 위한 한국형 스마트 제조전략 수립이 필요한 것으로 지적됐다 산업연구원이 최근 발표한 하노버 메세  2019를 통해 본 한국형 스마트 제조전략  \n",
            "\n",
            "< 도내 제조업 경기전망 ‘흐림’ > \n",
            "\n",
            "  5월 경남지역 제조업 업황판단을 나타내는 업황가 73으로 전월대비 2 하락한 것으로 나타났다 1일 한국은행은 ‘2019년 5월 경남지역 기업경기조사 결과’를 통해 이같이 밝혔다 대기업86→79은 7  \n",
            "\n",
            "< 美 정부 희토류 자급자족 체계 구축…한국 등 동맹국과 협력 > \n",
            "\n",
            "  일본 한국과 협력ㆍ공조를 계속 확대해야 한다고 밝혔다 교류 분야로는 ▲중대 광물자원의 확인과 탐색 ▲중대 광물의 가공과 재활용 ▲공급 리스크 완화와 공급사슬 교란 방지 ▲중대 광물과 제조업에 대한 연구개발  \n",
            "\n",
            "< 세계 제조업 경기 둔화 뚜렷…5월  6년반래 최저 > \n",
            "\n",
            "  한국과 대만은 484 일본은 498로 모두 50을 밑돌았다 제조업은 세계 경기순환의 출발점이 되는 경우가 많다 개인소비에 비해 변동이 큰데다 서비스와 달리 무역을 통해 세계의 경제활동과 연동되기 쉽기  \n",
            "\n",
            "< 제조업 脫한국 유턴기업 못 잡으면 제조업 미래 없다 > \n",
            "\n",
            "  이 관계자는 제조기업을 한국으로 끌어들이기 위해서는 보다 파격적인 규제 완화 정책을 펼쳐야 한다 제조업이 붕괴되면 경제의 동력은 멈출 수 밖에 없다고 덧붙였다 \n",
            "\n"
          ],
          "name": "stdout"
        }
      ]
    },
    {
      "cell_type": "markdown",
      "metadata": {
        "id": "v68TakgtOWDC"
      },
      "source": [
        "<strong> 데이터 분석 결과 </strong><br>\n",
        "현재 <span style=\"color:red\">눈에 띄는 기사는 \"제조업 고용률 악화, 제조업 혁신 필요, 스마트 공장, 제조업 르네상스\" 등과 같은 기사  </span> 가 눈에 띈다. 현재 네이버에 \"한국 제조업\"과 관련되서 뉴스기사를 검색하면 물론 전국적으로 제조업 조사를 실시한다는 뉴스도 많지만 현재 2019-06-09를 기준으로 검색해본 결과는 제조업에 대한 부정적인 기사가 많다. 즉, 뉴스를 대략적으로 살펴보면 <span style=\"color:red\">\"한국은 장기적이고 구조적인 관점에서 제조업 경쟁력 제고를 위한 스마트 제조 전략 수립이 필요하다\"</span>라는 결론을 내릴 수 있겠다. 단순히 뉴스 title 및 요약부분으로 한국 제조업 현황에 대해 훑어보았으니 이제는 여러 부분에서 한국 제조업 영향을 주는 것을 확인하고 해당 데이터를 받아와 분석해 한국이 세계 제조업에서 어느 정도의 경쟁력을 가지는 지 확인하고 어느 부분이 매우 위축되었는지 확인하겠다. "
      ]
    },
    {
      "cell_type": "markdown",
      "metadata": {
        "id": "eAmIix5UOWDC"
      },
      "source": [
        "## 2. 여러 부분에서 제조업 강국과 한국 제조업 비교 및 현황 분석\n",
        "\n",
        "### 1. 한국의 <span style=\"color:red\"> 거시지표(제조업이 차지하는 비중) </span> 부분 "
      ]
    },
    {
      "cell_type": "markdown",
      "metadata": {
        "id": "jP7OIDjeOWDC"
      },
      "source": [
        "1) <strong> 대한민국 국민의 국민총생산(GDP)대비 제조업의 부가가치 </strong><br>\n",
        "여기서 부가가치율이란 일정기간 안에 창출된 부가가치액을 총매출액으로 나누어 계산한 비율로 비율이 높을수록 경제에 대한 기여도가 크다는 의미다.<br> 현재 제조업에서 큰 경쟁력을 보여주고 있는 6개의 나라에 대해 현재 GDP에 따른 제조업 비중 및 제조업 수출 비중에 대한 데이터를 분석할 것이다.<br> 해당 6개의 나라는 <중국, 미국, 독일, 한국, 영국, 일본> 6개의 나라에 대한 데이터를 뽑아서 보여주기로 하였다.<br>\n",
        "국가통계포털: http://data.worldbank.org/indicator/NV.IND.MANF.CD?year_high_desc=true<br>"
      ]
    },
    {
      "cell_type": "code",
      "metadata": {
        "id": "aKvj5QGZOWDC",
        "outputId": "1ddb1775-de4f-489d-9ab0-46f86000e8e6"
      },
      "source": [
        "import pandas as pd\n",
        "import numpy as np\n",
        "import re\n",
        "from plotnine import *\n",
        "import matplotlib.pyplot as plt\n",
        "from matplotlib.pyplot import figure\n",
        "figure(num=None, figsize=(8, 6), dpi=80, facecolor='w', edgecolor='k')"
      ],
      "execution_count": null,
      "outputs": [
        {
          "output_type": "execute_result",
          "data": {
            "text/plain": [
              "<Figure size 640x480 with 0 Axes>"
            ]
          },
          "metadata": {
            "tags": []
          },
          "execution_count": 3
        }
      ]
    },
    {
      "cell_type": "code",
      "metadata": {
        "id": "H2rm6dReOWDC"
      },
      "source": [
        "from ctypes import windll, Structure, c_short, c_ushort, byref\n",
        "from matplotlib import font_manager, rc\n",
        "font_name = font_manager.FontProperties(fname=\"c:/Windows/Fonts/malgun.ttf\").get_name()\n",
        "rc('font', family=font_name)"
      ],
      "execution_count": null,
      "outputs": []
    },
    {
      "cell_type": "code",
      "metadata": {
        "scrolled": true,
        "id": "C0jB4H_zOWDD",
        "outputId": "9d80c8e3-3078-4a71-d613-f9df71851034"
      },
      "source": [
        "GrossDomesticProduct_manufacturing = pd.read_csv('Manufacturing, value added (% of GDP).csv', encoding='utf-8')\n",
        "print(GrossDomesticProduct_manufacturing.shape)\n",
        "GrossDomesticProduct_manufacturing.head()"
      ],
      "execution_count": null,
      "outputs": [
        {
          "output_type": "stream",
          "text": [
            "(264, 22)\n"
          ],
          "name": "stdout"
        },
        {
          "output_type": "execute_result",
          "data": {
            "text/html": [
              "<div>\n",
              "<style scoped>\n",
              "    .dataframe tbody tr th:only-of-type {\n",
              "        vertical-align: middle;\n",
              "    }\n",
              "\n",
              "    .dataframe tbody tr th {\n",
              "        vertical-align: top;\n",
              "    }\n",
              "\n",
              "    .dataframe thead th {\n",
              "        text-align: right;\n",
              "    }\n",
              "</style>\n",
              "<table border=\"1\" class=\"dataframe\">\n",
              "  <thead>\n",
              "    <tr style=\"text-align: right;\">\n",
              "      <th></th>\n",
              "      <th>Country Name</th>\n",
              "      <th>Country Code</th>\n",
              "      <th>Indicator Name</th>\n",
              "      <th>Indicator Code</th>\n",
              "      <th>2000</th>\n",
              "      <th>2001</th>\n",
              "      <th>2002</th>\n",
              "      <th>2003</th>\n",
              "      <th>2004</th>\n",
              "      <th>2005</th>\n",
              "      <th>...</th>\n",
              "      <th>2008</th>\n",
              "      <th>2009</th>\n",
              "      <th>2010</th>\n",
              "      <th>2011</th>\n",
              "      <th>2012</th>\n",
              "      <th>2013</th>\n",
              "      <th>2014</th>\n",
              "      <th>2015</th>\n",
              "      <th>2016</th>\n",
              "      <th>2017</th>\n",
              "    </tr>\n",
              "  </thead>\n",
              "  <tbody>\n",
              "    <tr>\n",
              "      <th>0</th>\n",
              "      <td>Aruba</td>\n",
              "      <td>ABW</td>\n",
              "      <td>Manufacturing, value added (% of GDP)</td>\n",
              "      <td>NV.IND.MANF.ZS</td>\n",
              "      <td>3.922194</td>\n",
              "      <td>3.855979</td>\n",
              "      <td>3.842590</td>\n",
              "      <td>3.718353</td>\n",
              "      <td>3.397593</td>\n",
              "      <td>3.272531</td>\n",
              "      <td>...</td>\n",
              "      <td>2.839438</td>\n",
              "      <td>3.141739</td>\n",
              "      <td>NaN</td>\n",
              "      <td>NaN</td>\n",
              "      <td>NaN</td>\n",
              "      <td>NaN</td>\n",
              "      <td>NaN</td>\n",
              "      <td>NaN</td>\n",
              "      <td>NaN</td>\n",
              "      <td>NaN</td>\n",
              "    </tr>\n",
              "    <tr>\n",
              "      <th>1</th>\n",
              "      <td>Afghanistan</td>\n",
              "      <td>AFG</td>\n",
              "      <td>Manufacturing, value added (% of GDP)</td>\n",
              "      <td>NV.IND.MANF.ZS</td>\n",
              "      <td>NaN</td>\n",
              "      <td>NaN</td>\n",
              "      <td>18.822752</td>\n",
              "      <td>16.923866</td>\n",
              "      <td>17.554006</td>\n",
              "      <td>16.598212</td>\n",
              "      <td>...</td>\n",
              "      <td>17.839116</td>\n",
              "      <td>13.149877</td>\n",
              "      <td>12.522577</td>\n",
              "      <td>13.779189</td>\n",
              "      <td>12.486085</td>\n",
              "      <td>11.499867</td>\n",
              "      <td>11.477588</td>\n",
              "      <td>11.420006</td>\n",
              "      <td>11.370465</td>\n",
              "      <td>11.102526</td>\n",
              "    </tr>\n",
              "    <tr>\n",
              "      <th>2</th>\n",
              "      <td>Angola</td>\n",
              "      <td>AGO</td>\n",
              "      <td>Manufacturing, value added (% of GDP)</td>\n",
              "      <td>NV.IND.MANF.ZS</td>\n",
              "      <td>2.890163</td>\n",
              "      <td>3.873101</td>\n",
              "      <td>3.661826</td>\n",
              "      <td>3.999814</td>\n",
              "      <td>4.681937</td>\n",
              "      <td>3.912884</td>\n",
              "      <td>...</td>\n",
              "      <td>3.461737</td>\n",
              "      <td>5.109422</td>\n",
              "      <td>4.541774</td>\n",
              "      <td>4.167805</td>\n",
              "      <td>4.403290</td>\n",
              "      <td>4.827343</td>\n",
              "      <td>4.763072</td>\n",
              "      <td>5.685145</td>\n",
              "      <td>6.752681</td>\n",
              "      <td>6.580550</td>\n",
              "    </tr>\n",
              "    <tr>\n",
              "      <th>3</th>\n",
              "      <td>Albania</td>\n",
              "      <td>ALB</td>\n",
              "      <td>Manufacturing, value added (% of GDP)</td>\n",
              "      <td>NV.IND.MANF.ZS</td>\n",
              "      <td>4.317846</td>\n",
              "      <td>4.099040</td>\n",
              "      <td>4.066543</td>\n",
              "      <td>4.124160</td>\n",
              "      <td>4.177557</td>\n",
              "      <td>4.425844</td>\n",
              "      <td>...</td>\n",
              "      <td>4.997798</td>\n",
              "      <td>5.197581</td>\n",
              "      <td>5.452125</td>\n",
              "      <td>5.661898</td>\n",
              "      <td>4.614458</td>\n",
              "      <td>5.059801</td>\n",
              "      <td>5.325789</td>\n",
              "      <td>5.671519</td>\n",
              "      <td>5.661952</td>\n",
              "      <td>5.983182</td>\n",
              "    </tr>\n",
              "    <tr>\n",
              "      <th>4</th>\n",
              "      <td>Andorra</td>\n",
              "      <td>AND</td>\n",
              "      <td>Manufacturing, value added (% of GDP)</td>\n",
              "      <td>NV.IND.MANF.ZS</td>\n",
              "      <td>3.636644</td>\n",
              "      <td>3.384146</td>\n",
              "      <td>3.409517</td>\n",
              "      <td>3.628835</td>\n",
              "      <td>3.678343</td>\n",
              "      <td>3.455718</td>\n",
              "      <td>...</td>\n",
              "      <td>3.551403</td>\n",
              "      <td>3.455605</td>\n",
              "      <td>3.706262</td>\n",
              "      <td>3.626091</td>\n",
              "      <td>3.372283</td>\n",
              "      <td>3.222087</td>\n",
              "      <td>3.176860</td>\n",
              "      <td>3.245211</td>\n",
              "      <td>3.204041</td>\n",
              "      <td>NaN</td>\n",
              "    </tr>\n",
              "  </tbody>\n",
              "</table>\n",
              "<p>5 rows × 22 columns</p>\n",
              "</div>"
            ],
            "text/plain": [
              "  Country Name Country Code                         Indicator Name  \\\n",
              "0        Aruba          ABW  Manufacturing, value added (% of GDP)   \n",
              "1  Afghanistan          AFG  Manufacturing, value added (% of GDP)   \n",
              "2       Angola          AGO  Manufacturing, value added (% of GDP)   \n",
              "3      Albania          ALB  Manufacturing, value added (% of GDP)   \n",
              "4      Andorra          AND  Manufacturing, value added (% of GDP)   \n",
              "\n",
              "   Indicator Code      2000      2001       2002       2003       2004  \\\n",
              "0  NV.IND.MANF.ZS  3.922194  3.855979   3.842590   3.718353   3.397593   \n",
              "1  NV.IND.MANF.ZS       NaN       NaN  18.822752  16.923866  17.554006   \n",
              "2  NV.IND.MANF.ZS  2.890163  3.873101   3.661826   3.999814   4.681937   \n",
              "3  NV.IND.MANF.ZS  4.317846  4.099040   4.066543   4.124160   4.177557   \n",
              "4  NV.IND.MANF.ZS  3.636644  3.384146   3.409517   3.628835   3.678343   \n",
              "\n",
              "        2005    ...           2008       2009       2010       2011  \\\n",
              "0   3.272531    ...       2.839438   3.141739        NaN        NaN   \n",
              "1  16.598212    ...      17.839116  13.149877  12.522577  13.779189   \n",
              "2   3.912884    ...       3.461737   5.109422   4.541774   4.167805   \n",
              "3   4.425844    ...       4.997798   5.197581   5.452125   5.661898   \n",
              "4   3.455718    ...       3.551403   3.455605   3.706262   3.626091   \n",
              "\n",
              "        2012       2013       2014       2015       2016       2017  \n",
              "0        NaN        NaN        NaN        NaN        NaN        NaN  \n",
              "1  12.486085  11.499867  11.477588  11.420006  11.370465  11.102526  \n",
              "2   4.403290   4.827343   4.763072   5.685145   6.752681   6.580550  \n",
              "3   4.614458   5.059801   5.325789   5.671519   5.661952   5.983182  \n",
              "4   3.372283   3.222087   3.176860   3.245211   3.204041        NaN  \n",
              "\n",
              "[5 rows x 22 columns]"
            ]
          },
          "metadata": {
            "tags": []
          },
          "execution_count": 43
        }
      ]
    },
    {
      "cell_type": "code",
      "metadata": {
        "id": "RUsYCWgIOWDD",
        "outputId": "605c7166-0188-45f4-9683-a2472f85a70f"
      },
      "source": [
        "Country=['WLD','CHN','DEU','GBR','JPN','KOR','USA']\n",
        "Year=[]\n",
        "GrossDomesticProduct_manufacturing_topgroup=np.empty((len(Country),8),float)\n",
        "for i in range(2010,2018):\n",
        "    Year.append(i)\n",
        "    \n",
        "for i in range(0,len(GrossDomesticProduct_manufacturing['Country Code'])-4):\n",
        "    for j in range(0,len(Country)):\n",
        "        if(GrossDomesticProduct_manufacturing['Country Code'][i+4]==Country[j]):\n",
        "            num=[]\n",
        "            for k in range(0,len(Year)):\n",
        "                year_=str(Year[k])\n",
        "                num.append(GrossDomesticProduct_manufacturing[year_][i+4])\n",
        "            GrossDomesticProduct_manufacturing_topgroup[j]=num\n",
        "#arr=np.array(GrossDomesticProduct_manufacturing_topgroup)\n",
        "print(GrossDomesticProduct_manufacturing_topgroup.T)\n",
        "\n",
        "df1=pd.DataFrame(GrossDomesticProduct_manufacturing_topgroup.T,index=Year,columns=Country)\n",
        "df1.plot(fontsize=18,figsize=(8,6))\n",
        "#현재 CHN - KOR - DEU - JPN - USA - GBR 현재 각 국가의 GDP 대비 한국이 제조업에서 매우 높은 부가가치 비중을 가지고 있음"
      ],
      "execution_count": null,
      "outputs": [
        {
          "output_type": "stream",
          "text": [
            "[[15.95706277 31.54309082 19.96755889  8.90072606 20.83301439 27.80118359\n",
            "  12.05914473]\n",
            " [15.8597583  31.97564254 20.56897215  8.87247909 19.665716   28.47800787\n",
            "  12.12857402]\n",
            " [15.72535407 31.42428488 20.42153387  8.74595805 19.73152426 28.1685878\n",
            "  12.09283011]\n",
            " [15.50246532 30.55346604 20.18388389  8.98590681 19.43625645 28.23869313\n",
            "  11.96423665]\n",
            " [15.53378247 30.37704711 20.46665237  8.89797999 19.73129704 27.48912524\n",
            "  11.89869691]\n",
            " [15.67574469 29.37660333 20.68546932  9.03288729 20.71923724 27.08555889\n",
            "  11.85451156]\n",
            " [15.6916226  28.81834033 21.08711132  8.9370325  21.04895237 26.78182784\n",
            "  11.54935282]\n",
            " [        nan 29.34356577 21.06015854  8.97172122         nan 27.57238289\n",
            "          nan]]\n"
          ],
          "name": "stdout"
        },
        {
          "output_type": "execute_result",
          "data": {
            "text/plain": [
              "<matplotlib.axes._subplots.AxesSubplot at 0x1b607a7a2b0>"
            ]
          },
          "metadata": {
            "tags": []
          },
          "execution_count": 44
        },
        {
          "output_type": "display_data",
          "data": {
            "image/png": "[encoded data removed]",
            "text/plain": [
              "<Figure size 576x432 with 1 Axes>"
            ]
          },
          "metadata": {
            "tags": [],
            "needs_background": "light"
          }
        }
      ]
    },
    {
      "cell_type": "markdown",
      "metadata": {
        "id": "wVT_BKNBOWDD"
      },
      "source": [
        "<strong> 데이터 분석 결과 </strong><br>\n",
        "264개 나라 GDP 대비 제조업에서의 부가가치율 통계데이터를 가지고 세계 평균 및 현재 제조업의 강국으로 불리고 있는 나라들과 비교해 그래프를 그렸습니다. 물론 이 부가가치율이 제조업 경쟁력에 영향을 크게 주는 것은 아닙니다. 이는 GDP 국민 총생산 대비이기 때문에 해당 데이터에 대해 잘 생각해보면 우리가 제조업 분야에서 종사하는 비율이 많고 제조업에 있어서 어느 정도의 큰 수익을 벌어들이고 있다는 의미입니다. 제조업 강국들과 비교했을 때 현재 중국을 뒤따라 2번째 순위에 위치해 있습니다. 결국엔 <span style=\"color:red\">우리(한국)는 제조업에 의존성이 높고 제조업 분야에서 부가가치율이 높기 때문에 해당 업종의 성장이 더딜수록 우리나라 경제에 큰 영향을 준다는 것으로 볼 수 있겠습니다. 즉, 제조업 분야에 혁신이 필요하며 우리나라의 경제 성장을 위해서는 제조업 분야 성장을 도모할 필요가 있습니다.</span>"
      ]
    },
    {
      "cell_type": "markdown",
      "metadata": {
        "id": "WyXQ7g20OWDE"
      },
      "source": [
        "### 2. 제조업<span style=\"color:red\"> 무역 </span> 부분"
      ]
    },
    {
      "cell_type": "markdown",
      "metadata": {
        "id": "BOSIdMvMOWDE"
      },
      "source": [
        "1) <strong> 한국 제조업 분야 수출 비중</strong><br>"
      ]
    },
    {
      "cell_type": "code",
      "metadata": {
        "id": "R49JoSD5OWDE",
        "outputId": "6b12fff8-8d2a-48a7-d056-8b9aebd4e681"
      },
      "source": [
        "ManufacturesExports = pd.read_csv('Manufactures exports (% of merchandise exports).csv', encoding='utf-8')\n",
        "print(ManufacturesExports.shape)\n",
        "ManufacturesExports.head()"
      ],
      "execution_count": null,
      "outputs": [
        {
          "output_type": "stream",
          "text": [
            "(264, 23)\n"
          ],
          "name": "stdout"
        },
        {
          "output_type": "execute_result",
          "data": {
            "text/html": [
              "<div>\n",
              "<style scoped>\n",
              "    .dataframe tbody tr th:only-of-type {\n",
              "        vertical-align: middle;\n",
              "    }\n",
              "\n",
              "    .dataframe tbody tr th {\n",
              "        vertical-align: top;\n",
              "    }\n",
              "\n",
              "    .dataframe thead th {\n",
              "        text-align: right;\n",
              "    }\n",
              "</style>\n",
              "<table border=\"1\" class=\"dataframe\">\n",
              "  <thead>\n",
              "    <tr style=\"text-align: right;\">\n",
              "      <th></th>\n",
              "      <th>Country Name</th>\n",
              "      <th>Country Code</th>\n",
              "      <th>Indicator Name</th>\n",
              "      <th>Indicator Code</th>\n",
              "      <th>2000</th>\n",
              "      <th>2001</th>\n",
              "      <th>2002</th>\n",
              "      <th>2003</th>\n",
              "      <th>2004</th>\n",
              "      <th>2005</th>\n",
              "      <th>...</th>\n",
              "      <th>2009</th>\n",
              "      <th>2010</th>\n",
              "      <th>2011</th>\n",
              "      <th>2012</th>\n",
              "      <th>2013</th>\n",
              "      <th>2014</th>\n",
              "      <th>2015</th>\n",
              "      <th>2016</th>\n",
              "      <th>2017</th>\n",
              "      <th>2018</th>\n",
              "    </tr>\n",
              "  </thead>\n",
              "  <tbody>\n",
              "    <tr>\n",
              "      <th>0</th>\n",
              "      <td>Aruba</td>\n",
              "      <td>ABW</td>\n",
              "      <td>Manufactures exports (% of merchandise exports)</td>\n",
              "      <td>TX.VAL.MANF.ZS.UN</td>\n",
              "      <td>NaN</td>\n",
              "      <td>NaN</td>\n",
              "      <td>NaN</td>\n",
              "      <td>NaN</td>\n",
              "      <td>NaN</td>\n",
              "      <td>24.944883</td>\n",
              "      <td>...</td>\n",
              "      <td>19.890723</td>\n",
              "      <td>13.687779</td>\n",
              "      <td>17.568783</td>\n",
              "      <td>19.143876</td>\n",
              "      <td>20.004849</td>\n",
              "      <td>26.266299</td>\n",
              "      <td>31.860494</td>\n",
              "      <td>32.485585</td>\n",
              "      <td>34.439603</td>\n",
              "      <td>NaN</td>\n",
              "    </tr>\n",
              "    <tr>\n",
              "      <th>1</th>\n",
              "      <td>Afghanistan</td>\n",
              "      <td>AFG</td>\n",
              "      <td>Manufactures exports (% of merchandise exports)</td>\n",
              "      <td>TX.VAL.MANF.ZS.UN</td>\n",
              "      <td>NaN</td>\n",
              "      <td>NaN</td>\n",
              "      <td>NaN</td>\n",
              "      <td>NaN</td>\n",
              "      <td>NaN</td>\n",
              "      <td>NaN</td>\n",
              "      <td>...</td>\n",
              "      <td>18.043297</td>\n",
              "      <td>19.626559</td>\n",
              "      <td>14.118115</td>\n",
              "      <td>16.964016</td>\n",
              "      <td>14.219336</td>\n",
              "      <td>14.721936</td>\n",
              "      <td>15.862603</td>\n",
              "      <td>6.561715</td>\n",
              "      <td>NaN</td>\n",
              "      <td>NaN</td>\n",
              "    </tr>\n",
              "    <tr>\n",
              "      <th>2</th>\n",
              "      <td>Angola</td>\n",
              "      <td>AGO</td>\n",
              "      <td>Manufactures exports (% of merchandise exports)</td>\n",
              "      <td>TX.VAL.MANF.ZS.UN</td>\n",
              "      <td>NaN</td>\n",
              "      <td>NaN</td>\n",
              "      <td>NaN</td>\n",
              "      <td>NaN</td>\n",
              "      <td>NaN</td>\n",
              "      <td>NaN</td>\n",
              "      <td>...</td>\n",
              "      <td>1.304575</td>\n",
              "      <td>1.372999</td>\n",
              "      <td>1.584217</td>\n",
              "      <td>1.192240</td>\n",
              "      <td>1.537692</td>\n",
              "      <td>1.528318</td>\n",
              "      <td>1.516498</td>\n",
              "      <td>NaN</td>\n",
              "      <td>NaN</td>\n",
              "      <td>NaN</td>\n",
              "    </tr>\n",
              "    <tr>\n",
              "      <th>3</th>\n",
              "      <td>Albania</td>\n",
              "      <td>ALB</td>\n",
              "      <td>Manufactures exports (% of merchandise exports)</td>\n",
              "      <td>TX.VAL.MANF.ZS.UN</td>\n",
              "      <td>81.659360</td>\n",
              "      <td>84.179804</td>\n",
              "      <td>84.425290</td>\n",
              "      <td>84.191320</td>\n",
              "      <td>81.514887</td>\n",
              "      <td>43.470816</td>\n",
              "      <td>...</td>\n",
              "      <td>70.145395</td>\n",
              "      <td>62.051386</td>\n",
              "      <td>60.076111</td>\n",
              "      <td>55.249097</td>\n",
              "      <td>52.293761</td>\n",
              "      <td>31.363538</td>\n",
              "      <td>52.694427</td>\n",
              "      <td>66.313112</td>\n",
              "      <td>51.372250</td>\n",
              "      <td>NaN</td>\n",
              "    </tr>\n",
              "    <tr>\n",
              "      <th>4</th>\n",
              "      <td>Andorra</td>\n",
              "      <td>AND</td>\n",
              "      <td>Manufactures exports (% of merchandise exports)</td>\n",
              "      <td>TX.VAL.MANF.ZS.UN</td>\n",
              "      <td>85.118802</td>\n",
              "      <td>89.239648</td>\n",
              "      <td>90.806922</td>\n",
              "      <td>88.892371</td>\n",
              "      <td>83.680091</td>\n",
              "      <td>67.335143</td>\n",
              "      <td>...</td>\n",
              "      <td>85.121118</td>\n",
              "      <td>92.335883</td>\n",
              "      <td>92.921083</td>\n",
              "      <td>92.462640</td>\n",
              "      <td>93.916581</td>\n",
              "      <td>92.744997</td>\n",
              "      <td>NaN</td>\n",
              "      <td>NaN</td>\n",
              "      <td>NaN</td>\n",
              "      <td>NaN</td>\n",
              "    </tr>\n",
              "  </tbody>\n",
              "</table>\n",
              "<p>5 rows × 23 columns</p>\n",
              "</div>"
            ],
            "text/plain": [
              "  Country Name Country Code                                   Indicator Name  \\\n",
              "0        Aruba          ABW  Manufactures exports (% of merchandise exports)   \n",
              "1  Afghanistan          AFG  Manufactures exports (% of merchandise exports)   \n",
              "2       Angola          AGO  Manufactures exports (% of merchandise exports)   \n",
              "3      Albania          ALB  Manufactures exports (% of merchandise exports)   \n",
              "4      Andorra          AND  Manufactures exports (% of merchandise exports)   \n",
              "\n",
              "      Indicator Code       2000       2001       2002       2003       2004  \\\n",
              "0  TX.VAL.MANF.ZS.UN        NaN        NaN        NaN        NaN        NaN   \n",
              "1  TX.VAL.MANF.ZS.UN        NaN        NaN        NaN        NaN        NaN   \n",
              "2  TX.VAL.MANF.ZS.UN        NaN        NaN        NaN        NaN        NaN   \n",
              "3  TX.VAL.MANF.ZS.UN  81.659360  84.179804  84.425290  84.191320  81.514887   \n",
              "4  TX.VAL.MANF.ZS.UN  85.118802  89.239648  90.806922  88.892371  83.680091   \n",
              "\n",
              "        2005  ...        2009       2010       2011       2012       2013  \\\n",
              "0  24.944883  ...   19.890723  13.687779  17.568783  19.143876  20.004849   \n",
              "1        NaN  ...   18.043297  19.626559  14.118115  16.964016  14.219336   \n",
              "2        NaN  ...    1.304575   1.372999   1.584217   1.192240   1.537692   \n",
              "3  43.470816  ...   70.145395  62.051386  60.076111  55.249097  52.293761   \n",
              "4  67.335143  ...   85.121118  92.335883  92.921083  92.462640  93.916581   \n",
              "\n",
              "        2014       2015       2016       2017  2018  \n",
              "0  26.266299  31.860494  32.485585  34.439603   NaN  \n",
              "1  14.721936  15.862603   6.561715        NaN   NaN  \n",
              "2   1.528318   1.516498        NaN        NaN   NaN  \n",
              "3  31.363538  52.694427  66.313112  51.372250   NaN  \n",
              "4  92.744997        NaN        NaN        NaN   NaN  \n",
              "\n",
              "[5 rows x 23 columns]"
            ]
          },
          "metadata": {
            "tags": []
          },
          "execution_count": 16
        }
      ]
    },
    {
      "cell_type": "code",
      "metadata": {
        "id": "S2OKdEWeOWDF",
        "outputId": "7b661d99-7800-47af-b3eb-1314a7221331"
      },
      "source": [
        "Country=['WLD','CHN','DEU','GBR','JPN','KOR','USA']\n",
        "Year=[]\n",
        "ManufacturesExports_topgroup=np.empty((len(Country),8),float)\n",
        "for i in range(2010,2018):\n",
        "    Year.append(i)\n",
        "    \n",
        "for i in range(0,len(ManufacturesExports['Country Code'])-4):\n",
        "    for j in range(0,len(Country)):\n",
        "        if(ManufacturesExports['Country Code'][i+4]==Country[j]):\n",
        "            num=[]\n",
        "            for k in range(0,len(Year)):\n",
        "                year_=str(Year[k])\n",
        "                num.append(ManufacturesExports[year_][i+4])\n",
        "            ManufacturesExports_topgroup[j]=num\n",
        "#arr=np.array(GrossDomesticProduct_manufacturing_topgroup)\n",
        "print(ManufacturesExports_topgroup.T)\n",
        "\n",
        "df1=pd.DataFrame(ManufacturesExports_topgroup.T,index=Year,columns=Country)\n",
        "df1.plot(fontsize=18,figsize=(8,6))\n",
        "#현재 CHN - KOR - DEU - JPN - GBR - USA  현재 각 국가의 GDP 대비 한국이 제조업에서 매우 높은 부가가치 비중을 가지고 있음\n",
        "#해당 그래프는 Korea 한국은 수출에 제조업 비중이 90%인 것을 알 수 있다. \n",
        "# 그만큼 한국에게 제조업은 매우 중요한 분야이다."
      ],
      "execution_count": null,
      "outputs": [
        {
          "output_type": "stream",
          "text": [
            "[[66.23573032 93.55065351 82.22360823 68.43903925 88.99813486 88.96672274\n",
            "  66.15530672]\n",
            " [65.34442358 93.29944475 83.23155458 63.37278404 89.09016023 85.93089545\n",
            "  63.5294613 ]\n",
            " [65.69438954 93.9343356  83.57700086 66.36867223 89.56120141 85.08230509\n",
            "  63.4280805 ]\n",
            " [64.92312047 94.0216698  83.49342628 68.63510012 88.19388238 86.23527647\n",
            "  62.3134837 ]\n",
            " [65.75846274 93.99389738 83.61747486 73.82201447 88.23685658 86.7952965\n",
            "  61.96732995]\n",
            " [68.76531089 94.36617755 84.12587157 78.00744399 88.02767017 89.65118119\n",
            "  64.1865714 ]\n",
            " [68.50211299 93.75453892 83.99887375 79.08819342 88.53924187 90.09222555\n",
            "  63.54045738]\n",
            " [71.04256917 93.5957631  85.62344802 76.73989206 88.09819167 89.45196845\n",
            "  61.92089092]]\n"
          ],
          "name": "stdout"
        },
        {
          "output_type": "execute_result",
          "data": {
            "text/plain": [
              "<matplotlib.axes._subplots.AxesSubplot at 0x1b6079afb70>"
            ]
          },
          "metadata": {
            "tags": []
          },
          "execution_count": 41
        },
        {
          "output_type": "display_data",
          "data": {
            "image/png": "[encoded data removed]",
            "text/plain": [
              "<Figure size 576x432 with 1 Axes>"
            ]
          },
          "metadata": {
            "tags": [],
            "needs_background": "light"
          }
        }
      ]
    },
    {
      "cell_type": "markdown",
      "metadata": {
        "id": "-6e6IOfkOWDG"
      },
      "source": [
        "<strong> 데이터 분석 결과 </strong><br>\n",
        "위의 GDP 대비 제조업 부가가치율과 비슷하게 제조업 무역부분에서도 비슷한 통계 결과를 보여주었습니다. 이 그래는 각 나라가 제조업 분야에 있어서 어느 정도의 수출 비중을 차지하는지에 대한 데이터를 분석한 것 입니다. 데이터 분석 결과 한국은 수출 비중이 90% 즉, 대부분을 수출에 의존하고 있다고 볼 수 있습니다. "
      ]
    },
    {
      "cell_type": "markdown",
      "metadata": {
        "id": "Q7TwYVEaOWDG"
      },
      "source": [
        "### 3. 제조업 <span style=\"color:red\"> 생산/노동 경쟁력 </span> 부분"
      ]
    },
    {
      "cell_type": "markdown",
      "metadata": {
        "id": "HXgehrnyOWDG"
      },
      "source": [
        "1) <strong> 제조업 단위노동비용 상승률 </strong><br>\n",
        " 단위노동비용은 제품을 하나 만드는데 소요되는 노동비용입니다.<br> 제조업 단위노동비용 증가율은 제조업 경쟁력 측정지표로서, 단위노동비용이 감소하면 적은 노동비용으로 같은 제품을 생산하기 때문에 경쟁력이 올라간다.<br>"
      ]
    },
    {
      "cell_type": "code",
      "metadata": {
        "id": "bULF0VkqOWDH",
        "outputId": "80af720e-8fcf-47ef-e42d-6b48d9f626cc"
      },
      "source": [
        "LaborCost_Increaserate = pd.read_csv('Labor cost increase rate in manufacturing sector.csv', encoding='utf-8')\n",
        "print(LaborCost_Increaserate.shape)\n",
        "LaborCost_Increaserate.head()"
      ],
      "execution_count": null,
      "outputs": [
        {
          "output_type": "stream",
          "text": [
            "(41, 3)\n"
          ],
          "name": "stdout"
        },
        {
          "output_type": "execute_result",
          "data": {
            "text/html": [
              "<div>\n",
              "<style scoped>\n",
              "    .dataframe tbody tr th:only-of-type {\n",
              "        vertical-align: middle;\n",
              "    }\n",
              "\n",
              "    .dataframe tbody tr th {\n",
              "        vertical-align: top;\n",
              "    }\n",
              "\n",
              "    .dataframe thead th {\n",
              "        text-align: right;\n",
              "    }\n",
              "</style>\n",
              "<table border=\"1\" class=\"dataframe\">\n",
              "  <thead>\n",
              "    <tr style=\"text-align: right;\">\n",
              "      <th></th>\n",
              "      <th>국가</th>\n",
              "      <th>2002-2009</th>\n",
              "      <th>2010-2017</th>\n",
              "    </tr>\n",
              "  </thead>\n",
              "  <tbody>\n",
              "    <tr>\n",
              "      <th>0</th>\n",
              "      <td>China</td>\n",
              "      <td>1.8</td>\n",
              "      <td>4.2</td>\n",
              "    </tr>\n",
              "    <tr>\n",
              "      <th>1</th>\n",
              "      <td>India</td>\n",
              "      <td>1.4</td>\n",
              "      <td>2.2</td>\n",
              "    </tr>\n",
              "    <tr>\n",
              "      <th>2</th>\n",
              "      <td>S.Korea</td>\n",
              "      <td>0.8</td>\n",
              "      <td>2.2</td>\n",
              "    </tr>\n",
              "    <tr>\n",
              "      <th>3</th>\n",
              "      <td>Brazil</td>\n",
              "      <td>13.2</td>\n",
              "      <td>1.7</td>\n",
              "    </tr>\n",
              "    <tr>\n",
              "      <th>4</th>\n",
              "      <td>U.S.</td>\n",
              "      <td>-2.0</td>\n",
              "      <td>1.2</td>\n",
              "    </tr>\n",
              "  </tbody>\n",
              "</table>\n",
              "</div>"
            ],
            "text/plain": [
              "        국가  2002-2009  2010-2017\n",
              "0    China        1.8        4.2\n",
              "1    India        1.4        2.2\n",
              "2  S.Korea        0.8        2.2\n",
              "3   Brazil       13.2        1.7\n",
              "4     U.S.       -2.0        1.2"
            ]
          },
          "metadata": {
            "tags": []
          },
          "execution_count": 8
        }
      ]
    },
    {
      "cell_type": "markdown",
      "metadata": {
        "id": "5Ra6qUpcOWDH"
      },
      "source": [
        "#### 제조업 단위노동비용 상승률 평균 동향"
      ]
    },
    {
      "cell_type": "code",
      "metadata": {
        "id": "E8NsDyNmOWDH",
        "outputId": "00c5cd7f-a1dc-4cf3-d198-be7efd63144f"
      },
      "source": [
        "past_AVG_LaborCost=0\n",
        "past_KOR_LaborCost=0\n",
        "for i in range(0,41):\n",
        "    past_AVG_LaborCost+=float(LaborCost_Increaserate['2002-2009'][i])\n",
        "    if(LaborCost_Increaserate['국가'][i]=='S.Korea'):\n",
        "        past_KOR_LaborCost=float(LaborCost_Increaserate['2002-2009'][i])\n",
        "past_AVG_LaborCost=past_AVG_LaborCost/41\n",
        "\n",
        "pre_AVG_LaborCost=0\n",
        "pre_KOR_LaborCost=0\n",
        "for i in range(0,41):\n",
        "    pre_AVG_LaborCost+=float(LaborCost_Increaserate['2010-2017'][i])\n",
        "    if(LaborCost_Increaserate['국가'][i]=='S.Korea'):\n",
        "        pre_KOR_LaborCost=float(LaborCost_Increaserate['2010-2017'][i])\n",
        "pre_AVG_LaborCost=pre_AVG_LaborCost/41\n",
        "\n",
        "\n",
        "print(\"2002년부터 2009년 사이의 평균 제조업 단위노동비용 연평균 증가율: \", round(past_AVG_LaborCost,2),\"%\")\n",
        "print(\"2010년부터 2017년 사이의 평균 제조업 단위노동비용 연평균 증가율: \",round(pre_AVG_LaborCost,2),\"%\")\n",
        "print(\"평균 제조업 단위노동비용 연평균 증가율:\",round(pre_AVG_LaborCost-past_AVG_LaborCost,2),\"%\")\n",
        "print(\"2002년부터 2009년 사이의 한국 제조업 단위노동비용 연평균 증가율: \", round(past_KOR_LaborCost,2),\"%\")\n",
        "print(\"2010년부터 2017년 사이의 한국 제조업 단위노동비용 연평균 증가율: \",round(pre_KOR_LaborCost,2),\"%\")\n",
        "print(\"한국 제조업 단위노동비용 연평균 증가율:\",round(pre_KOR_LaborCost-past_KOR_LaborCost,2),\"%\")\n",
        "#단위노동비용의 감소는 제품 하나를 만드는데 드는 노동비용이 감소했다는 뜻이다. 즉, 같은 노동으로 생산량이 증가했다는 뜻이다."
      ],
      "execution_count": null,
      "outputs": [
        {
          "output_type": "stream",
          "text": [
            "2002년부터 2009년 사이의 평균 제조업 단위노동비용 연평균 증가율:  6.04 %\n",
            "2010년부터 2017년 사이의 평균 제조업 단위노동비용 연평균 증가율:  -1.68 %\n",
            "평균 제조업 단위노동비용 연평균 증가율: -7.71 %\n",
            "2002년부터 2009년 사이의 한국 제조업 단위노동비용 연평균 증가율:  0.8 %\n",
            "2010년부터 2017년 사이의 한국 제조업 단위노동비용 연평균 증가율:  2.2 %\n",
            "한국 제조업 단위노동비용 연평균 증가율: 1.4 %\n"
          ],
          "name": "stdout"
        }
      ]
    },
    {
      "cell_type": "code",
      "metadata": {
        "id": "5dfofoqvOWDH"
      },
      "source": [
        "past_pre_LaborCost_byCountry=np.empty((41,2),float)\n",
        "Country=[]\n",
        "for i in range(0,41):\n",
        "    past_pre_LaborCost_byCountry[i]=[float(LaborCost_Increaserate['2002-2009'][i]),float(LaborCost_Increaserate['2010-2017'][i])]\n",
        "    Country.append(LaborCost_Increaserate['국가'][i])\n",
        "df=pd.DataFrame(past_pre_LaborCost_byCountry,columns=[\"2002-2009\",\"2010-2017\"],index=Country)"
      ],
      "execution_count": null,
      "outputs": []
    },
    {
      "cell_type": "code",
      "metadata": {
        "id": "Wn-PHBz6OWDI",
        "outputId": "fe3a2e71-7aee-48e5-c73d-d45258779beb"
      },
      "source": [
        "df.plot.box()\n",
        "#해당 그래프는 2002-2009년과 2010-2017년 평균 제조업 단위노동비용은 감소했다."
      ],
      "execution_count": null,
      "outputs": [
        {
          "output_type": "execute_result",
          "data": {
            "text/plain": [
              "<matplotlib.axes._subplots.AxesSubplot at 0x1b608ad7ef0>"
            ]
          },
          "metadata": {
            "tags": []
          },
          "execution_count": 62
        },
        {
          "output_type": "display_data",
          "data": {
            "image/png": "[encoded data removed]",
            "text/plain": [
              "<Figure size 432x288 with 1 Axes>"
            ]
          },
          "metadata": {
            "tags": [],
            "needs_background": "light"
          }
        }
      ]
    },
    {
      "cell_type": "code",
      "metadata": {
        "id": "9PqN2so6OWDI",
        "outputId": "2763e982-b68e-4ee5-c564-1324385bb974"
      },
      "source": [
        "df.plot.bar(fontsize=18,figsize=(12,8))\n",
        "#해당 그래프는 2010-2017년동안 제조업 단위노동비용의 연평균 증가율을 가지고 정렬되어 있는 그래프인데 현재 상위 3개의 국가는 \n",
        "#중국, 인도, 한국 순으로 되어있다. 즉, 이 세 나라는 오히려 단위노동비용이 증가했다. 그리고 감소한 나라를 잘 보면 독일과 일본은 \n",
        "#단위노동비용이 매우 감소했다. 다른 나라들은 크게 감소하는 그래프를 보였지만 한국은 증가하였다."
      ],
      "execution_count": null,
      "outputs": [
        {
          "output_type": "execute_result",
          "data": {
            "text/plain": [
              "<matplotlib.axes._subplots.AxesSubplot at 0x1b608ff9278>"
            ]
          },
          "metadata": {
            "tags": []
          },
          "execution_count": 64
        },
        {
          "output_type": "display_data",
          "data": {
            "image/png": "[encoded data removed]",
            "text/plain": [
              "<Figure size 864x576 with 1 Axes>"
            ]
          },
          "metadata": {
            "tags": [],
            "needs_background": "light"
          }
        }
      ]
    },
    {
      "cell_type": "markdown",
      "metadata": {
        "id": "rBBHUuYROWDI"
      },
      "source": [
        "<strong> 데이터 분석 결과 </strong><br>\n",
        "평균 제조업 단위노동비용 연평균 증가율: -7.71 % <br>\n",
        "한국 제조업 단위노동비용 연평균 증가율: 1.4 % <br>\n",
        "전세계적으로 제조업 단위노동비용은 큰 폭으로 감소하였습니다. 하지만 한국은 오히려 증가하는 양상을 보였습니다. 현재 \"독일의 인더스트리 4.0 정책\"을 보면 <span style=\"color:red\">제조업의 경쟁력은 공정에서의 생산성이 매우 큰 영향</span>을 주 것을 볼 수 있습니다. 즉, 이 그래프가 제조업 생산성의 경쟁력을 보여주는 지표인데 한국은 평균보다 큰 폭으로 뒤쳐져 있습니다. 우리나라는 스마트 공장 - 공정에서의 제조업 향상에 큰 혁신이 필요합니다."
      ]
    },
    {
      "cell_type": "markdown",
      "metadata": {
        "id": "rONSP-X4OWDI"
      },
      "source": [
        "2) <strong> 1인당 제조업 노동생산성 증가율 </strong><br>\n",
        " 제조업 1인당 노동생산성 증가율도 제조업 경쟁력 측정지표입니다 <br>\n",
        " 1인당 노동생산성이 증가하면 같은 노동력으로 제조업 단위노동비용 증가율은 제조업 경쟁력 측정지표로서, 단위노동비용이 감소하면 적은 노동비용으로 같은 제품을 생산하기 때문에 경쟁력이 올라간다.<br>\n"
      ]
    },
    {
      "cell_type": "code",
      "metadata": {
        "id": "gWuNiBD2OWDI",
        "outputId": "a55611f7-14b5-4433-bfdd-543af1ef3b50"
      },
      "source": [
        "LaborProductivity_growthrate= pd.read_csv('Labor productivity growth rate per manufacturing industry.csv', encoding='utf-8')\n",
        "print(LaborProductivity_growthrate.shape)\n"
      ],
      "execution_count": null,
      "outputs": [
        {
          "output_type": "stream",
          "text": [
            "(41, 3)\n"
          ],
          "name": "stdout"
        }
      ]
    },
    {
      "cell_type": "code",
      "metadata": {
        "id": "VF0nrRXDOWDI",
        "outputId": "025d0d73-968a-429d-a858-6f3dba16a560"
      },
      "source": [
        "past_AVG_LaborProductivity_growthrate=0\n",
        "past_KOR_LaborProductivity_growthrate=0\n",
        "for i in range(0,41):\n",
        "    past_AVG_LaborProductivity_growthrate+=float(LaborProductivity_growthrate['2002-2009'][i])\n",
        "    if(LaborProductivity_growthrate['국가'][i]=='S.Korea'):\n",
        "        past_KOR_LaborProductivity_growthrate=float(LaborProductivity_growthrate['2002-2009'][i])\n",
        "past_AVG_LaborProductivity_growthrate=past_AVG_LaborProductivity_growthrate/41\n",
        "\n",
        "pre_AVG_LaborProductivity_growthrate=0\n",
        "pre_KOR_LaborProductivity_growthrate=0\n",
        "for i in range(0,41):\n",
        "    pre_AVG_LaborProductivity_growthrate+=float(LaborProductivity_growthrate['2010-2017'][i])\n",
        "    if(LaborProductivity_growthrate['국가'][i]=='S.Korea'):\n",
        "        pre_KOR_LaborProductivity_growthrate=LaborProductivity_growthrate['2010-2017'][i]\n",
        "pre_AVG_LaborProductivity_growthrate=pre_AVG_LaborProductivity_growthrate/41\n",
        "\n",
        "\n",
        "print(\"2002년부터 2009년 사이의 평균 제조업 1인당 노동생산성: \", round(past_AVG_LaborProductivity_growthrate,2),\"%\")\n",
        "print(\"2010년부터 2017년 사이의 평균 제조업 1인당 노동생산성: \",round(pre_AVG_LaborProductivity_growthrate,2),\"%\")\n",
        "print(\"평균 제조업 1인당 노동생산성 상승률:\",round(pre_AVG_LaborProductivity_growthrate-past_AVG_LaborProductivity_growthrate,2),\"%\")\n",
        "print(\"2002년부터 2009년 사이의 한국 제조업 1인당 노동생산성: \", round(past_KOR_LaborProductivity_growthrate,2),\"%\")\n",
        "print(\"2010년부터 2017년 사이의 한국 제조업 1인당 노동생산성: \",round(pre_KOR_LaborProductivity_growthrate,2),\"%\")\n",
        "print(\"한국 제조업 1인당 노동생산성 상승률:\",round(pre_KOR_LaborProductivity_growthrate-past_KOR_LaborProductivity_growthrate,2),\"%\")\n",
        "#단위노동비용의 감소는 제품 하나를 만드는데 드는 노동비용이 감소했다는 뜻이다. 즉, 같은 노동으로 생산량이 증가했다는 뜻이다."
      ],
      "execution_count": null,
      "outputs": [
        {
          "output_type": "stream",
          "text": [
            "2002년부터 2009년 사이의 평균 제조업 1인당 노동생산성:  3.42 %\n",
            "2010년부터 2017년 사이의 평균 제조업 1인당 노동생산성:  3.5 %\n",
            "평균 제조업 1인당 노동생산성 상승률: 0.07 %\n",
            "2002년부터 2009년 사이의 한국 제조업 1인당 노동생산성:  7.0 %\n",
            "2010년부터 2017년 사이의 한국 제조업 1인당 노동생산성:  2.8 %\n",
            "한국 제조업 1인당 노동생산성 상승률: -4.2 %\n"
          ],
          "name": "stdout"
        }
      ]
    },
    {
      "cell_type": "code",
      "metadata": {
        "id": "INV159WxOWDJ"
      },
      "source": [
        "past_pre_LaborCost_byCountry=np.empty((41,2),float)\n",
        "Country=[]\n",
        "for i in range(0,41):\n",
        "    Country.append(LaborProductivity_growthrate['국가'][i])\n",
        "\n",
        "past_pre_LaborProductivity_growthrate_byCountry=np.empty((41,2),float)\n",
        "for i in range(0,41):\n",
        "    past_pre_LaborProductivity_growthrate_byCountry[i]=[float(LaborProductivity_growthrate['2002-2009'][i]),float(LaborProductivity_growthrate['2010-2017'][i])]\n",
        "df2=pd.DataFrame(past_pre_LaborProductivity_growthrate_byCountry,columns=[\"2002-2009\",\"2010-2017\"],index=Country)"
      ],
      "execution_count": null,
      "outputs": []
    },
    {
      "cell_type": "code",
      "metadata": {
        "id": "j0Gr7sgoOWDJ",
        "outputId": "8ed1a99f-af26-40ef-e46c-d1ee8469fa97"
      },
      "source": [
        "df2.plot.box()"
      ],
      "execution_count": null,
      "outputs": [
        {
          "output_type": "execute_result",
          "data": {
            "text/plain": [
              "<matplotlib.axes._subplots.AxesSubplot at 0x1d7e6471630>"
            ]
          },
          "metadata": {
            "tags": []
          },
          "execution_count": 12
        },
        {
          "output_type": "display_data",
          "data": {
            "image/png": "[encoded data removed]",
            "text/plain": [
              "<Figure size 432x288 with 1 Axes>"
            ]
          },
          "metadata": {
            "tags": [],
            "needs_background": "light"
          }
        }
      ]
    },
    {
      "cell_type": "code",
      "metadata": {
        "id": "XJ3Fa-luOWDJ",
        "outputId": "5aa572e4-d37d-494d-a73d-340dcba6128e"
      },
      "source": [
        "df2.plot.bar(fontsize=18,figsize=(12,8))"
      ],
      "execution_count": null,
      "outputs": [
        {
          "output_type": "execute_result",
          "data": {
            "text/plain": [
              "<matplotlib.axes._subplots.AxesSubplot at 0x1d7e6a11748>"
            ]
          },
          "metadata": {
            "tags": []
          },
          "execution_count": 13
        },
        {
          "output_type": "display_data",
          "data": {
            "image/png": "[encoded data removed]",
            "text/plain": [
              "<Figure size 864x576 with 1 Axes>"
            ]
          },
          "metadata": {
            "tags": [],
            "needs_background": "light"
          }
        }
      ]
    },
    {
      "cell_type": "markdown",
      "metadata": {
        "id": "40x5KqrcOWDJ"
      },
      "source": [
        "<strong> 데이터 분석 결과 </strong><br>\n",
        "위의 1인당 제조업 노동생산성 증가율 관련 그래프를 보면 이는 제조업 단위 노동비용 상승률 동향과 비슷하다. 중국 - 인도 - 한국 순으로 단위 노동비용이 높았는데 여기서도 1인당 제조업 노동생산성 증가율은 비슷한 동향을 보이고 있다. 한국은 두 데이터에 있어서 2002-2009년에는 제조업의 생산성에 있어서 강력한 경쟁력을 가지고 있었지만 현재로서는 생산성에서의 경쟁력을 볼 수 없을 정도로 떨어졌다.<br>\n",
        "한국외에 다른 나라에 대해 잘 살펴보면 이전부터 <span style=\"color:red\">스마트 팩토리 공정 분야에 지속적으로 연구개발 투자를 해왔던 미국(U.S.), 독일(Germany), 일본(Japan)의 경우 높은 생산성 향상</span>을 보여주었다. 독일은 인더스트리 4.0 정책으로 제조업에서 생산성 향상에 초점을 두었기에 현재로서는 이 제조업 생산성 분야에서 강력한 경쟁력을 가지고 있는 것으로 보인다. <br> 한국은 이 부분에서의 혁신이 필요하다.<br>"
      ]
    },
    {
      "cell_type": "markdown",
      "metadata": {
        "id": "BVoO3C1pOWDJ"
      },
      "source": [
        "3) <strong> 제조업 평균 가동률 </strong><br>"
      ]
    },
    {
      "cell_type": "code",
      "metadata": {
        "scrolled": true,
        "id": "tbWd-2GpOWDJ",
        "outputId": "6bacb90c-7297-42c3-f5cc-7cf54c8d7192"
      },
      "source": [
        "Manufacturing_Average_UtilizationRate=pd.read_csv('Manufacturing_Average utilization rate.csv',encoding='utf-8')\n",
        "print(Manufacturing_Average_UtilizationRate.shape)\n",
        "Manufacturing_Average_UtilizationRate.head()"
      ],
      "execution_count": null,
      "outputs": [
        {
          "output_type": "stream",
          "text": [
            "(1, 112)\n"
          ],
          "name": "stdout"
        },
        {
          "output_type": "execute_result",
          "data": {
            "text/html": [
              "<div>\n",
              "<style scoped>\n",
              "    .dataframe tbody tr th:only-of-type {\n",
              "        vertical-align: middle;\n",
              "    }\n",
              "\n",
              "    .dataframe tbody tr th {\n",
              "        vertical-align: top;\n",
              "    }\n",
              "\n",
              "    .dataframe thead th {\n",
              "        text-align: right;\n",
              "    }\n",
              "</style>\n",
              "<table border=\"1\" class=\"dataframe\">\n",
              "  <thead>\n",
              "    <tr style=\"text-align: right;\">\n",
              "      <th></th>\n",
              "      <th>산업별</th>\n",
              "      <th>2010. 01</th>\n",
              "      <th>2010. 02</th>\n",
              "      <th>2010. 03</th>\n",
              "      <th>2010. 04</th>\n",
              "      <th>2010. 05</th>\n",
              "      <th>2010. 06</th>\n",
              "      <th>2010. 07</th>\n",
              "      <th>2010. 08</th>\n",
              "      <th>2010. 09</th>\n",
              "      <th>...</th>\n",
              "      <th>2018. 06</th>\n",
              "      <th>2018. 07</th>\n",
              "      <th>2018. 08</th>\n",
              "      <th>2018. 09</th>\n",
              "      <th>2018. 10</th>\n",
              "      <th>2018. 11</th>\n",
              "      <th>2018. 12</th>\n",
              "      <th>2019. 01</th>\n",
              "      <th>2019. 02 p)</th>\n",
              "      <th>2019. 03 p)</th>\n",
              "    </tr>\n",
              "  </thead>\n",
              "  <tbody>\n",
              "    <tr>\n",
              "      <th>0</th>\n",
              "      <td>제조업</td>\n",
              "      <td>78.1</td>\n",
              "      <td>79.4</td>\n",
              "      <td>80.0</td>\n",
              "      <td>80.3</td>\n",
              "      <td>80.7</td>\n",
              "      <td>80.6</td>\n",
              "      <td>81.5</td>\n",
              "      <td>80.0</td>\n",
              "      <td>80.3</td>\n",
              "      <td>...</td>\n",
              "      <td>73.8</td>\n",
              "      <td>73.9</td>\n",
              "      <td>75.1</td>\n",
              "      <td>73.7</td>\n",
              "      <td>74.4</td>\n",
              "      <td>72.7</td>\n",
              "      <td>72.2</td>\n",
              "      <td>73.6</td>\n",
              "      <td>70.5</td>\n",
              "      <td>71.5</td>\n",
              "    </tr>\n",
              "  </tbody>\n",
              "</table>\n",
              "<p>1 rows × 112 columns</p>\n",
              "</div>"
            ],
            "text/plain": [
              "   산업별  2010. 01  2010. 02  2010. 03  2010. 04  2010. 05  2010. 06  2010. 07  \\\n",
              "0  제조업      78.1      79.4      80.0      80.3      80.7      80.6      81.5   \n",
              "\n",
              "   2010. 08  2010. 09     ...       2018. 06  2018. 07  2018. 08  2018. 09  \\\n",
              "0      80.0      80.3     ...           73.8      73.9      75.1      73.7   \n",
              "\n",
              "   2018. 10  2018. 11  2018. 12  2019. 01  2019. 02 p)  2019. 03 p)  \n",
              "0      74.4      72.7      72.2      73.6         70.5         71.5  \n",
              "\n",
              "[1 rows x 112 columns]"
            ]
          },
          "metadata": {
            "tags": []
          },
          "execution_count": 50
        }
      ]
    },
    {
      "cell_type": "code",
      "metadata": {
        "scrolled": true,
        "id": "ecBtLHiQOWDK",
        "outputId": "bc3a868c-e0c5-4dcb-d14e-c736459fec9c"
      },
      "source": [
        "Manufacturing_Average_UtilizationRate_AnnualSum=np.zeros((10,2))\n",
        "Manufacturing_Average_UtilizationRate_AnnualAvg=np.zeros((10,1))\n",
        "Annual=list(range(2010,2020))\n",
        "Manufacturing_Average_UtilizationRate_columns=Manufacturing_Average_UtilizationRate.columns\n",
        "for i in range(0,len(Manufacturing_Average_UtilizationRate_columns)):\n",
        "    for j in Annual:\n",
        "      if(Manufacturing_Average_UtilizationRate_columns[i].find(str(j))!=-1):\n",
        "        Manufacturing_Average_UtilizationRate_AnnualSum[j-2010][0]+=Manufacturing_Average_UtilizationRate[Manufacturing_Average_UtilizationRate_columns[i]][0]\n",
        "        Manufacturing_Average_UtilizationRate_AnnualSum[j-2010][1]+=1\n",
        "for i in range(0,len(Annual)):\n",
        "    Manufacturing_Average_UtilizationRate_AnnualAvg[i]= Manufacturing_Average_UtilizationRate_AnnualSum[i][0]/ Manufacturing_Average_UtilizationRate_AnnualSum[i][1]\n",
        "df=pd.DataFrame(Manufacturing_Average_UtilizationRate_AnnualAvg,index=Annual)\n",
        "df.plot(title=\"제조업 평균 가동률\",fontsize=20)\n",
        "## 한국의 제조업 평균 가동률은 10% 현저히 감소했음을 보여준다."
      ],
      "execution_count": null,
      "outputs": [
        {
          "output_type": "execute_result",
          "data": {
            "text/plain": [
              "<matplotlib.axes._subplots.AxesSubplot at 0x1b608015ba8>"
            ]
          },
          "metadata": {
            "tags": []
          },
          "execution_count": 51
        },
        {
          "output_type": "display_data",
          "data": {
            "image/png": "[encoded data removed]",
            "text/plain": [
              "<Figure size 432x288 with 1 Axes>"
            ]
          },
          "metadata": {
            "tags": [],
            "needs_background": "light"
          }
        }
      ]
    },
    {
      "cell_type": "markdown",
      "metadata": {
        "id": "2Nai5l6xOWDK"
      },
      "source": [
        "<strong> 데이터 분석 결과 </strong><br>\n",
        " <span style=\"color:red\">해당 데이터는 현재 제조업 평균 가동률이 하락하고 있음을 보여준다.<br> "
      ]
    },
    {
      "cell_type": "markdown",
      "metadata": {
        "id": "MN5Al6wqOWDK"
      },
      "source": [
        "### 4. 제조업 <span style=\"color:red\"> 투자/자본 </span> 부분 - M&A(Mergers & Acquisitions)"
      ]
    },
    {
      "cell_type": "markdown",
      "metadata": {
        "id": "PgvDyXG9OWDK"
      },
      "source": [
        "1) 주요국들의 제조업 M&A 현황 비교"
      ]
    },
    {
      "cell_type": "code",
      "metadata": {
        "id": "MJDOQ1ZUOWDL",
        "outputId": "0d912ec9-aba1-46d7-beb8-2b01df895bcc"
      },
      "source": [
        "comparison_of_MA_performances_of_major_countries= pd.read_csv('comparison of M&A performances of major countries.csv', encoding='utf-8')\n",
        "print(comparison_of_MA_performances_of_major_countries.shape)\n",
        "comparison_of_MA_performances_of_major_countries.head()"
      ],
      "execution_count": null,
      "outputs": [
        {
          "output_type": "stream",
          "text": [
            "(6, 3)\n"
          ],
          "name": "stdout"
        },
        {
          "output_type": "execute_result",
          "data": {
            "text/html": [
              "<div>\n",
              "<style scoped>\n",
              "    .dataframe tbody tr th:only-of-type {\n",
              "        vertical-align: middle;\n",
              "    }\n",
              "\n",
              "    .dataframe tbody tr th {\n",
              "        vertical-align: top;\n",
              "    }\n",
              "\n",
              "    .dataframe thead th {\n",
              "        text-align: right;\n",
              "    }\n",
              "</style>\n",
              "<table border=\"1\" class=\"dataframe\">\n",
              "  <thead>\n",
              "    <tr style=\"text-align: right;\">\n",
              "      <th></th>\n",
              "      <th>항목</th>\n",
              "      <th>거래금액</th>\n",
              "      <th>건당금액</th>\n",
              "    </tr>\n",
              "  </thead>\n",
              "  <tbody>\n",
              "    <tr>\n",
              "      <th>0</th>\n",
              "      <td>WOR</td>\n",
              "      <td>115</td>\n",
              "      <td>97</td>\n",
              "    </tr>\n",
              "    <tr>\n",
              "      <th>1</th>\n",
              "      <td>KOR</td>\n",
              "      <td>29</td>\n",
              "      <td>3</td>\n",
              "    </tr>\n",
              "    <tr>\n",
              "      <th>2</th>\n",
              "      <td>USA</td>\n",
              "      <td>107</td>\n",
              "      <td>88</td>\n",
              "    </tr>\n",
              "    <tr>\n",
              "      <th>3</th>\n",
              "      <td>JPN</td>\n",
              "      <td>36</td>\n",
              "      <td>46</td>\n",
              "    </tr>\n",
              "    <tr>\n",
              "      <th>4</th>\n",
              "      <td>GBR</td>\n",
              "      <td>307</td>\n",
              "      <td>289</td>\n",
              "    </tr>\n",
              "  </tbody>\n",
              "</table>\n",
              "</div>"
            ],
            "text/plain": [
              "    항목  거래금액  건당금액\n",
              "0  WOR   115    97\n",
              "1  KOR    29     3\n",
              "2  USA   107    88\n",
              "3  JPN    36    46\n",
              "4  GBR   307   289"
            ]
          },
          "metadata": {
            "tags": []
          },
          "execution_count": 4
        }
      ]
    },
    {
      "cell_type": "code",
      "metadata": {
        "id": "6Jp_xQqBOWDL",
        "outputId": "42a39ba2-fc8d-4c05-d52c-e491205c856d"
      },
      "source": [
        "major_countries=[]\n",
        "comparison_MA=np.empty((6,2),float)\n",
        "for i in range(0,6):\n",
        "    MA_col=comparison_of_MA_performances_of_major_countries['항목'][i]\n",
        "    major_countries.append(MA_col)\n",
        "    comparison_MA[i][0]=comparison_of_MA_performances_of_major_countries['거래금액'][i]\n",
        "    comparison_MA[i][1]=comparison_of_MA_performances_of_major_countries['건당금액'][i]\n",
        "df=pd.DataFrame(comparison_MA,index=major_countries,columns=[\"Transaction amount\",\"Amount per amount\"])\n",
        "df.plot.bar(title=\"제조업 M&A 현황 비교 \",fontsize=20)\n",
        "#현재 스마트 공장에 있어서의 투자/자본 등의 활발한 인수합병이 매우 중요하다. 즉, 제조업 공장과 소프트웨어회사와의 합병 및 인수는 \n",
        "# 스마트 공장을 실현하는데에 있어 매우 중요한 발판이 될 것이다. - 현재 독일은 인더스트리 4.0 정책 공표를 이후로 활발히 M&A를 추진중이지만\n",
        "# 현재 한국은 제조업 주요국들중에서도 현재 M&A 추진에 있어서 가장 소극적이다."
      ],
      "execution_count": null,
      "outputs": [
        {
          "output_type": "execute_result",
          "data": {
            "text/plain": [
              "<matplotlib.axes._subplots.AxesSubplot at 0x1b6054cea20>"
            ]
          },
          "metadata": {
            "tags": []
          },
          "execution_count": 7
        },
        {
          "output_type": "display_data",
          "data": {
            "image/png": "[encoded data removed]",
            "text/plain": [
              "<Figure size 432x288 with 1 Axes>"
            ]
          },
          "metadata": {
            "tags": [],
            "needs_background": "light"
          }
        }
      ]
    },
    {
      "cell_type": "markdown",
      "metadata": {
        "id": "sNusqYLcOWDL"
      },
      "source": [
        "2) 독일의 활발한 M&A 현황 분석 및 한국이 M&A를 꺼리는 이유"
      ]
    },
    {
      "cell_type": "markdown",
      "metadata": {
        "id": "e68yznBhOWDL"
      },
      "source": [
        "- 이장균 현대경제연구원 수석연구위원 ,「한국 제조업의 살길은 M&A」, 2017.05.03 <br>\n",
        "http://weekly.donga.com/List/3/all/11/938808/1  2019.06.08\n",
        "\n",
        "- 임성현 기자,「\"기술 뺏길라\" 합병 꺼리는 벤처…M&A중재원 세워 우려 해소를」, 2019.04.17 <br>\n",
        "https://www.mk.co.kr/news/economy/view/2019/04/239522/ 2019.06.08\n",
        "\n",
        "두 사이트 모두 beautifulsoup로 크롤링이 되지 않아서 기사의 주요 부분에 대해서 결론을 내려고 한다. \n",
        "\n",
        "제조업에서의 그 기업 스스로 생산성 증대, 비용 절감 등 내부 역량에만 의존하는 유기적 성장(organic growth)은 역부족이다. 기업 M&A(인수합병) 같은 외부 역량에 기반을 둔 비유기적 성장(inorganic growth) 전략을 적극적으로 활용할 필요가 있다. 4차 산업혁명을 맞아 제조업에 요구되는 융합화, 서비스화에 필요한 모든 기술을 제조업 내부에서 개발하는 일은 거의 불가능하다. 시간적으로도 지체될 공산이 크다. 그렇기에 한국 제조업의 M&A는 국가 차원에서 대응해야 할 문제다. 국가가 직접 국내 제조업에 요구되는 핵심 기술을 보유한 해외 기업을 인수합병하는 방안을 고려할 필요가 있다. 그 대안 가운데 하나로 국부펀드나 국가 연구개발(R&D) 예산을 확보하고, 정부출연 연구기관 등이 나서서 제조업체들이 공통적으로 활용할 차세대 기술 또는 사업 기반을 보유한 해외 업체를 인수합병하는 방안을 추진해야 한다. \n",
        "\n",
        "\n",
        "- 조아라 기자,「제조 스마트를 향한 움직임」, 2018.10.02 <br>\n",
        "http://www.mfgkr.com/archives/8572 2019.06.09\n",
        "\n",
        "독일 정부가 ‘인더스트리4.0’ 정책을 공표하면서 전통적인 제조업에 ICT 기술을 접목한 스마트 제조가 주목받기 시작했다. 이 정책은 최첨단 정보통신기술과 제조업을 융합해 제조업의 완전한 자동화와 모든 생산 공정의 최적화를 목표로 한다. 나아가 사이버 물리 시스템을 기반으로 스마트공장을 구축해 생산 공정 통합, 고속화, 엔지니어링 고도화 구현을 지향한다. 어떻게 제조업을 혁신할지 고민하던 각국은 독일의 전략을 모티브 삼아 본격적인 제조업 혁신에 나섰다.<br><br>\n",
        "\n",
        "업계에 부는 변화<br>\n",
        "산업 전반에 던져진 스마트화라는 패러다임은 몇 년 새 제조업 전반에 변화를 가져왔다. 독일 인더스트리4.0 워킹그룹에 속하는 지멘스는  일찌감치 산업 트렌드 변화를 읽고 PLM 부문의 기술 주도권을 강화해왔다. 2007년 5월 USG PLM 소프트웨어를 인수한 지멘스는 “설계 및 제조 기술이 뒷받침 되는 지멘스의 물리적 세계와 공장·제품 설계 및 디지털 협업 소프트웨어에 기반한 UGS의 가상 세계를 통합해 이익을 실현할 수 있게 됐다”고 M&A 이유를 밝혔다."
      ]
    },
    {
      "cell_type": "markdown",
      "metadata": {
        "id": "BfT-SjTbOWDL"
      },
      "source": [
        "<strong> 1), 2) 번 데이터 분석 결과 </strong><br>\n",
        "위 그래프를 보면 한국은 다른 나라에 비해 M&A에 있어서 매우 소극적이다. 잘 보면 독일은 인더스트리 4.0 정책으로 빠르게 기업간의 인수합병이 이루어지고 있으며 이는 제조업 공장과 ICT 회사간에 있어서 활발히 이루어지고 있다고 합니다. <br>  \n",
        "독일에서는 M&A가 제조업 혁신에 큰 이바지를 하는 것을 볼 수 있었습니다. 그런데 한국은 기사 제목처럼 기술이 뺏길까 M&A합병을 꺼려하며 소극적으로 하는 경향이 있어 보인다. <br>\n",
        "결국엔 전문가들의 의견은 제조업에서는 그 내부 역량에만 의존하는 유기적 성장은 한계가 있다고 합니다. 그래서 제조업에서 생산력을 높이고 전반적인 개혁이나 혁신을 위해서는 M&A는 거의 필수적이라고 본다.  "
      ]
    },
    {
      "cell_type": "markdown",
      "metadata": {
        "id": "H13pse6rOWDL"
      },
      "source": [
        "### 5. 제조업 <span style=\"color:red\"> 노동/고용 </span> 부분"
      ]
    },
    {
      "cell_type": "markdown",
      "metadata": {
        "id": "JpRNmS8hOWDL"
      },
      "source": [
        "1) 1인당 연평균 노동시간 "
      ]
    },
    {
      "cell_type": "code",
      "metadata": {
        "id": "SJPk4LDNOWDM",
        "outputId": "2e01d51e-03d8-437b-fa54-d760269fbf8b"
      },
      "source": [
        "Average_wokinghours= pd.read_csv('Average_wokinghours.csv', encoding='utf-8')\n",
        "print(Average_wokinghours.shape)\n",
        "Average_wokinghours.head()"
      ],
      "execution_count": null,
      "outputs": [
        {
          "output_type": "stream",
          "text": [
            "(5, 6)\n"
          ],
          "name": "stdout"
        },
        {
          "output_type": "execute_result",
          "data": {
            "text/html": [
              "<div>\n",
              "<style scoped>\n",
              "    .dataframe tbody tr th:only-of-type {\n",
              "        vertical-align: middle;\n",
              "    }\n",
              "\n",
              "    .dataframe tbody tr th {\n",
              "        vertical-align: top;\n",
              "    }\n",
              "\n",
              "    .dataframe thead th {\n",
              "        text-align: right;\n",
              "    }\n",
              "</style>\n",
              "<table border=\"1\" class=\"dataframe\">\n",
              "  <thead>\n",
              "    <tr style=\"text-align: right;\">\n",
              "      <th></th>\n",
              "      <th>항목</th>\n",
              "      <th>2013</th>\n",
              "      <th>2014</th>\n",
              "      <th>2015</th>\n",
              "      <th>2016</th>\n",
              "      <th>2017</th>\n",
              "    </tr>\n",
              "  </thead>\n",
              "  <tbody>\n",
              "    <tr>\n",
              "      <th>0</th>\n",
              "      <td>GBR</td>\n",
              "      <td>1362</td>\n",
              "      <td>1368</td>\n",
              "      <td>1368</td>\n",
              "      <td>1363</td>\n",
              "      <td>1356</td>\n",
              "    </tr>\n",
              "    <tr>\n",
              "      <th>1</th>\n",
              "      <td>UK</td>\n",
              "      <td>1667</td>\n",
              "      <td>1678</td>\n",
              "      <td>1673</td>\n",
              "      <td>1670</td>\n",
              "      <td>1681</td>\n",
              "    </tr>\n",
              "    <tr>\n",
              "      <th>2</th>\n",
              "      <td>JPA</td>\n",
              "      <td>1734</td>\n",
              "      <td>1729</td>\n",
              "      <td>1719</td>\n",
              "      <td>1714</td>\n",
              "      <td>1710</td>\n",
              "    </tr>\n",
              "    <tr>\n",
              "      <th>3</th>\n",
              "      <td>KOR</td>\n",
              "      <td>2093</td>\n",
              "      <td>2067</td>\n",
              "      <td>2084</td>\n",
              "      <td>2071</td>\n",
              "      <td>2024</td>\n",
              "    </tr>\n",
              "    <tr>\n",
              "      <th>4</th>\n",
              "      <td>USA</td>\n",
              "      <td>1782</td>\n",
              "      <td>1784</td>\n",
              "      <td>1785</td>\n",
              "      <td>1781</td>\n",
              "      <td>1780</td>\n",
              "    </tr>\n",
              "  </tbody>\n",
              "</table>\n",
              "</div>"
            ],
            "text/plain": [
              "    항목  2013  2014  2015  2016  2017\n",
              "0  GBR  1362  1368  1368  1363  1356\n",
              "1   UK  1667  1678  1673  1670  1681\n",
              "2  JPA  1734  1729  1719  1714  1710\n",
              "3  KOR  2093  2067  2084  2071  2024\n",
              "4  USA  1782  1784  1785  1781  1780"
            ]
          },
          "metadata": {
            "tags": []
          },
          "execution_count": 192
        }
      ]
    },
    {
      "cell_type": "code",
      "metadata": {
        "id": "2_wzASsAOWDM"
      },
      "source": [
        "major_countries1=[]\n",
        "labor_Annual=list(range(2013,2018))\n",
        "AVG_workinghours_np=np.empty((len(labor_Annual),5),float)\n",
        "for i in range(0,len(labor_Annual)):\n",
        "    WorkingH_col=Average_wokinghours['항목'][i]\n",
        "    major_countries1.append(WorkingH_col)\n",
        "    for j in range(0,5):\n",
        "        AVG_workinghours_np[i][j]=float(Average_wokinghours[str(labor_Annual[i])][j])"
      ],
      "execution_count": null,
      "outputs": []
    },
    {
      "cell_type": "markdown",
      "metadata": {
        "id": "Kh0QZsWrOWDM"
      },
      "source": [
        "2) 제조업 임금 지수"
      ]
    },
    {
      "cell_type": "code",
      "metadata": {
        "id": "ibiT-WKbOWDM",
        "outputId": "b333308d-8660-4103-9b44-b922d814800d"
      },
      "source": [
        "ManufacturingWage_index= pd.read_csv('ManufacturingWage_index.csv', encoding='utf-8')\n",
        "print(ManufacturingWage_index.shape)\n",
        "ManufacturingWage_index.head()"
      ],
      "execution_count": null,
      "outputs": [
        {
          "output_type": "stream",
          "text": [
            "(5, 6)\n"
          ],
          "name": "stdout"
        },
        {
          "output_type": "execute_result",
          "data": {
            "text/html": [
              "<div>\n",
              "<style scoped>\n",
              "    .dataframe tbody tr th:only-of-type {\n",
              "        vertical-align: middle;\n",
              "    }\n",
              "\n",
              "    .dataframe tbody tr th {\n",
              "        vertical-align: top;\n",
              "    }\n",
              "\n",
              "    .dataframe thead th {\n",
              "        text-align: right;\n",
              "    }\n",
              "</style>\n",
              "<table border=\"1\" class=\"dataframe\">\n",
              "  <thead>\n",
              "    <tr style=\"text-align: right;\">\n",
              "      <th></th>\n",
              "      <th>항목</th>\n",
              "      <th>2013</th>\n",
              "      <th>2014</th>\n",
              "      <th>2015</th>\n",
              "      <th>2016</th>\n",
              "      <th>2017</th>\n",
              "    </tr>\n",
              "  </thead>\n",
              "  <tbody>\n",
              "    <tr>\n",
              "      <th>0</th>\n",
              "      <td>GBR</td>\n",
              "      <td>94.6</td>\n",
              "      <td>97.4</td>\n",
              "      <td>100</td>\n",
              "      <td>102.0</td>\n",
              "      <td>104.4</td>\n",
              "    </tr>\n",
              "    <tr>\n",
              "      <th>1</th>\n",
              "      <td>UK</td>\n",
              "      <td>96.5</td>\n",
              "      <td>98.4</td>\n",
              "      <td>100</td>\n",
              "      <td>102.3</td>\n",
              "      <td>104.4</td>\n",
              "    </tr>\n",
              "    <tr>\n",
              "      <th>2</th>\n",
              "      <td>JPA</td>\n",
              "      <td>98.2</td>\n",
              "      <td>99.8</td>\n",
              "      <td>100</td>\n",
              "      <td>100.6</td>\n",
              "      <td>101.6</td>\n",
              "    </tr>\n",
              "    <tr>\n",
              "      <th>3</th>\n",
              "      <td>KOR</td>\n",
              "      <td>93.3</td>\n",
              "      <td>97.1</td>\n",
              "      <td>100</td>\n",
              "      <td>104.2</td>\n",
              "      <td>106.4</td>\n",
              "    </tr>\n",
              "    <tr>\n",
              "      <th>4</th>\n",
              "      <td>USA</td>\n",
              "      <td>96.9</td>\n",
              "      <td>98.3</td>\n",
              "      <td>100</td>\n",
              "      <td>102.7</td>\n",
              "      <td>104.9</td>\n",
              "    </tr>\n",
              "  </tbody>\n",
              "</table>\n",
              "</div>"
            ],
            "text/plain": [
              "    항목  2013  2014  2015   2016   2017\n",
              "0  GBR  94.6  97.4   100  102.0  104.4\n",
              "1   UK  96.5  98.4   100  102.3  104.4\n",
              "2  JPA  98.2  99.8   100  100.6  101.6\n",
              "3  KOR  93.3  97.1   100  104.2  106.4\n",
              "4  USA  96.9  98.3   100  102.7  104.9"
            ]
          },
          "metadata": {
            "tags": []
          },
          "execution_count": 194
        }
      ]
    },
    {
      "cell_type": "code",
      "metadata": {
        "id": "NEeViufNOWDM",
        "outputId": "cd1078db-7afb-4781-a8c5-495f854ca4aa"
      },
      "source": [
        "ManufacturingWage_np=np.empty((len(labor_Annual),5),float)\n",
        "for i in range(0,5):\n",
        "    WorkingH_col=ManufacturingWage_index['항목'][i]\n",
        "    major_countries2.append(WorkingH_col)\n",
        "for i in range(0,len(labor_Annual)):\n",
        "    for j in range(0,5):\n",
        "        ManufacturingWage_np[i][j]=float(ManufacturingWage_index[str(labor_Annual[i])][j])\n",
        "\n",
        "perAVG_np=np.empty((len(labor_Annual),5),float)\n",
        "for i in range(0,len(labor_Annual)):\n",
        "    for j in range(0,5):\n",
        "        perAVG_np[i][j]=float(ManufacturingWage_index[str(labor_Annual[i])][j])/float(Average_wokinghours[str(labor_Annual[i])][j])\n",
        "                                                   \n",
        "ManufacturingIndex_per_WorkingHdf=pd.DataFrame(perAVG_np,index=labor_Annual,columns=major_countries1)\n",
        "ManufacturingIndex_per_WorkingHdf.plot.bar(title=\"주요국의 연평균 노동시간 대비 제조업 임금 지수\", fontsize=15, figsize=(8,5))\n",
        "# 위의 두 파일을 가지고서 데이터 주요국의 연평균 노동시간 대비 제조업 임금 지수를 그래프로 나타내었다.\n",
        "# 현재 주요국의 연평균 노동시간 대비 제조업 임금 지수는 독일이 한국보다 0.2% 높게 나왔다. \n",
        "# 물론 현재로서는 중국의 없지만 제조업의 큰 경쟁력을 가지는 주요국들의 연평균 노동시간 대비 제조업 임금지수는 한국이 제일 낮게 나왔다.\n",
        "# 결국엔, 노동시간이 많다고 해서 그것이 그 분야에서의 큰 경쟁력을 가져다주지는 못한다는 것을 알 수 있다."
      ],
      "execution_count": null,
      "outputs": [
        {
          "output_type": "execute_result",
          "data": {
            "text/plain": [
              "<matplotlib.axes._subplots.AxesSubplot at 0x1b6120dec18>"
            ]
          },
          "metadata": {
            "tags": []
          },
          "execution_count": 204
        },
        {
          "output_type": "display_data",
          "data": {
            "image/png": "[encoded data removed]",
            "text/plain": [
              "<Figure size 576x360 with 1 Axes>"
            ]
          },
          "metadata": {
            "tags": [],
            "needs_background": "light"
          }
        }
      ]
    },
    {
      "cell_type": "markdown",
      "metadata": {
        "id": "FLqYe5PuOWDN"
      },
      "source": [
        "<strong> 데이터 분석 결과 </strong><br>\n",
        "위의 두 파일을 가지고서 데이터 주요국의 연평균 노동시간 대비 제조업 임금 지수를 그래프로 나타내었다.\n",
        "현재 주요국의 연평균 노동시간 대비 제조업 임금 지수는 독일이 한국보다 0.2% 높게 나왔다. \n",
        "물론 현재로서는 중국의 없지만 제조업의 큰 경쟁력을 가지는 주요국들의 연평균 노동시간 대비 제조업 임금지수는 한국이 제일 낮게 나왔다.\n",
        "결국엔, 노동시간이 많다고 해서 그것이 그 분야에서의 큰 경쟁력을 가져다주지는 못한다는 것을 알 수 있다.\n",
        "이전에도 한국은 노동자의 노동시간이 많다고 계속적으로 뉴스에 떴었다. 물론 이 데이터가 2017년도 데이터이기에 현재는 오히려 노동시간이 길어질수록 업무 효율이 떨어진다는 것을 알기에 많은 회사가 노동시간을 줄이기는 했지만 아직도 많은 기업이나 공장에서는 줄이지 못한 것 같다.<br> <span style=\"color:red\">3)번의 데이터 결과를 보았듯이 노동시간이 생산성 향상에 직접적으로 연관있어 보이지는 않는다.</span><br>  "
      ]
    },
    {
      "cell_type": "markdown",
      "metadata": {
        "id": "LGhYmS67OWDN"
      },
      "source": [
        "### 6. 제조업 <span style=\"color:red\"> 연구개발 </span> 부분"
      ]
    },
    {
      "cell_type": "markdown",
      "metadata": {
        "id": "JOXICC7pOWDN"
      },
      "source": [
        "1) GDP 대비 세계 R&D 연구개발비용지수"
      ]
    },
    {
      "cell_type": "code",
      "metadata": {
        "id": "W8BPlyKwOWDN",
        "outputId": "6f766733-8180-4059-8bce-1e972ad69cba"
      },
      "source": [
        "RD_expenditure_relative_to_GDP= pd.read_csv('R&D expenditure relative to GDP.csv', encoding='utf-8')\n",
        "print(RD_expenditure_relative_to_GDP.shape)\n",
        "RD_expenditure_relative_to_GDP.head()"
      ],
      "execution_count": null,
      "outputs": [
        {
          "output_type": "stream",
          "text": [
            "(6, 6)\n"
          ],
          "name": "stdout"
        },
        {
          "output_type": "execute_result",
          "data": {
            "text/html": [
              "<div>\n",
              "<style scoped>\n",
              "    .dataframe tbody tr th:only-of-type {\n",
              "        vertical-align: middle;\n",
              "    }\n",
              "\n",
              "    .dataframe tbody tr th {\n",
              "        vertical-align: top;\n",
              "    }\n",
              "\n",
              "    .dataframe thead th {\n",
              "        text-align: right;\n",
              "    }\n",
              "</style>\n",
              "<table border=\"1\" class=\"dataframe\">\n",
              "  <thead>\n",
              "    <tr style=\"text-align: right;\">\n",
              "      <th></th>\n",
              "      <th>항목</th>\n",
              "      <th>2011년</th>\n",
              "      <th>2012년</th>\n",
              "      <th>2013년</th>\n",
              "      <th>2014년</th>\n",
              "      <th>2015년</th>\n",
              "    </tr>\n",
              "  </thead>\n",
              "  <tbody>\n",
              "    <tr>\n",
              "      <th>0</th>\n",
              "      <td>China</td>\n",
              "      <td>1.78</td>\n",
              "      <td>1.91</td>\n",
              "      <td>1.99</td>\n",
              "      <td>2.02</td>\n",
              "      <td>2.07</td>\n",
              "    </tr>\n",
              "    <tr>\n",
              "      <th>1</th>\n",
              "      <td>Germany</td>\n",
              "      <td>2.80</td>\n",
              "      <td>2.87</td>\n",
              "      <td>2.82</td>\n",
              "      <td>2.89</td>\n",
              "      <td>2.88</td>\n",
              "    </tr>\n",
              "    <tr>\n",
              "      <th>2</th>\n",
              "      <td>United Kingdom</td>\n",
              "      <td>1.68</td>\n",
              "      <td>1.61</td>\n",
              "      <td>1.66</td>\n",
              "      <td>1.68</td>\n",
              "      <td>1.70</td>\n",
              "    </tr>\n",
              "    <tr>\n",
              "      <th>3</th>\n",
              "      <td>Japan</td>\n",
              "      <td>3.25</td>\n",
              "      <td>3.21</td>\n",
              "      <td>3.32</td>\n",
              "      <td>3.40</td>\n",
              "      <td>3.28</td>\n",
              "    </tr>\n",
              "    <tr>\n",
              "      <th>4</th>\n",
              "      <td>Korea, Rep</td>\n",
              "      <td>3.75</td>\n",
              "      <td>4.02</td>\n",
              "      <td>4.15</td>\n",
              "      <td>4.28</td>\n",
              "      <td>4.23</td>\n",
              "    </tr>\n",
              "  </tbody>\n",
              "</table>\n",
              "</div>"
            ],
            "text/plain": [
              "               항목  2011년  2012년  2013년  2014년  2015년\n",
              "0           China   1.78   1.91   1.99   2.02   2.07\n",
              "1         Germany   2.80   2.87   2.82   2.89   2.88\n",
              "2  United Kingdom   1.68   1.61   1.66   1.68   1.70\n",
              "3           Japan   3.25   3.21   3.32   3.40   3.28\n",
              "4      Korea, Rep   3.75   4.02   4.15   4.28   4.23"
            ]
          },
          "metadata": {
            "tags": []
          },
          "execution_count": 11
        }
      ]
    },
    {
      "cell_type": "code",
      "metadata": {
        "id": "XqpnNjniOWDN",
        "outputId": "4e75684f-cf57-4a9d-bf27-358f178e0ea4"
      },
      "source": [
        "html=urlopen(\"http://news.kmib.co.kr/article/view.asp?arcid=0924046665\")\n",
        "bsObj=BeautifulSoup(html,\"html.parser\")\n",
        "KoreaRD_ManufactureInnovation = bsObj.find_all(\"div\", {\"class\":\"tx\"})\n",
        "KoreaRD_list=[]\n",
        "for response in KoreaRD_ManufactureInnovation:\n",
        "    KoreaRD_list.append(response.get_text())\n",
        "print(KoreaRD_list)"
      ],
      "execution_count": null,
      "outputs": [
        {
          "output_type": "stream",
          "text": [
            "['\\n\\n글 싣는 순서① 주저앉는 지역경제② 번지는 불황의 불길③ ‘무용지물’ 구조조정④ 위기 극복의 길   ⑤ 변신을 두려워 말라   한국 제조업은 대부분 ‘두뇌’와 ‘손발’이 분리된 이중구조로 운영된다. 기업의 두뇌 역할을 하는 연구·개발(R&D) 기능은 본사와 함께 수도권에 있는 반면 손발(생산)을 맡는 공장은 땅값이나 제품 운송비 부담이 상대적으로 낮은 지방에 있다. 이 때문에 R&D와 생산이 유기적으로 움직이지 않는다. 이런 이중구조는 경제 성장기에는 비용 절감효과를 톡톡하게 낸다. 하지만 생산비용 상승기, 제조업 침체기에 맞닥뜨리면 얘기가 달라진다. 기업 입장에선 제조시설을 다른 곳으로 옮기면 그만이다. 산업연구원 이두희 연구위원은 “산업이 고도화하면서 인건비 상승과 설비 노후로 이점이 사라진다. 생산시설은 언제든지 해외로 나갈 수 있어 지역경제 침체의 원인으로 작용한다”고 설명했다. 경북 구미가 대표적이다. 구미는 삼성전자 공장이 베트남으로, LG디스플레이 공장이 파주로 옮겨가면서 지역경제가 무너졌다. 전형적인 한국판 ‘러스트 벨트(Rust Belt·쇠락한 공장지대)’의 공식을 따랐다. 반면 위기에서 희망을 건져낸 지방자치단체도 있다. 경남 창원이 그렇다. 창원은 조선산업과 자동차 부품산업, 가전제품 제조업체가 밀집한 전통적인 제조업 강세 지역이다. 제조업 불황으로 창원의 경기도 좋지 않다. 하지만 지자체에서 ‘R&D시설 유치’라는 묘수를 찾아냈다. 공장과 R&D시설을 융합하면 기업의 갑작스런 이탈을 막을 수 있다. 창원시가 집중 지원에 나서면서 지역경제는 반등의 실마리를 잡았다. LG전자는 지난해 주방가전 R&D 기능을 창원으로 통합했다. 생산과 연구가 한 지역에서 이뤄지면서 신제품 출시는 활발해졌고 생산도 늘었다. 창원시 관계자는 “창원 전체 수출액의 약 20%를 차지하는 LG전자가 제조업 침체로 공장을 옮겼다면 지역경제는 급격히 무너졌을 것”이라고 말했다. 13일 국민일보가 전국 광역시와 기초지방자치단체인 시·군을 전수조사한 결과, 창원의 제조업 취업자 수는 지난해 상반기 14만7900명으로 바닥을 찍은 뒤 서서히 늘고 있다. 지난해 하반기 제조업 취업자 수는 16만1900명, 올해 상반기 16만4300명에 이른다. 인근의 경남 거제의 제조업 취업자 수가 같은 기간 1만명가량 감소한 것과 대조적이다. 지자체의 노력은 지역 중소기업으로 옮겨 붙었다. R&D 투자를 늘려 ‘날개달기’를 시도하는 중소기업이 늘었다. R&D로 제품 경쟁력이 높아지고, 이에 따라 공장이 신나게 돌아가는 선순환 조짐도 나타났다. 한국산업단지공단 경남지역본부에 따르면 창원국가산업단지 공장가동률은 현재 83% 수준이다. 보통 공장가동률이 85%를 넘으면 호황으로 본다. 창원의 공장가동률은 전국 공단 가운데 가장 높은 수준이다. 창원의 변화는 미국이 러스트 벨트에 기업 R&D시설을 집중 유치해 ‘제2 부흥기’를 이끌고 있는 점에 착안했다. 쇠퇴기를 겪던 디트로이트는 최근 자율주행차와 전기차 등 최첨단 기술을 다루는 스타트업(신생 벤처기업)의 무대로 변신했다. 전문가들은 R&D 투자액 1억원당 일자리 0.3개를 만들 수 있다고 본다. 한국경제연구원이 1999~2016년 상장기업 2044곳을 분석한 결과, R&D 투자에 대한 고용탄력성은 0.028(R&D 지출이 1% 증가할 때 고용은 0.028% 증가)에 달했다. 홍우형 한성대 교수는 “R&D 투자는 저성장과 고용 불안이라는 두 난제를 극복하기 위한 해결책이 될 수 있다”고 말했다.창원=전성필 기자 feel@kmib.co.kr\\n']\n"
          ],
          "name": "stdout"
        }
      ]
    },
    {
      "cell_type": "markdown",
      "metadata": {
        "id": "eh2Fcz-5OWDN"
      },
      "source": [
        "<strong> 데이터 분석 결과 </strong><br>\n",
        "<span style=\"color:red\">R&D 투자는 저성장과 고용 불안이라는 두 난제를 극복하기 위한 해결책이 될 수 있다.</span> 한국은 현재 제조업 분얀에서 이 두 난제를 갖고 있기에 R&D투자가 필요하다. 한국은 연구개발 투자에 있어서 어느 나라에 뒤쳐지지 않는다. 현재 한국의 제조업은 연구,개발 부분과 제조업의 본사가 이중구조로 분리된 채 운영된다.\n",
        " 위에서 보았던 것 같이 4차 산업혁명을 맞아 스마트공장은 제조업과 소프트웨어 회사와의 M&A의 인수합병이 활발히 이루어지는데에 반해 \n",
        " <span style=\"color:red\">한국은 오히려 이중구조로 분리되어 운영되는 점이 현재 연구개발 부분에 투자가 다른 주요국보다 많음에도 불구하고 그 효과를 보지 못하는 케이스같다.</span>"
      ]
    },
    {
      "cell_type": "markdown",
      "metadata": {
        "id": "MwqW7eBlOWDN"
      },
      "source": [
        "##### 사례: 세계 100대 브랜드 중 \"삼성\"의 시장가치, 브랜드 순위 평가"
      ]
    },
    {
      "cell_type": "markdown",
      "metadata": {
        "id": "C6dQxKW6OWDO"
      },
      "source": [
        "## 3. 제조업 강국  제조업 혁신을 위해 어떤 방향으로 연구개발을 확대하고 투자하는지 확인\n",
        "### 각 주요 국가들의 제조업 혁신 방향\n",
        "\n",
        "1) 독일 인더스트리 4.0 <br>\n",
        "2) 미국 making in America <br>\n",
        "3) 일본 일본재흥전략 <br>\n",
        "4) 중국 제조업 2025 <br>\n",
        "5) 한국 제조업 3.0 <br> "
      ]
    },
    {
      "cell_type": "markdown",
      "metadata": {
        "id": "NYBcK5ZcOWDO"
      },
      "source": [
        "1. 독일 인더스트리 4.0 "
      ]
    },
    {
      "cell_type": "code",
      "metadata": {
        "scrolled": true,
        "id": "977tv2z9OWDO",
        "outputId": "fcbd8e33-e5ec-4ec1-de9e-e0a8a56ff85d"
      },
      "source": [
        "html=urlopen(\"http://www.mfgkr.com/archives/3124\")\n",
        "bsObj=BeautifulSoup(html,\"html.parser\")\n",
        "GBR_link_text=[]\n",
        "for link in bsObj.find_all(\"div\",{\"class\":\"box-inner-block\"}):\n",
        "    for link_ in link.findAll(\"a\"):\n",
        "        GBR_link_text.append(link_['href'])\n",
        "for link in range(0,len(GBR_link_text)): \n",
        "    html=urlopen(GBR_link_text[link])\n",
        "    bsObj=BeautifulSoup(html,\"html.parser\")\n",
        "    GBR_ManufactureInnovation_title2 = bsObj.find(\"div\",{\"class\":\"entry\"}).find_all(\"h3\")\n",
        "    GBR_ManufactureInnovation_title1 = bsObj.find(\"div\",{\"class\":\"entry\"}).find_all(\"h4\")\n",
        "    GBR_ManufactureInnovation_content1 = bsObj.find(\"div\",{\"class\":\"entry\"}).find_all(\"p\")\n",
        "    print(\"---------------------------------TITLE---------------------------------\")\n",
        "    for response in GBR_ManufactureInnovation_title1:  \n",
        "        print(response.get_text())\n",
        "    for response in GBR_ManufactureInnovation_title2:  \n",
        "        print(response.get_text())\n",
        "    print(\"---------------------------------CONTENT---------------------------------\")\n",
        "    for response in GBR_ManufactureInnovation_content1:\n",
        "        print(response.get_text())"
      ],
      "execution_count": null,
      "outputs": [
        {
          "output_type": "stream",
          "text": [
            "---------------------------------TITLE---------------------------------\n",
            "성장하는 제조업 부가가치\n",
            "98% 미텔슈탄트의 저력\n",
            "높은 R&D 투자로 제조업 선순환\n",
            "독일, 그 곳은\n",
            "---------------------------------CONTENT---------------------------------\n",
            "4차 산업혁명의 진원지, 제조 강국. 독일을 부르는 다양한 수식어들이다. 문득 궁금해진다. 독일의 어떤 점이 이런 별명들을 얻게 했을까? 4차 산업혁명을 이끌어가는 독일의 저력을 파악하기 위해 독일 제조 산업의 특징을 주요 통계 수치들을 통해 간단히 살펴보자.\n",
            "\n",
            "유럽 내 가장 막대한 제조 산업 기반을 가진 독일. 그래서 이 나라 경제를 이끄는 저력은 제조업과 연관 산업에서 나온다. 독일 무역투자진흥청의 페기 괼리츠 (Peggy Gorlitz) 선임 투자컨설팅 매니저는 “제조업은 독일 경제에 중추적인 역할을 한다. 독일 제조 산업과 생산 기반 산업은 독일 경제의 총 부가가치 중 약 30% 이상의 비율을 차지하고 있다”고 밝혔다.\n",
            "그래서일까. 주춤하던 독일의 GDP가 2014년 폭발적으로 증가했다. 무엇보다 이 시기가 독일에서 추진한 Industrie4.0이 세계적으로 급물살을 타고 퍼져나간 시기라는 점은 주목할 만하다. 2016년 현재 독일의 GDP 규모는 미국과 중국, 일본에 이어 세계 4위를 자랑한다.\n",
            "\n",
            "독일 제조 산업의 또 다른 특징은 기업체 규모다. 조사를 실시한 총 24만 8,100개의 독일 기업체 중 250명 이하 중소기업의 비율이 약 98%에 달한다. ‘히든챔피언’을 뜻하는 미텔슈탄트(mittelstand)라고도 불리는 이들로 인해 독일 경제가 탄탄하게 성장하고 있다. 더 놀라운 점은 여기서 74%에 달하는 기업체의 직원 수가 최대 9명 남짓이라는 것. 이러한 소기업을 제외하 고도 직원 수가 채 50명이 안 되는 곳도 나머지 비중의 절반을 넘는다.\n",
            "---------------------------------TITLE---------------------------------\n",
            "완전 자동화된 맞춤형 생산 시스템 – SAP\n",
            "다양한 기업 모듈의 Plug&Play 실현 – SmartFactory KL\n",
            "중소 제조산업을 위한 솔루션 – It’s OWL\n",
            "지능형 센서로 I4.0의 토대 구축 – SICK\n",
            "미래 스마트공장의 청사진을 그리다\n",
            "Share this:\n",
            "관련\n",
            "---------------------------------CONTENT---------------------------------\n",
            "2016 하노버 산업박람회는 서로 다른 분야의 기술자와 연구진들이 협력하여 만들어낸 Indu strie 4.0을 쏟아내듯 선보인 첨단 미래 산업의 보고였다. 이곳에서 MFG가 만난 것은 무엇이었을까?\n",
            "지난 4월 25일부터 29일까지 개최된 하노버 산업박람회는 ‘통합된 산업의 솔루션을 발견하라!’는 모토를 내걸고 진행됐다. 이번 행사는 특히 주제에 걸맞게 다양한 분야의 산업체가 한 자리에 모여 기술 및 연구 협력을 통해 Industrie 4.0에 현실적으로 근접한 솔루션들을 제시했다는 평이다.\n",
            "\n",
            "소프트웨어 솔루션 전문업체 SAP은 기존의 비즈 니스 모델을 I4.0의 업종별 프로그램 컨설팅 영역으로 확장해 나가며 I4.0의 성공 사례 기업 중 하나로 꼽힌다. 특히 이 기업은 중소규모 기계설비 기업의 디지털 전환 사업을 지원한다. 수집한 정보에 근거에 고객 기업의 유통, 제품 개발, 주목 및 서비스에서 실시간으로 정확하게 대응하는 방안을 도출하는 것이 목적이다.\n",
            "이번 하노버 산업박람회에서 SAP은 이러한 자사의 솔루션 강점을 극대화하여 자사 포함 약 10개 업체의 협력 컨소시엄으로 구성된 Open Integrated Factory를 구축하고 대대적으로 공개하였다. 이번 박람회에서 시현된 SAP 의 Open Integrated Factory는 완전 자동화된 시스템을 이용해 개인별로 차별화된 열쇠고리를 만드는 제조 환경을 선보였다. 특히 이를 통해 대량생산을 하는 것이 아니라 각각의 제품을 모두 맞춤 생산하는 공정으로 시범 운영이 진행되었다는 점이 주목할 만했다.\n",
            "SAP의 디지털 엔터프라이즈 플랫폼 PR팀 캐서린본 오스틴(Cathrin von Osten)은 “다양한 고객별로 개별화된 주문에 따라 신속하게 제조할 수 있는 시스템을 갖추고 있다는 것이 핵심이다. 서로 다른 고객들의 주문사항을 OPC UA라 하는 기계 언어로 변환해서 이것을 통해 각 기계에 명령을 주고 제품을 만들어내는 시스템인 것”이라고 강조했다.\n",
            "이렇게 다양한 제품들의 상호호환성을 최대로 이끌어내어 유연한 작업이 가능한 환경을 우리는 ‘Plug&Play’라 부른다. 플러그만 꽂으면 바로 작업이 가능하다는 말이다. 꿈 같은 소리같겠지만, 이렇게 다양한 모듈이 공통된 기술 플랫폼으로 연결되어 스마트공장의 실제 생산 과정을 시연하는 모습은 이미 작년부터 하노버산업박람회에서 공개됐다. SmartFactory KL의 이야기다.\n",
            "SmartFactory KL은 유럽 최초의 4차 산업혁명 기술 플랫폼으로 다양한 업종과 연구기관이 공동으로 참여하고 있다. 이를 통해 여러 전문 분야의 기업 들이 하나의 기술 플랫폼을 만들고, 그 안에서 다양한 제품을 생산하는 작업을 구현해내는 것이 목적이다.\n",
            "이번 박람회에서 SmartFactory KL은 고객별로 각각 다른 색상과 정보 등을 적용할 수 있는 맞춤화된 명함케이스를 생산하는 과정을 시연했다. 명함케 이스를 생산하기 전 단계부터 주문자의 이름, 주소 등과 같은 개인 정보는 생산되는 제품에 내재된 작은 칩 안에 저장된다. 이를 통해 제품이 어느 단계에 있든지 각각의 설비 모듈에서 이 정보들을 실시간으로 읽고, 업데이트가 가능하다. 이는 앞서 살펴본 SAP의 Open Integrated Factory와 비슷하다. 개별적인 맞춤형 선택 주문 단계부터, 생산, 품질 검사와 유지보수까지 자동화된 설비 및 네트워크를 통해 모두 지능적으로 이뤄지고 있었다.\n",
            "\n",
            "37개 기업체와 기술연구기관이 함께하는 It’s OWL은 독일 북서부 지역 중심의 클러스터다. 기술 플랫폼인 SmartFactory KL 산업계의 협력 네트워크를 도모한다면, It’sOWL은 지역 클러스터 차원에서 4차 산업 혁명을 연구하고 있다.\n",
            "지역 클러스터인 It’s OWL은 ‘Intelligente Technische Systeme OstWestLippe’의 약자로 말 그대로 서로 다른 요소와 기술간 협력을 통해 ‘지능적 기술 시스템’을 개발하는 것을 목적으로 한다.\n",
            "이번 전시회에서 It’s OWL은 지능형 제품과 생산 프로세스를 위한 다양한 솔루션을 선보였다. 그 중에서도 이 클러스터의 참여 기업 중 하나인 DMG MORI가 머신 툴을 위한 작업 관리 서비스와 그 시뮬레이션을 선보여 많은 참관객들의 눈길을 사로잡은 것이 주목할 만했다.\n",
            "\n",
            "지능형 센서 및 센서 솔루션 전문기업 SICK는 “I4.0으로의 도전과 변화는 지능적이고 신뢰성 높은 센서 데이터를 통해 가능하다”고말한다. 이 주장을 증명하기라도 하듯 이번 박람회에서 SICK는 ‘Industrie 4.0을 지원한다’라는 모토를 내 걸었다.\n",
            "SICK는 박람회에서 최근 주요 관심사인 휴먼-로봇과의 협업 기술을 통해 다양한 최신 센싱 기술을 선보였다. 첨단 센서 솔루션이 적용된 로봇은 RFID 태그가 부착된 컵을 집어올리는가 하면, 동작하는 동안 사람이 일정 거리 안에 접근하면 움직이는 속도를 늦추 거나 아예 멈추는 등 섬세한 동작을 선보였다.\n",
            "또 SICK는 이력 추적 기술과 관련하여 공장내 RFID 태그가 장착된 물체의 움직이는 방향과 경로를 예측할 수 있는 판독·기록 장치를 최초로 선보였는데, 이 기술을 이용하면 공장 내 원하는 부품의 현재 위치를 실시간으로 확인할 수 있다.\n",
            "독일의 4차 산업혁명 특집\n",
            "[독일의 4차 산업혁명 ①] 독일 경제 및 제조 산업 주요 통계\n",
            "[독일의 4차 산업혁명 ②] 플랫폼l4.0 & RAMI 4.0 \n",
            "[독일의 4차 산업혁명 ③] 하노버 산업박람회에서 찾은 그것\n",
            "[독일의 4차 산업혁명 ④] 제조 산업의 현재와 미래를 잇는 러닝 팩토리\n",
            "[독일의 4차 산업혁명 ⑤] 독일의 스마트공장을 가다\n",
            "---------------------------------TITLE---------------------------------\n",
            "“우리의 핵심 가치는 융합에서 나온다”\n",
            "러닝 팩토리, 산업의 현재와 미래를 링크하다\n",
            "모든 에너지를 추적하는 미래 공장의 모습은?\n",
            "연구소와 산업체의 융합을 통한 새로운 미래\n",
            "Industrie 4.0을 여는 열쇠 ‘융합’\n",
            "Share this:\n",
            "관련\n",
            "---------------------------------CONTENT---------------------------------\n",
            "독일의 플랫폼 I4.0, 그리고 하노버 산업박람회에서 만난 지역 클러스터 It’s OWL까지. I4.0을 설명할때 대표적으로 꼽히는 이 성공사례들은 오늘날 I4.0의 발전 원동력이 ‘상호 협력’에 있었음을 한 번 더상기한다. 그렇다면 기업체가 아닌 대학 및 연구기관은 I4.0을 위해 어떤 노력을 하고 있을까?\n",
            "\n",
            "브라운슈바이크(Braunschweig). 도시 자체의 면적도 작을 뿐더러 인구 규모도 20만이 채 되지 않는 독일의 작은 도시다. 그러나 지리적으로 보면 유럽의 중심 부에 위치해 있으면서 근방에는 오랫동안 전문 분야에 집중해온 강소기업들로 이뤄진 산업시설이 가득하다. 이러한 지리적 이점과 환경 덕에 브라운슈바이크는 유럽의 어떤 지역보다 왕성하게 연구 개발 분야를 발전시켜왔고, 또 지금도 끊임없이 투자를 계속하고 있다.\n",
            "이 같은 브라운슈바이크의 연구개발 업적과 관련한 대표적인 시설 중 하나가 바로 브라운슈바이크 공과대학이다. 1745 년에 설립된 브라운슈바이크 공과대학은 아헨 공대, 뮌헨 공대 등과 함께 독일의 대표적인 공과대학으로, 가장 오랜 전통과 역사를 지닌다. 오랜 세월 만큼 기계공학 연구분야에서도 높은 명성을 자랑한다. 지난 2006년 공학 분야 관련 독일 9개 선도 대학 중 하나로 선정된 것 뿐만 아니라, 바로 작년까지도 거대한 규모의 연구센터를 계속해서 설립 중인 사실이 그것을 증명한다.\n",
            "브라운슈바이크 대학이 연구개발 분야에서 이처럼 끊임없는 성장과 투자를 반복할 수 있었던 비결은 무엇일까? 크리 스토프 헐먼(Christoph Herrmann) 교수는 이 대학 연구의 핵심가치가 ‘융합’에 있다고 말한다. “우리는 서로 다른 분야간 융합을 주제로 연구한다. 하나의 분야에만 한정되는 것이 아니라 다양한 분야와 서로 융합하는 것이 중요하다.”\n",
            "\n",
            "브라운슈바이크 대학은 이 같은 융합적인 연구를 목표로, 이를 실현하기 위한 세 개의 핵심 연구 인프라를 갖추고 있다. 러닝 팩토리(Learning Factories), 배터리 랩 팩토리(Battery Lab Factory) 그리고 오픈 하이브리드 랩 팩토리(Open Hybrid Lab Factory)가 그것이다.\n",
            "그 중에서도 ‘러닝 팩토리를 통한 융합 연구와 교육’은 브라운슈바이크 대학의 연구 기반 내지 연구 과제의 콘셉트라고 할 수 있다. 러닝 팩토리는 연구 주제에 대해 직접 시범공정을 운영할 수 있는 테스트 베드를 말하는데, 여기에서 현장 실험과 교수가 동시에 이뤄진다. 이론적으로 가르친 내용을 토대로 직접 현장 실습을 할 수 있는 환경이 조성되는 것이다. 이를 통해 미래 공장을 구현한 러닝 팩토리에서 키워낸 전문 인력들이 현재의 교육 과정에서 배운 것을 미래의 산업 현장에서도 유연하게 활용할 수 있도록 하는 것을 목적으로 한다.\n",
            "브라운슈바이크 대학의 러닝 팩토리는 조사 연구소(Research Lab), 실험 연구소(Experience Lap), 교육 연구소(Education Lab)로 구성된다. 각 실험실에서는 교수와 연구에 중점을 두고 있는데 조사 연구소의 경우 1:1 교육이, 실험 연구소는 소그룹으로 교육 및 연구가 이뤄지고, 교육 연구소에서는 실제로 산업현장에 바로 인력을 투입할 수 있을 만큼 체계적인 교육이 이뤄진다.\n",
            "이 같은 러닝 팩토리 연구 인프라를 통해 브라운슈 바이크 대학은 각각 Industrie 4.0, 생산공정에서의 에너지 효율화, 도심의 생활공간 안으로 공장 일자리를 끌어들일 수 있는 기술 연구를 목적으로 하는 ‘어반 팩토리’ 등의 주제를 연구 중이다.\n",
            "브라운슈바이크 대학의 또 다른 핵심 연구 주제인 ‘에너지와 자원 효율성’은 독일의 스마트 공장 프로젝트에서 중요한 개념이다. 브라운슈바이크 공과 대학은 여기에 Industrie 4.0 개념을 적용하여 에너지 소비를 측정하고 에너지 투명성을 높일 수 있는 시스템을 개발하여 적용한 시범공장을 설립, 실제로 운영하고 있다.\n",
            "이 공장이 바로 브라운슈바이크 공과대학 안에 위치한 리튬배터리를 생산하는 ‘배터리 랩 팩토리 (Battery Lab Factory)’다. 이곳은 독일의 니더작센(Niedersachsen)주와 지역 발전을 위한 유럽기금(European Fund)에 의해 설립됐다. 이 역시 보다 나은 ‘융합 연구’를 위해 독일의 대표적인 공과대학 연합인 TU의 5곳과 니더작센주립 연구센터, 그리고 다양한 전문가와 산업체들이 모여 협력을 도모하고 있다.\n",
            "연구의 핵심 과제는 그린 배터리(Green Battery)다. 환경적으로나 비용적으로 최적화된 자동차용 리튬배터리 모델을 만들어내는 것이다. 이에 헐먼 교수는 “다만 이러한 연구 목표를 이루기 위해서는 하나의 연구과제만 집중하는 것이 아니라 큰 그림을 보고 전체적인 프로세스에 집중하는 것이 중요 하다”며 다시 한번 협업을 통한 연구의 중요성을 강조했다.\n",
            "배터리 랩 팩토리 내부는 특히 다양한 스마트공장 관련 솔루션들이 눈에 띄었다. 이곳에서는 센서부터 공장 내부에 있는 모든 장비들의 에너지 소모량을 실시간으로 측정한다. 직접 개발한 모바일 애플리케이션을 이용하면 공장의 설비부터 전등 하나 하나까지 공장 내부의 모든 기기에 대한 에너지 공급 과정 및 전력 소모량에 대한 상황을 볼 수 있다. 또 공장 홀 내에 설치된 36개의 센서는 공기의 움직임이나 실내 온도 및 습도까지 기록한다. 이를 통해 습도, 온도 등의 작업 환경 변화로 인한 에너지 효율성을 연구할 수 있다. 공장 관계자는 “앞으로 열리는 전기차 시대를 맞아 여기에 필요한 배터리가 환경에 얼마나 영향을 미치는 지에 대한 연구가 필요하다. 배터리의 환경 문제는 주로 공정에서 기인하므로, 배터리 생산 공정에서 소모되는 자원과 공정 환경을 면밀히 측정해야 한다”고 설명했다.\n",
            "브라운슈바이크 대학의 핵심 연구 인프라 중 마지막으로는 오픈 하이브리드 랩 팩토리(Open Hybrid Lab Factory)를 꼽는다. 여기서 ‘오픈’이라는 개념은 연구소와 산업체가 하나로 융합하여 연구한다는 의미다. 하이브리드의 의미는 ‘경량 구조(Light construction)’를 뜻하는데, 이 분야에서 세계를 선도하는 기술을 개발해낼 수 있는 실험체를 만드는 것이 목표다. 이에 대해 헐먼 교수는 “이곳은 현재 공사중으로, 미가동 상태지만 공공기관과 민간기관의 파트너쉽 형태를 통해 보다 앞선 연구 인프라인 배터리 랩 팩토리 이상으로 특수한 형태의 연구소가 될 것”이라고 덧붙였다.\n",
            "독일의 4차 산업혁명 특집\n",
            "[독일의 4차 산업혁명 ①] 독일 경제 및 제조 산업 주요 통계\n",
            "[독일의 4차 산업혁명 ②] 플랫폼l4.0 & RAMI 4.0 \n",
            "[독일의 4차 산업혁명 ③] 하노버 산업박람회에서 찾은 그것 \n",
            "[독일의 4차 산업혁명 ④] 제조 산업의 현재와 미래를 잇는 러닝 팩토리\n",
            "[독일의 4차 산업혁명 ⑤] 독일의 스마트공장을 가다\n",
            " \n",
            " \n",
            "---------------------------------TITLE---------------------------------\n",
            "독일의 스마트공장을 가다 – PITTLER\n",
            "프뢸리히 공장의 스마트 포인트\n",
            "‘생산의 완전 디지털화’로 현실이 된 스마트공장\n",
            "Industrie 4.0이 우리에게 남긴 것\n",
            "Share this:\n",
            "관련\n",
            "---------------------------------CONTENT---------------------------------\n",
            " \n",
            "126년의 역사를 가진 DVS 테크놀로지 그룹은 총 11개 계열사로 구성돼있으며 부품 제조부터 표면처리, 연삭, 공작기계 제작까지 각종 전문 분야 계열사를 포괄하는 기업이다. 이 DVS 테크놀로지 그룹 산하에 속해 있는 그룹 중 하나가 바로 피틀러 (PITTLER). 이곳은 자동차부터 항공기까지 광범위한 부품 제조 산업을 전문적으로 취급하고 있다.\n",
            "이 기업은 I4.0 분야에서도 명망있는 회사 중 하나로 손꼽힌다. I4.0과 관련하여 이회사가 제시하는 것은 ‘턴키(Turn Key)를 통한 생산의 완전 디지털화(Digitalisierung der Produktion)’다. ‘턴키’란 열쇠(key)를 돌리면(turn) 모든 설비가 가동되는 상태로 인도한다는 뜻이다.\n",
            "\n",
            "⬇︎\n",
            "말 그대로 피틀러의 지역 영업 매니저 다미르 프티카(Damir Pticar)는 “고객사에서는 공장을 지을 부지만 제공한다. 필요한 것은 그것 하나다. 그럼 건축부터, 기계 구입, 설계, 전기시설과 난방 같은 공조시설까지 나머지 모든 것은 DVS 그룹에서 턴키로 진행한다”고 말한다. DVS 그룹은 이 같은 턴키 작업을 통해 이미 I4.0을 주제로 생산의 완전 디지털화를 실현하고 있다.\n",
            "이 사례가 바로 피틀러로부터 약 100여 km 떨어진 곳에 있는 DVS 그룹의 또 다른 계열사, ‘프뢸리히 (FRÖ HLICH)’다. 이곳 공장에 있는 모든 기계와 사물은 서로 간 소통을 통해 움직한다. 기계 사이에서 부품을 가공하고, 필요에 따라 옮기는 것은 로봇의 몫이다. 전기로 움직이는 지게차는 기계가 필요한 부품을 알아서 가져오고, 차체가 방전되면 알아서 충전소를 찾는다. 이 모든 것이 작업자 없이 오직 기계들에 의해 수행된다.\n",
            "또 이 과정을 거쳐 만들어진 모든 제품에는 QR코 드가 삽입된다. 이 안에는 제품 고유의 시리얼 넘버가 입력되는데, 이 QR코드 정보를 통해 20년 후라도 최종 소비자는 제품이 언제 어떤 기계에서 어떻게 가공되었는지 등을 살펴볼 수 있다.\n",
            "\n",
            "프렐릿에서 생산하는 부품 중 하나로, 대형 화물트럭 바퀴에 나사못을 박아 고정하는 용도로 쓰인다. 현재 이부품은 비슷한 형상으로 총 16가지 종류로 제작되고 있다. 하루 총 생산량은 1,250개다.\n",
            "\n",
            "시뮬레이션부터 작업, 모니터링, 측정, 자동화 셀, 청소, 칩 처리까지 모든 생산공정의 과정이 자동으로 이뤄진다. 이러한 가공 정보는 모두 QR코 드를 통해 저장된다.\n",
            "\n",
            "RFID칩이 장착된 지게 차는 어떤 유형의 부품이 어떤 기계로 가야하는지 등을 스스로 판단한다. 이모든 작업 요소에 대한 입력값이 치밀하게 설계 돼있기 때문이다. 이를 통해 지게차는 별도의 작업자 지시 없이도 가공할 기계에서 필요로 하는 부품을 알아서 싣고온다.\n",
            "스마트공장, 그것이 궁금하다\n",
            "\n",
            "Q 이 공장을 짓는 데 들인 총 비용은?\n",
            "공장 내부에는 총 8대의 메인 스마트 장비가 있고, 가격은 대당 약 78만 유로 정도다. 그 외에 모든 비용까지 합산하면 총 1,458만 유로, 그러니까 우리 돈으로 약 191억 원이 투입되었다.\n",
            "Q 구축 기간은? 전체 18개월 정도.\n",
            "Q 공장 설비 콘셉트 및 설계 등에 소요된 기간은? 4개월.\n",
            "Q 이 시스템을 운영하는 데 필요한 최소 인력은?\n",
            "1교대당 3명씩 있다고 하면, 하루 3교대 8시간 작업에 총 9명의 인력이 필요하다.\n",
            "Q 완전 자동화 생산 시스템을 통한 직접적인 이익은?\n",
            "기존의 수작업 환경에서는 하루 3교대로 계산해 보면 약 24명 이상의 인력이 투입됐다. 이 시스템 도입 후에는 최소 운용 인력이 9명이다 보니 총15명의 인력 감축 효과가 있고, 이로 인해 인력비를 연간 25~30% 정도 절감할 수 있다.\n",
            "Q 예상하는 손익분기점은?\n",
            "프뢸리히의 경우 I4.0 공장을 구축하는 데 기존 공장 비용과 비교해서 약80억 정도의 추가 비용이 있었다. 여기에 15명의 인력 감축으로 인한 인건 비를 고려하면 연간 7억 5천만 원정도 절감된다. 덧붙여 장비 수명은 기본 적으로 20년 이상 보장된다. 이렇게 마이너스 되는 금액과 플러스되는 금액, 그리고 장비 수명을 모두 고려해보면 약 10년 후 원가를 회수할 수 있다는 계산이 나온다.\n",
            "진정한 4차 산업혁명을 이룩하기 위해 필요한 ‘연결’. 이를 위한 제조업 표준의 토대를 다지고자 VDMA를 비롯한 플랫폼 I4.0은 끊임 없는 노력을 거듭한 끝에 RAMI 4.0이라는 결실을 맺었다. 그리고 이 결과물을 더욱 완벽한 제조업 표준을 위한 도구로 만들기 위해 지금 이 순간에도 많은 전문가들이 협력하고 있다. 하나의 연구가 아닌 융합적인 연구를 위해 수많은 분과와 전문가가 하나로 뭉친 브라운슈바이크 대학의 사례도 마찬가지다.\n",
            "이들이 하나같이 강조했던 키워드는 ‘협력’이었다. 한정된 분야의 전문가, 기술만이 아닌 누구나 참여할 수 있는 오픈 플랫폼을 통한 협력이 있었다. 이를 통해 독일은 하노버 산업 박람회에서 보여준 첨단 미래공장의 청사진 들을, PITTLER가 말하는 생산의 완전 디지털화를 통한 무인 자동화 공장과 같은 사례를 오늘도 만들어내고 있다.\n",
            "I4.0은 더 이상 ‘뜬구름 잡는 소리’만은 아니다. 가장 큰 증거가 바로 RAMI 4.0이다. I4.0을 실현하기 위한 실질적인 토대가 갖춰진 것이다. 이제 앞으로의 발전 속도는 이전과는 비교할 수 없을 정도로 빨라질 것이다. 우리도 보고만 있을 수는 없다. 누군가 결론을 내려주길 기다릴 시간도 없다.\n",
            "어쩌면 연결이란 단순히 공장에서 보여지는 결과물만을 뜻하는 것은 아닐 것이다. 연결은 우리 제조인 서로가 먼저 손을 잡고 마음을 열어 하나로 연결되는 ‘협력’에서 시작한다. 우리 역시 이를 위한 오픈 플랫폼과 협력을 위한 노력이 절실히 필요한 때다.\n",
            "독일의 4차 산업혁명 특집\n",
            "[독일의 4차 산업혁명 ①] 독일 경제 및 제조 산업 주요 통계\n",
            "[독일의 4차 산업혁명 ②] 플랫폼l4.0 & RAMI 4.0 \n",
            "[독일의 4차 산업혁명 ③] 하노버 산업박람회에서 찾은 그것 \n",
            "[독일의 4차 산업혁명 ④] 제조 산업의 현재와 미래를 잇는 러닝 팩토리\n",
            "[독일의 4차 산업혁명 ⑤] 독일의 스마트공장을 가다\n"
          ],
          "name": "stdout"
        }
      ]
    },
    {
      "cell_type": "markdown",
      "metadata": {
        "id": "1wMRFvmUOWDO"
      },
      "source": [
        "2. 미국 Making In America - \"미국 제조업의 위기와 부활\""
      ]
    },
    {
      "cell_type": "code",
      "metadata": {
        "scrolled": true,
        "id": "0jECdt-yOWDO",
        "outputId": "f1106b43-c105-47fb-f3f0-ac2b314c860c"
      },
      "source": [
        "html=urlopen(\"http://www.mfgkr.com/archives/2397\")\n",
        "bsObj=BeautifulSoup(html,\"html.parser\")\n",
        "US_link_text=[]\n",
        "#USA_ManufactureInnovation = bsObj.find_all(\"div\", {\"class\":\"box-inner-block\"})\n",
        "for link in bsObj.find_all(\"div\",{\"class\":\"box-inner-block\"}):\n",
        "    for link_ in link.findAll(\"a\"):\n",
        "        US_link_text.append(link_['href'])\n",
        "for link in range(0,len(US_link_text)): \n",
        "    html=urlopen(US_link_text[link])\n",
        "    bsObj=BeautifulSoup(html,\"html.parser\")\n",
        "    USA_ManufactureInnovation_title = bsObj.find(\"div\",{\"class\":\"entry\"}).find_all(\"h4\")\n",
        "    USA_ManufactureInnovation_content = bsObj.find(\"div\",{\"class\":\"entry\"}).find_all(\"p\")\n",
        "    print(\"---------------------------------TITLE---------------------------------\")\n",
        "    for response in USA_ManufactureInnovation_title:  \n",
        "        print(response.get_text())\n",
        "    print(\"---------------------------------CONTENT---------------------------------\")\n",
        "    for response in USA_ManufactureInnovation_content:\n",
        "        print(response.get_text())\n",
        "\n",
        "#div -> h4"
      ],
      "execution_count": null,
      "outputs": [
        {
          "output_type": "stream",
          "text": [
            "---------------------------------TITLE---------------------------------\n",
            "금융위기로 휘청거린 미국의 성찰\n",
            "제조업 르네상스를 꿈꾸며\n",
            "Made in USA\n",
            "4차 산업혁명 선도로 새로운 부활 노린다\n",
            "---------------------------------CONTENT---------------------------------\n",
            "6월부터 진행해온 MFG 4차 산업혁명 특집의 마지막을 장식하는 국가는 미국이다. 약화된 제조업 기반으로 2008년 국제 금융위기에 커다란 타격을 입은 미국. 제조업의 중요성이 재조명 받기 시작한 시점에 대통령으로 당선된 버락 오바마는 Remaking America를 외치며 미국 제조업 살리기에 나섰다. 때마침 불어온 4차 산업혁명의 바람에 맞춰 미국 제조업의 르네상스를 이끌고 있는 것은 오랜 시간 미국이 주도해온 최첨단 IT기술이다.\n",
            "전세계를 떠들썩하게 하는 미국 대선에서도 제조업은 핵심 키워드다. 힐러리도, 트럼프도 한 목소리로 제조업의 부활을 주창하고 있다. 사실 미국의 제조업 살리기는 한두 해의 이야기가 아니다. 버락 오바마(Barack Obama)는 지난 2009년 대통령 취임사를 통해 ‘리메이킹 아메리카(Remaking America : 미국 경제 재건)’를 슬로건으로 내걸고 “경제 위기에 빠진 미국을 선조들이 물려준 덕목으로 헤쳐 나가자”며 제조업 부활의 신호탄을 쏘아 올렸다. 서비스 중심의 산업 구조에서 제조업으로의 회귀를 다짐한 데에는 2008년 국제 금융위기의 영향이 컸다.\n",
            "미국은 1990년대까지 100년 이상 제조업을 선도해온 국가다. 높은 생산 능력에 기반하여 세계 제조업 생산에서 차지하는 비중이 30%에 육박하던 미국에서 제조업의 입지가 좁아지기 시작한 것은 정부가 금융업을 필두로 한 서비스업 위주의 경제정책을 추진하면서부터다. 금융, IT, 부동산 산업은 가파르게 성장했고, 제조 기업들은 고임금 및 각종 규제 문제 탓에 생산 기지를 해외로 이전시키면서 자연스레 경제 주도권은 서비스업으로 넘어가게 되었다.  1970년대까지 20% 중반을 유지하던 제조업의 GDP 대비 부가가치 비중은 2000년대 초반에 15% 까지 내려갔고, 급기야 2009년에는 10% 초반까지 떨어졌다.\n",
            "내로라하는 글로벌 브랜드를 다수 보유하고 있음에도 불구하고 자꾸만 위축되는 제조업. 미국 정부는 별다른 대응이 없었다. 오히려 산업 발전에 따라 제조업에서 서비스업으로 비중을 옮겨가는 것이 당연한 수순이라 생각했고, 서비스업만으로 지속 가능한 경제 성장이 가능할 것이라고도 생각했다.\n",
            "제조업을 살리자는 목소리가 터져 나온 것은 2008년 리먼 브라더스발 국제 금융위기에 직격탄을 맞은 것에서 비롯되었다. 금융 부문의 과도한 규제완화와 시스템 허점이 글로벌 금융위기의 직접적인 원인으로 작용하여 미국 경제가 크게 휘청이기 시작했고, 영국 등 제조업 기반이 약한 유럽 국가 역시 마찬가지였다. 하지만 독일이나 일본, 네덜란드등 제조업 고용 비중 및 GDP 비중이 높은 국가들이 큰 충격 없이 빠르게 위기를 벗어나는 모습을 보이자 서비스업 위주의 경제정책을 되돌아보고 제조업 경쟁력 회복의 필요성을 절감하게 되었다.\n",
            "2009년 오바마 행정부의 출범을 시작으로 미국은 본격적인 제조업 부활 정책을 추진하기 시작했다. 취임사를 시작으로 해마다 주요 연설을 통해 제조업 경쟁력 강화를 강조하며 다양한 정책을 내놓았다.\n",
            "2009년 ‘미국 제조업 활성화를 위한 프레임 워크’ 를 발표했고, 2011년에는 ‘첨단 제조업 파트너십(AMP : Advanced Manufacturing Partnership)’을 발표하며 첨단제조 기술 R&D를 중시하는 정책 노선을 뚜렷이 드러냈다. 2012년에 ‘국가 첨단제조업 전략계획’ 및 제조업 활성화 정책을 공표하고 제조 혁신 인프라 NMI(National Network for Manu- facturing Innovation)를 구축했으며, 2014년에는 제조혁신 활동을 가속화하기 위한 다양한 개선책을 담은 ‘신 행정 행동 계획’을 발표하는 등 꾸준히 제조업 강화 정책을 전개해오고 있다. 올해 역시 첨단 제조업 육성을 통한 부가가치 창출을 위해 책정한 예산이 무려 6억 800만 달러에 달한다. 이처럼 꾸준한 노력의 결과는 어떨까?\n",
            "실제로 미국 제조업은 부활하고 있다. 딜로이트 글로벌이 미국경쟁력위원회와 공동 조사하여 3년마다 발표하는 ‘글로벌 제조업 경쟁력 지수’에 따르면 2010년 이후 꾸준히 경쟁력 지수를 높여오던 미국이 2020년에 세계의 공장 중국을 제치고 제조업 경쟁력 순위 1위를 차지할 것으로 전망된다. 많은 경제 전문가들이 세계 제조업 시장에서 미국의 시대가 새로이 도래했다고 이야기하고 있는데, 이처럼 부활하는 미국에서 특히 주목해야 할 것은 리쇼어링(Reshoring)과 스마트 매뉴팩처링(Smart Manufacturing)이라 할 수 있겠다.\n",
            "리쇼어링은 비단 미국뿐만 아니라 세계 각국의 화두이기도 하다. 여러 나라들이 자국 경제 활성화를 위하여 해외로 나간 자국 기업 생산 기지의 본국 회귀에 총력을 쏟고 있는데, 미국의 경우에는 정부가 내민 강력한 당근이 제조업 리쇼어링을 성공적으로 이끌었다. 설비투자 세제 혜택을 1년에서 2년으로 연장하고, 해외 공장의 이전비용도 최대 20%까지 지원했다. 법인세도 35%에서 28%로 낮추는 등 각종 제도적 지원을 아끼지 않았다. 중국이나 멕시코, 인도 등 주요 생산지의 인건비 및 제조 원가 상승이나 셰일가스 생산 확대를 통한 미국 내 에너지 가격의 대폭 하락 역시 기업들의 본국 회귀를 부추겼다.\n",
            "\n",
            "포드와 GE, GM 등 간판 기업들이 빠르게 리쇼어링을 진행했다. 중국으로 진출한 애플도 10여 년만에 귀향을 결정했으며 월풀, 캐터필러, 다우케미컬 등도 개선된 본국의 사업 환경에 발걸음을 돌리고 있는 중이다. 오바마의 제조업 살리기 정책이 시작된 이후 해외에서 미국으로 유턴을 결정한 기업이 100여 곳이 넘는다고.\n",
            "월스트리트 저널은 이 같은 리쇼어링이 “제조업 패러다임의 변화를 불러올 것”이라고 평가하고 있다. 미국 내에서는 제조 기술 혁신이 적극적으로 전개되고 있는 중으로, 제조업은 더 이상 노동집약적인 산업이 아니며 ICT, 소프트웨어, 신소재 기술 등과 결합하여 고도로 발전되는 고부가가치 산업으로서 그 중요성이 더해지고 있다. 이런 제조업의 첨단화 현상 자체가 리쇼어링의 요인으로 작용하기도 하는 것이 사실이다. 많은 전문가들은 리쇼어링이 활발히 진행됨에 따라 미국이나 독일 등의 선진 국가에서는 최첨단 제조업을, 중국의 경우에는 중간단계의 기술력이 필요한 산업, ASEAN과 같이 포스트 차이나로 주목받고 있는 신흥 개발국들의 경우에는 단순 조립 생산 산업을 하게 되는 구조로 세계 제조업 구조가 재편될 것이라고 전망하고 있다.\n",
            "독일의 Industry 4.0 공표를 시작으로 이야기가 시작된 ‘4차 산업혁명’은 올해 다보스포럼에서 핵심 의제로 선정되면서 그 어느 때보다 많은 주목을 받고 있는 상황이다. 갈수록 복잡 해지고 다변화되는 시장 상황에 대응 가능한 유연하고 효율적인 생산 체제와 비즈니스 모델을 구축하는 것은 모든 제조 기업들의 과제가 되었다. 첨단 제조 파트너십 공표부터 꾸준히 기술 간 융합을 통한 제조업 첨단화에 주목 해오고 있던 미국은 지금까지 세계 시장을 주도해오고 있는 강력한 IT 및 소프트웨어 경쟁력을 기반으로 4차 산업혁명의 패권 장악에 나서며 또 다른 부활의 기회를 노리고 있다.\n",
            "미국의 4차 산업혁명 특집\n",
            "① 미국 제조업의 위기와 부활\n",
            "② 세계 장악한 IT 기술로 모든 것을 연결한다\n",
            "③ IoT 위에 만들어지는 똑똑한 공장\n",
            "④ 첨단 제조 기술로 제조업 부활 Boosting!\n",
            "---------------------------------TITLE---------------------------------\n",
            "강력한 IT, 그 중심의 클라우드\n",
            "미국 신산업혁명의 바탕이 된 GE의 산업인터넷\n",
            "---------------------------------CONTENT---------------------------------\n",
            "새로운 산업혁명이 추구하는 방향은 크게 두 가지다. ‘초연결성’과 ‘초지능성’이 그것이다. 사람-사물-시스템이 모두 연결되고, 모두 데이터를 생산하며, 축적된 데이터를 활용하여 기존 산업 프로세스를 혁신하고 새로운 가치를 창출해내는 전에 없던 산업 생태계를 조성해 나가는 것이 바로 4차 산업혁명이다. IoT, 빅데이터, 인공지능(AI) 등의 ICT 기술 들이 4차 산업혁명의 핵심 기술로 자주 언급되는 것도 바로 그 때문이다. 전세계는 지금 첨단 정보통 신기술과 기존 산업 기술의 융합을 통해 남들과 차별화된 부가가치를 창출할 수 있는 다양한 길을 모색하고 있으며, 그 중에서도 ‘초연결’의 기반이자 산업 혁신의 핵심 기술로 부상한 IoT 패권 장악을 위한 싸움은 치열하게 진행되고 있는 상황이다.\n",
            "\n",
            "세계 4차 산업혁명의 주도권을 찾아오겠다는 미국의 야망을 허투루 들어 넘겨서는 안되는 이유도 여기에 있다. 구글, 애플, 마이크로소프트, 시스코, IBM 등 내로라하는 글로벌 기업들은 발빠르게 솔루션 개발 및 표준 플랫폼 조성에 나서며 IoT 시장을 선점하고 있고, 정부 차원에서도 관련 기술 강화를 위한 정책적 지원을 이미 오래전부터 이어오고 있다.\n",
            "미연방정부는 이미 2008년에 국가 경쟁력에 영향을 미칠 수 있는 ‘파괴적 혁신 기술’ 중 하나로 IoT를 선정하고 해당 분야 연구개발에 대해 꾸준한 정책적 접근을 이어오고 있다. 2013년 12월에 발표된 ‘스마트 아메리카(Smart America)’ 프로젝트가 대표적이다. 이는 미국 연방정부 내 각 부처간 ICT 분야 연구개발 사업들을 하나로 연계한 연구개발 프레임워크인 NITRD(The Networking and Information Technology Research and Development)의 상급연구그룹인 CPS 기획 그룹이 추진 중인 프로젝트. 스마트 시티 구축을 목적으로 산업분야를 비롯해 공공기관, 의료, 산업, 에너지 등의 분야를 대상으로 IoT를 활용한 연구 프로젝트를 본격 개시했다.\n",
            "IoT 생태계 선점 경쟁에서 미국이 순항 중인 것은 바로 오랜 기간 장악한 IT 기술력, 그 중에서도 클라우드 컴퓨팅 기술 덕분이다. 일반적으로 클라우드라고 하면 기본적인 컴퓨팅, 스토리지, DB만 생각하는 경우가 많다. 그러나 최근 아마존웹서비스(AWS), 마이크로소프트 등의 클라우드 서비스를 살펴보면 머신 러닝, 빅데이터 분석 및 활용 등 솔루션 영역이 확대되어 있는 것을 알 수 있다. 기업들은 클라우드를 통해 언제, 어디에서든 세계 각지의 생산 현장, 각종 기기나 시스템 정보를 확인할 수 있고 축적된 데이터의 분석을 통해 문제를 사전에 예측하고 대응하면서 생산 효율성을 높일 수 있는 것이다. 모든 것이 연결된 IoT·IoE 환경에서 폭발적으로 생성되는 데이터를 얼마나 잘 활용하여 부가가치를 창출할 수 있는지가 4차 산업혁명의 성패를 좌우하는데, 클라우드 컴퓨팅 기술이 이를 위한 강력한 정보 처리 기반의 역할을 하기 때문에 제조업 패러다임 전환의 가장 큰 원동력으로 클라우드 컴퓨팅을 꼽는 사람들도 많다.\n",
            "이 같은 클라우드 컴퓨팅 기술에 대한 미국의 장악력은 어마어마하다. 시장조사기업인 시너지 리서치 그룹(Synergy Research Group)이 최근 발표한 ‘2016년 2분기 클라우드 인프라 서비스 시장 점유율 및 매출 성장’ 조사 결과를 보면 AWS, 마이크로 소프트, IBM, 구글의 4대 업체가 세계 클라우드 시장의 절반 이상을 점유하고 있는 것으로 나타났다. 미국 기업들이 IT 시장에 큰 영향력을 행사하는 것은 이미 익숙한 일이지만, 클라우드 시장에 대한 높은 장악력은 특히나 이례적이라고. 성장 속도도 빠르다. 마이크로소프트와 구글은 각각 100%와 162%의 성장률을 기록했으며, AWS와 IBM도 50% 이상의 높은 성장률을 기록하고 있다.\n",
            "미국은 강력한 클라우드 컴퓨팅 기술을 기반으로 발전된 IoT, 빅데이터, 인공지능 등 첨단 기술을 활용하여 4차 산업혁명에 접근하고 있는데, GE의 ‘산업인터넷’ 전략은 이를 가장 잘 보여주는 모델이라할 수 있다.\n",
            "제프리 이멜트(Jeffrey Immelt) GE 회장은 지난 2015년 미국 샌프란시스코에서 열린 콘퍼런스에서 제조업 분야의 디지털화에 대한 자사의 노력이 성과를 올리기 시작했다며, “그간 확보한 소프트웨어 기술을 통해 IoT 비즈니스를 본격적으로 추진, 소프트웨어 사업 매출을 오는 2020년까지 현재 수준의 세 배인 150억 달러 이상으로 끌어올리고 세계 10대 소프트웨어 업체가 될 것”이라는 비전을 발표했다. GE의 새로운 비전의 중심에 자리하고 있는 것이 바로 산업인터넷이다.\n",
            "산업인터넷은 IoT 개념을 산업분야에 접목한 것으 로, 제품 진단 소프트웨어와 분석 솔루션을 결합하여 기계와 기계, 기계와 사람, 기계와 비즈니스 운영을 서로 연결시켜 기존 설비나 운영 체계를 최적화하는 차세대 기술을 말한다. 센서가 부착된 똑똑한 기계(Brilliant Machine)들이 끊임없이 데이터를 생성해내면, 클라우드를 베이스로 데이터 (Industrial Big Data)를 고도로 분석하여 작업자에게 의미 있는 정보를 제공함으로써 효과적인 의사결정을 돕는다는 것이 골자다. 이것은 단순히 생산 프로세스 효율화에 국한되는 것이 아니라 기존 개념을 벗어난 전혀 새로운 하드웨어 제품 모델로의 진화로 이어진다. 가령 GE는 자사가 생산하는 하드웨어 제품에서 실시간으로 수집되는 방대한 데이터를 바탕으로 제품에 대한 예지보전이 가능한 서비스를 판매, 제조업의 서비스화를 추진하고 있기도 하다.\n",
            "산업인터넷을 공표함과 동시에 새로운 제조업 생태계 조성을 위한 소프트웨어 역량 및 기반 구축에 적극적으로 나서고 있는 GE. 2011년 11월에 글로벌 소프트웨어 센터를 설립하고 10억 달러 투자 계획을 발표했으며, 2013년 첫 공개 이후 지속적으로 개발에 노력을 쏟아온 클라우드 기반 산업인터넷 플랫폼 ‘프레딕스(Predix)’를 마침내 2016 모바일 월드 콩그레스에서 완전히 공개하기에 이르렀다. 특히 프레딕스를 오픈소스로 개방하면서 플랫폼 거대화를 통해 산업인터넷 및 IoT의 글로벌 표준으로 자리잡겠다는 의지를 밝히고 있다. 2014년 GE의 주도하에 AT&T, 시스코, IBM, 인텔까지 5개사를 주축으로 설립된 산업인터넷 컨소시엄(IIC, Industry Internet Consortium) 역시 GE의 산업인터넷 모델을 글로벌 플랫폼으로 확장시키기 위한 움직임으로 볼 수 있다.\n",
            "\n",
            "이러한 GE의 산업인터넷 전략은 첨단 ICT 기술 연계를 통해 사물과 데이터의 융합을 실현하려는 미국 신산업혁명의 모델로, 「제4차 산업혁명」(하원규·최남희 저, 2015)에서는 GE의 전략을 바탕으로 한 미국의 4차 산업혁명 접근법을 다음과 같이 정리했다.\n",
            "· 클라우드 서비스를 기축으로 하는 미국의 인터넷 우위성을 최대한 활용한다.\n",
            "· 제조업 관련 기업과 인터넷 기업에서 축적한 방대한 데이터를 인공지능에 의하여 처리하여 전세계로 서비스를 제공한다.\n",
            "· 그 과정에서 전세계의 공장 및 설비를 제어 하여 생산을 관리함으로써 미국 주도의 산업 플랫폼과 표준화를 실현해간다.\n",
            "미국 주도의 ‘산업 플랫폼 및 표준화’를 위해 IIC 외에도 미국 기업들을 주축으로 하는 다양한 컨소시엄이 구성되어 IoT·IoE 시대에 대처해 나가고 있다.\n",
            "미국의 4차 산업혁명 특집\n",
            "① 미국 제조업의 위기와 부활\n",
            "② 세계 장악한 IT 기술로 모든 것을 연결한다\n",
            "③ IoT 위에 만들어지는 똑똑한 공장\n",
            "④ 첨단 제조 기술로 제조업 부활 Boosting!\n",
            "---------------------------------TITLE---------------------------------\n",
            "GE의 생각하는 공장\n",
            "로크웰의 커넥티드 엔터프라이즈\n",
            "---------------------------------CONTENT---------------------------------\n",
            "앞서 IoT가 제조업 혁신의 핵심으로 부상했다고 말한 바 있다. 제조 현장은 IoT 기술과의 융합을 통해 모든 산업 기계들을 하나로 연결하고, 물리적인 세계와 가상세계를 연결할 수 있다. 초연결 환경에서 생성되는 방대한 데이터를 활용해 어떤 새로운 제품이건, 얼마나 다양한 제품이건 생산체계를 유연하게 운영할 수 있고 높은 생산 효율성도 달성할 수있는 스마트 팩토리로의 진화는 모든 제조 현장의 목표다. IoT와 빅데이터 기술의 우위성을 활용하여 새로운 산업 플랫폼 구축을 주도하고 있는 미국 기업들도 ‘똑똑한 공장’ 만들기에 한창이다.\n",
            "\n",
            "2015년 2월, 인도 마하라슈트라주 푸네시에서 GE의 새로운 공장이 가동을 시작했다. 축구장 38개의 면적과 맞먹는 어마어마한 크기의 공장은 항공, 발전, 오일&가스, 운송까지 GE의 네 가지 사업영역에 필요한 제품들을 한 곳에서 생산하는 멀티모달 공장(Multi-Modal Factory)이다. 여러 형태의 조립, 부품 제조, 가공 등 제조기술의 다양한 모드(Mode)를 사용하여 제트엔진부터 기관차 부품에 이르는 수많은 제품을 푸네 공장에서 모두 생산하고 있는 것이다.\n",
            "한 공장에서 제한된 인력으로 사업영역도 다른 다양한 제품을 만들어내는 일이 어떻게 가능할까? 공장시설과 컴퓨터가 산업인터넷을 통해 실시간으로 정보를 공유하여 돌발적인 가동 중지 예방 및 품질 유지가 가능한 의사 결정을 내리게 해주며, 공장의 생산 라인이 인터넷을 통해 공급망·서비스· 유통망과 연결되어 있어 최적화된 생산을 유지할 수있기 때문이다. GE는 이처럼 똑똑한 공장을 Brilliant Factory, 생각하는 공장이라고 부른다.\n",
            "\n",
            "GE의 생각하는 공장은 빅데이터, 소프트웨어, 센서, 적층식 제조 분야의 발전을 기반으로 물리적 세계와 디지털 세계를 통합한 완전히 새로운 제조 공장을 말한다. 폭발적으로 증가한 산업 데이터 관리를 가능하게 하는 산업인터넷과 운영기술의 결합을 통해 제품 설계와 생산, 서비스 방식을 변화시키면서 운영 비용을 절감하고 생산 속도를 향상시키며, 이를 통해 결국은 고객을 위한 혁신을 가능케 하는 것이 궁극적으로 지향하는 바다.\n",
            "전단위적인 데이터 수집과 분석을 통해 공정및 작업을 최적화하는 GE의 이 똑똑한 공장 중심에는 ‘디지털 스레드(Digital Thread)’가있다. 제품 설계부터 사후 서비스까지 제품의 전체 수명주기 동안 이어지는 데이터의 원활한 흐름을 말하는 디지털 스레드는 공장이 스스로를 발전시키는 에코 시스템 구축의 핵심 동인이다. 디지털 스레드 안에서 생성되는 다양한 피드팩 루프는 GE의 공장을 ‘생각하는’ 공장이라 부를 수 있게 하는 이유다. 공장이든, 공급망이든, 서비스센터든 어디에서나 얻을 수 있는 피드백으로 제품 설계나 제품 생산에 대한 끊임없는 배움, 개선, 최적화가 이루어진다.\n",
            "GE는 전세계에 위치한 자사의 500여 개 공장을 생각하는 공장으로 전환시킬 계획이며, 현재 약 100여 곳의 공장에서 산업인터넷을 기반으로 한 운영 기술을 실현하고 있다. 기존 제조시설을 생각하는 공장으로 전환함으로써 제조 비용 및 시간을 최대 20% 줄일 수 있을 것으로 기대하고 있는 중이다. 이러한 가치를 고객들에게도 나누고자 클라우드 기반의 산업인터넷 플랫폼인 프레딕스를 오픈소스로 개방했고, PLM 기업인 PTC와 함께 산업용 소프트웨어 제품 ‘브릴리언트 팩토리 스위트’를 제공하는 등 생각하는 공장 전파를 위한 다양한 툴을 마련하고 있다.\n",
            "\n",
            "글로벌 산업 자동화 전문 기업인 로크웰오토메이션의 ‘커넥티드 엔터프라이즈’는 생산 현장과 기업 레벨의 경영시스템이 공장 뿐만 아니라 고객, 부품 공급업체, 에너지 공급사, 물류유통업체 등 기업을 둘러싼 모든 공급망에 걸쳐 사물인터넷(IoT)으로 초연결된 기업을 의미한다. IoT기술을 통해 수집된 데이터를 정보화·문맥화하여 기업 및 공장 운영을 위한 의사 결정에 활용함으로써 생산성 향상, 자산 활용도 증가, 기업 리스크 감소, 총 소유 비용 절감 등기업이 추구하는 비즈니스 목표 달성과 글로벌 제조 경쟁력을 확보할 수 있다. 커넥티드 엔터프라이즈는 스마트 제조 실현을 위한 기술 비전이며, 이를 제조 업체가 구현 및 실행하기 위해서는 IT와 OT(제조운 영기술)의 융합이 필수적이다. 로크웰의 IT와 OT 융합 전략 중심에는 10여 년 전부터 시스코와 협업하며 많은 투자를 진행한 네트워크 인프라가 자리하고 있다. 산업용 이더넷 프로토콜인 EtherNet/IP 기반의 통합 네트워크 인프라 및 보안 기술을 구축하고 있는데 , I T 기반의 단일 표준 네트워크인 EtherNet/IP는 제어단과 정보단이 하나의 표준을 사용하여 전세계 곳곳에 위치한 공장과 사무실을 하나로 연결하는 데이터 통합 관리의 기반이다.\n",
            "표준 네트워크 외에도 모빌리티, Smart Things, 클라우드, 빅데이터, 복합 제어 기술을 포함하는 다양한 IoT 기술로 자동화 기술 및 정보 솔루션, 서비스와 엔지니어링 역량을 확보하며 고객들의 커넥티드 엔터프라이즈 구현을 돕기 위한 기틀을 마련했다. 또한, 시스코를 비롯해 화낙, 팬듀이트, 마이크로소 프트, AT&T 등 글로벌 IT 및 OT 기업들과 파트너십을 맺고 다양한 스마트 제조 시나리오를 구상하고 있기도 하다.\n",
            "커넥티드 엔터프라이즈 비전을 접하는 많은 사람 들은 산업인터넷 연결을 통한 원활한 데이터 흐름으로 달성하는 높은 운영 효율성에 대해 긍정적인 반응을 보내고 있지만, 한편으로 보안 문제에 대해 우려를 표하기도 한다. 실제로 네트워크와 보안문제는 떼려야 뗄 수 없는 관계다. 특히 잠깐의 가동 중단이 큰 손실로 이어지는 제조 현장의 경우에는 더 민감할 수밖에 없다. 이에 로크웰 역시 ‘심층방어 (Defense in depth)’ 보안 접근법을 채택하여 하드웨어 및 소프트웨어에 다중 보안 기능을 추가, 스마트 공장의 최우선 과제인 보안에 대한 우려를 불식하고 있다. 시스코와 함께 참조 보안 네트워크 아키텍처를 개발, 제조 업체의 공장 보안 설계에 대한 가이드 출판 및 업데이트 중이고, 네트워크 및 보안 컨설팅 서비스까지 제공하며 산업 보안 분야에 있어 독보적 위치를 차지하고 있다.\n",
            "\n",
            "로크웰은 커넥티드 엔터프라이즈가 단순히 이론화되는 단계를 넘어서서 실제로 기업이 해당 비전을 적용하고 운영할 수 있는 실행 모델을 만들었는데, 진단 – 보안&업그레이드 – 운영 데이터의 자본화 – 분석 – 최적화 및 협업의 5단계로 구성되어 있다. 다른 단계들을 염두에 두고 각 단계를 평가, 설계 및 구현 하는 것이 바람직하지만 각자가 처한 고유 상황에 따라 가장 적합한 단계에서부터 구현 과정을 시작 하며 제조 현장을 스마트하게 변화시킬 수 있다.\n",
            "미국의 4차 산업혁명 특집\n",
            "① 미국 제조업의 위기와 부활\n",
            "② 세계 장악한 IT 기술로 모든 것을 연결한다\n",
            "③ IoT 위에 만들어지는 똑똑한 공장\n",
            "④ 첨단 제조 기술로 제조업 부활 Boosting!\n"
          ],
          "name": "stdout"
        },
        {
          "output_type": "stream",
          "text": [
            "---------------------------------TITLE---------------------------------\n",
            "제조 환경 변화시키는 3D 프린팅\n",
            "그래서 미국은 패권 장악 성공할까?\n",
            "---------------------------------CONTENT---------------------------------\n",
            "미국의 4차 산업혁명, 제조업 혁신을 이야기할 때 빠질 수 없는 것이 바로 적층 제조 방식(Additive Manufacturing), 즉 3D 프린팅이다.\n",
            "주요 제조 강국들은 제조업 부활을 위한 첨단 제조 기술 확대에 나서고 있는데, 이 때 빠지지 않고 등장하는 핵심 기술 중 하나가 3D 프린팅이다. 지난해 10월 개최된 ‘한림원 창립 20주년 국제 컨퍼런스’에 참석한 미국 국립 표준 기술원(NIST) 이석우 부국장은 “산업인터넷을 기반으로 변화하는 제조업 생태계에 필요한 것 중 하나가 적층 제조 방식”이라며, 아이디어를 간편하게 실체화하는 3D 프린팅이야말로 지속적으로 발생하는 새로운 수요와 그에 따른 새로운 생산 시스템의 필요성이 증가하는 상황에 대응하는 해결책이라고 설명했다.\n",
            "3D 프린팅이 제조업을 변화시킬 첨단 제조의 선도적 기술로 떠오르며 전세계가 관련 연구개발에 열을 올리는 가운데, 3D 프린팅 기술을 가장 많이 보유하고 있는 미국이 가장 적극적으로 산업 키우기에 나서고 있는 것은 어찌 보면 당연한 일이다. 오바마 대통령은 2013년 연두교서를 통해 “3D 프린터가 우리의 모든 제조 방법을 혁신할 것”이라며 이를 위한 투자를 아끼지 않을 것임을 밝힌 바 있다. 실제로 미국은 ‘첨단 제조 파트너십(AMP)’에서 제조업 부활을 위한 10개 핵심 제조 기술 중 하나로 3D 프린팅 기술을 선정하고, 10억 달러 규모의 투자 계획을 발표하기도 했다.\n",
            "정부, 기업, 연구계가 너나없이 제조업 혁신 수단으 로서의 3D 프린팅 기술 발전에 집중하고 있는 가운데, 압도적인 기술력과 시장 점유율로 업계를 선도하고 있는 스트라타시스(Stratasys) 역시 꾸준한 기술 개발로 제조업 내 3D 프린터 활용도를 높이는 중이다.\n",
            "지난달 코엑스에서 개최된 ‘스트라타시스 아시아 태평양 3D 프린팅 포럼 2016’에서 기조 연설에 나선 스트라타시스 아태지역 사장 오먼 크리거는 “3D 프린팅은 단순히 시제품 제작에만 활용되는 것이 아니라 다양한 제조 분야에서 활용될 수 있는 기술이다. 현재도 지그와 같은 맞춤형 툴을 제작하는 툴링 분야가 빠르게 성장하고 있는 중이며,곧 부품 및 완제품 생산에도 활용될 것으로 기대하고 있다”며, 이제는 제조업계가 3D 프린팅에 기반한 미래 경쟁력 준비를 미뤄서는 안된다고 강조했다.\n",
            "이와 함께 제조 분야에서 3D 프린팅 활용도를 높일 수 있는 자사의 신기술도 소개했다. Y축 방향의 적층 컨셉트를 적용한 ‘인피니트 빌드’와 로봇을 통해 5축 활용 적층이 가능한 ‘로보틱 컴포지트’를 통해 제작 가능한 크기의 제약, 시간, 정밀도 등 기존 3D 프린팅이 가지고 있던 한계를 극복할 수 있다고. 스트라타시스 코리아의 다니엘 톰슨 지사장은 “스트라타시스는 설립 당시부터 지금까지 최우선 과제로 자리하고 있는 혁신을 꾸준히 선도하며 곧 맞이할 새로운 산업 환경에 대한 기여도를 높여나갈 것”이라고 전했다.\n",
            "3D 프린팅, IoT 를 필두로 디지털 제조기술, 경량화 금속, 스마트 센서, 표준화 모듈 플랫폼 등을 아우르는 첨단 제조 기술 육성은 4차 산업혁명 시대의 도래를 기점으로 제조 최강 국의 지위를 되찾으려는 미국 제조업 부흥 전략의 핵심이다. 그렇다면 이러한 패권 장악의 꿈은 실현될 수 있을까?\n",
            "올초 다보스 포럼에서 스위스연방은행이 발표한 주요국의 4차 산업혁명 준비 수준 평가 결과를 보면 교육 시스템, 기술 수준, 노동 시장 유연성 등에서 최상위권을 기록한 미국의 위상은 압도적이다. 기사 초두에서 이야기 했듯이 세계 제조업에 미국이 미치는 영향력이 예전에 비해 위축된 것은 사실이지만 이것은 상대적인 것일 뿐, 여전히 미국의 기업들과 넘쳐나는 기술력이 세계에 미치는 힘은 강력하다. 오랜 시간 축적되어온 견고한 지배 기반과 첨단 제조업 육성에 대한 전투적 자세가 새로운 제조 패러다임에서 주도적 위치를 차지하겠다는 미국의 청사진에 기대를 걸 수밖에 없게 하는 이유이지 않을까?\n",
            "미국의 4차 산업혁명 특집\n",
            "① 미국 제조업의 위기와 부활\n",
            "② 세계 장악한 IT 기술로 모든 것을 연결한다\n",
            "③ IoT 위에 만들어지는 똑똑한 공장\n",
            "④ 첨단 제조 기술로 제조업 부활 Boosting!\n"
          ],
          "name": "stdout"
        }
      ]
    },
    {
      "cell_type": "markdown",
      "metadata": {
        "id": "Vq-B7IdHOWDP"
      },
      "source": [
        "#### 3. 일본 일본재흥전략 - \"제조업이 살아야 나라가 산다\""
      ]
    },
    {
      "cell_type": "code",
      "metadata": {
        "scrolled": true,
        "id": "Ue1tqiSpOWDP",
        "outputId": "74fb07f7-575b-4a91-c30d-79dc7f907d19"
      },
      "source": [
        "html=urlopen(\"http://www.mfgkr.com/archives/2752\")\n",
        "bsObj=BeautifulSoup(html,\"html.parser\")\n",
        "JPA_link_text=[]\n",
        "#USA_ManufactureInnovation = bsObj.find_all(\"div\", {\"class\":\"box-inner-block\"})\n",
        "for link in bsObj.find_all(\"div\",{\"class\":\"box-inner-block\"}):\n",
        "    for link_ in link.findAll(\"a\"):\n",
        "        JPA_link_text.append(link_['href'])\n",
        "for link in range(0,len(JPA_link_text)-1): \n",
        "    html=urlopen(JPA_link_text[link])\n",
        "    bsObj=BeautifulSoup(html,\"html.parser\")\n",
        "    JPA_ManufactureInnovation_title2 = bsObj.find(\"div\",{\"class\":\"entry\"}).find_all(\"h3\",{\"class\":\"ja_title\"})\n",
        "    JPA_ManufactureInnovation_title1 = bsObj.find(\"div\",{\"class\":\"entry\"}).find_all(\"h4\")\n",
        "    JPA_ManufactureInnovation_content1 = bsObj.find(\"div\",{\"class\":\"entry\"}).find_all(\"span\",{\"class\":\"s1\"})\n",
        "    JPA_ManufactureInnovation_content2=bsObj.find(\"div\",{\"class\":\"entry\"}).find_all(\"div\",{\"class\":\"ja_text\"})\n",
        "    print(\"---------------------------------TITLE---------------------------------\")\n",
        "    for response in JPA_ManufactureInnovation_title1:  \n",
        "        print(response.get_text())\n",
        "    for response in JPA_ManufactureInnovation_title2:  \n",
        "        print(response.get_text())\n",
        "    print(\"---------------------------------CONTENT---------------------------------\")\n",
        "    for response in JPA_ManufactureInnovation_content1:\n",
        "        print(response.get_text())\n",
        "    for response in JPA_ManufactureInnovation_content2:\n",
        "        print(response.get_text())\n",
        "        \n",
        "# 모든 제조업 강국이 IoT산업을 제조업 스마트 팩토리를 구축하기 위하는데에 사용하고 있다. 일본재흥전략, 다른 나라들과 다르게 \n",
        "#일본만이 내세운 것이 있으니 그것은 바로 로봇이다. 위에서 보았던 것과 같이 독일과 함께 생산성에 있어 매우 강력한 효율을 보여주고 있다.\n",
        "# 즉, 크롤링을 통해 알아본 결과 \"모노즈카이\"라는 정책을 통해 단순 신제품 개발뿐만 아니라\n",
        "#기존의 장치나 작업자, 자원 등의 포텐셜을 끌어올림으로써 제조 효율을 높이는 것을 가리킨다.\n",
        "# 이들은 마이스터 즉, Iot, 클라우드 기반 시스템뿐만이 아닌 로봇까지 아울러 스마트 팩토리 증진에 힘쓰고 있다."
      ],
      "execution_count": null,
      "outputs": [
        {
          "output_type": "stream",
          "text": [
            "---------------------------------TITLE---------------------------------\n",
            "  IVI, 기업 간 벽을 허물 수 있을까 \n",
            "‘연결되는 공장’ 실현을 위한 ‘완만한 표준’\n",
            "\n",
            "그들 앞에 놓인 과제들\n",
            " 스루풋(throughput)을 극대화하는 ‘연결되는 공장’ \n",
            "  새로운 비즈니스를 창출하는 ‘연결되는 제품’ \n",
            "  생산방식 변화에 대응하는 솔루션\n",
            "---------------------------------CONTENT---------------------------------\n",
            "“이제 ◯◯도 IoT 시대!”\n",
            " 냉난방부터 CCTV, 헬스케어까지. 빈 칸에는 어떤 단어든 넣을 수 있다. 최근 삼성, KT, LG유플러스 등 유수의 기업들이 IoT(Internet of Things)를 활용한 제품 및 서비스를 잇따라 선보이고 있다. 머지않아 IoT는 우리들의 일상에 완전히 자리잡을 것으로 보인다. 그런데 빈 칸에 넣을 수 있는 단어가 또 하나 있다.\n",
            "  바로 ‘제조업’이다. IoT는 전 세계 제조업에 변혁의 물살을 몰고 왔다. 지난해 6월 일본 경제산업성과 후생노동성, 문부과학성이 동시에 발표한 제조기반 기술 진흥시책 보고서 ‘모노즈쿠리 백서(ものづくり 白書)’에서도 IoT가 큰 비중을 차지하고 있었다. 이는 미국이나 유럽에 비해 일본 제조업에서의 IoT 활용 사례가 적으며, 범용 플랫폼을 제공하는 기업이나 단체가 없었기 때문이다.\n",
            "  IVI, 기업 간 벽을 허물 수 있을까 \n",
            " 정부가 나서서 인더스트리 4.0 등의 정책을 추진하는 독일과 달리 미국은 민간기업인 GE가 산업 인터넷 전략(Industrial Internet)을 앞세워 4차 산업혁명으로의 첫발을 내딛었다. 물론 그 과정에서 미국 정부는 지원을 아끼지 않았으며 방향 수립에도 참여했다. 이외에도 미국에서는 산학연관이 모여 올신 얼라이언스(AllSeen Alliance), OIC(Open Interconnect Consortium), 스레드(Thread) 등의 다양한 연합을 이뤄 ICT 관련 전략을 추진하고 있다.\n",
            "\n",
            " 한편 일본은 정부가 지난해 4차 산업혁명 위주로 일본재흥전략을 개정하고 로봇신전략을 발표한 이후, 민간기업을 중심으로 연구와 제언 등 다양한 활동이 이뤄졌다. 그 중에서도 일본기계학회 생산시스템부문을 중심으로 한 연구회가 두각을 보였다. 이후 2015년 6월, 연구회는 IVI(Industrial Value Chain Initiative)로 발전하게 되었다. IVI의 정식 기업 회원으로는 도시바, 닛산자동차, 미쓰비시전기, 후지쯔, 파나소닉 등 95개사가 있다. \n",
            "이들은 ‘연결되는 공장’을 목표로 워킹 그룹을 구성해 레퍼런스 모델을 도출한다. 도출된 레퍼런스 모델은 IVI 회원사 또는 외부 기업들이 효율성과 실현 가능성 등을 검증한다. 또 정기적으로 심포지엄을 개최해 연구 및 논의 결과를 발표하고 있다.\n",
            "\n",
            "  ‘연결되는 공장’이라고 하면 흔히들 IT를 활용해 공장 내 센서와 장비 등을 연결하는 것을 떠올린다. 하지만 IVI는 한발 더 나아가 서로 다른 기업과 기업 사이를 연결해야 한다고 강조한다. 제품을 만드는 프로세스가 기업의 경계를 넘어 상호 연계되는 것이다.\n",
            "지금까지 기업 간의 서플라이 체인은 ‘매매 관계’로 연결되어 있었다. 원청업체에서 지불한 금전적 대가에 대해 하청업체가 소재나 부품 등을 공급하는 식이다. 하지만 ‘연결되는 공장’이 실현될 경우 제조 프로세스 중 일부를 위탁하거나 중간품 또는 제작 중인 제품을 거래하는 등 기업 간 관계가 한층 유연해질 것으로 보인다. 다양한 기업 간 논의가 필요한 것도 이때문이다.\n",
            "\n",
            "  사실 IVI 설립 이전에도 민간기업을 중심으로 한 ‘연결되는 공장’에 대한 논의는 꾸준히 이뤄져왔다. IVI를 특히 주목할 만한 이유는 IVI가 일본 기업들의 적극적인 참여를 이끌어냈을 뿐만 아니라, 그들이 일궈낸 정보를 해외로 발신해 표준화의 주도권을 일본으로 가져오겠다고 선언했기 때문이다.\n",
            "  아래의 도표는 서로 다른 두 업무를 연결하기 위해 표준규정에 업무 시스템을 맞춰가는 접근법과, 각업무의 공통점을 도출해 업무 간 연계를 위한 규정을 별도로 검토하는 접근법을 비교한 것이다. 물론 전자에 비해 후자가 훨씬 번거롭다. 완만한 표준은 이처럼 번거로운 작업을 최대한 간소화하기 위해 표준기술을 이용한다. 공통규정을 만들 때, 모형이 되는 레퍼런스 모델을 몇 가지 준비해 이들을 조립하는 식이다.\n",
            "  뛰어난 기술력을 바탕으로 독일이나 미국과는 다른 노선을 걷고 있는 일본. IVI 설립은 ‘연결되는 공장’ 실현을 위한 의미있는 한발짝이지만, 아직 그들의 앞에는 여러 과제들이 산적해있다. IT 및 FA 관련 기업들은 IVI에 큰 호응을 보이고 있지만, 정작 실제로 ‘연결되는 공장’을 구축할 수요기업의 참여는 부족한 편이다. IVI 참여를 거부한 기업의 담당자는 “IVI 참여로 얻을 수 있는 장점이 무엇인지 모르 겠다”고 밝히기도. 기업 간 연결로 인한 정보 유출 이나 사이버 공격에 대한 가능성을 우려하는 것이다. 하지만 4차 산업혁명의 발신지인 독일 역시 처음에는 지멘스나 SAP과 같은 IT 및 FA 기업이 혁명을 주도했지만 점차 자동차나 소재 등 수요기업으로 참여의식이 번졌음을 고려하면 일본 4차 산업혁명에 대한 전망은 어둡지만은 않아 보인다.\n",
            "사람-기계-IT가 서로 협조하는 차세대 모노즈쿠리– 미쓰비시전기(三菱電氣)\n",
            " 글로벌 자동화 기업인 미쓰비시전기가 스마트공장 솔루션인 e-F@ctory를 선보인 것은 지금으로부터 13년 전인 2003년이다. ‘4차 산업혁명’이라는 단어가 나오기 전부터 IT를 접목한 공장자동화에 관심을 쏟아온 것이다. 그렇다면 미쓰비시전기가 그리는 차세대 제조 현장은 어떤 모습일까?\n",
            "  제조 현장의 가시화를 위한 e-F@ctory 미쓰비시전기는 처음으로 e-F@ctory를 처음 선보인 2013년부터 지금까지 ‘IT와 FA를 활용한 제조업의 진화’를 목표로 삼고 있다. 즉 IT와 FA를 통해 개발, 생산, 보수 전반에 걸쳐 비용(TCO)을 절감하는 것이다. 중요한 것은 이러한 기술들을 적절하게 활용하는 것이다.\n",
            "  최근 ICT 기술이 급속도로 발전하면서 생산설비에서 발생하는 방대한 양의 데이터(big data)를 빠른 속도로 주고받는 것이 가능해졌다. 하지만 단순히 기초 데이터를 IT 시스템으로 올려보내는 것만으로는 아무것도 해결되지 않는다. 기초 데이터는 결과 값에 지나지 않기 때문이다. ‘연결’을 통해 제조 현장을 가시화하고 이를 바탕으로 현장을 분석 및 개선하기 위해서는 결과 값을 만들어낸 환경에 대한 정보가 필수적이다.\n",
            "  여기서 중요한 것이 시스템에서 비즈니스 판단을 담당하는 매니지먼트 기반이다. 상위 매니지먼트 레벨은 하위 레벨의 동작 기준을 정의해야 하며, 하위 매니지먼트 레벨은 상위 레벨이 원하는 정보를 전달하지 않으면 의미가 없다. 따라서 기준(rule)과 기준을 연결하는 것이 중요하며, MES와 ERP는 이러한 매니지먼트 기반의 상단에 위치한다.\n",
            "  이에 대해 미쓰비시전기 나고야제작소의 e-F@ ctory 추진프로젝트그룹 주관기술장 가와타 카오루(河田 薰)는 “미쓰비시전기는 사이버 상의 기준치와 실제로 측정된 값 간의 차이를 검지해 이를 상위 단계로 제대로 연결하는 것을 추구한다”고 말했다.\n",
            "  파트너와의 연계를 통한 폭넓은 솔루션 제공 미국의 자동화 기업 GE는 지난 2014년 캐나다의 보안회사인 월드테크를 인수했다. 4차 산업혁명의 조류에 발맞춰 소프트웨어 분야를 강화하려는 것이다. 반면 미쓰비시전기는 강점인 FA에 집중하는 동시에 e-F@ctory 얼라이언스를 통해 다채로운 솔루션을 제공하고 있다.\n",
            "  e-F@ctory 얼라이언스는 미쓰비시전기가 추진하는 FA 파트너 프로그램으로, e-F@ctory를 해당 시점의 최신 기술로 표현하기 위해 다양한 분야 및 지역의 기술력 있는 파트너와 연계를 맺고 있다. 파트너로는 미쓰비시의 FA 기기와 접속 친화성이 좋은 소프트웨어 및 기기를 제공하는 기업과 이들을 활용해 시스템을 구축하는 SI 등이 있다. 현재 미쓰비시전기는 300개사 이상의 파트너를 보유하고 있으며, 대표적인 글로벌 메이커로는 IBM, SAP, Intel, CISCO, Microsoft 등이 있다.\n",
            "  미쓰비시전기는 e -F@c to r y 얼라이언스를 통해 제공 가능한 솔루션의 범위를 넓히는 것 외에도, 인공지능, 딥 러닝(deep learning) 등 소프트웨어 분야에서의 최신 기술을 꾸준히 받아들이고 있다. 또한 생산성 향상을 위한 대처 방안(Forecasting activity)과 사회 변화에 대응하기 위한 방안(Back casting activity)을 동시에 강화하고 있다.\n",
            "  미쓰비시전기는 4차 산업혁명에 많은 관심을 기울이고 있는 만큼, 앞서 이야기한 IVI 이외에도 RRI의 워킹 그룹 중 하나인 ‘IoT에 의한 제조 비즈니스 혁명 WG’에서 히타치와 함께 활발한 활동을 보이고 있다. 또 각종 단체나 학술기관의 다양한 대응에도 참여하고 있으며, Industry 4.0이나 IIC(Industrial Internet Consorcium) 등의 관련 기관과도 정보를 교환하는 등 다양한 활동을 전개하고 있다.\n",
            "구슬이 서 말이라도 꿰어야 보배 – 도시바(TOSHIBA)\n",
            " 전력 및 사회 인프라, 전자·전기기기 등을 공급하는 도시바는 ‘연결되는 공장’ 사례를 꼽을 때마다 빠지지 않는 기업이다. 4차 산업혁명의 수요기업인 동시에 공급기업이기도 한 도시바. 그들이 제시하는 차세대 모노즈쿠리 솔루션, 마이스터(Meister) 시리즈는 제조 현장에서 수집된 방대한 양의 데이터를 분석 및 활용해 제품을 최적화하는 것을 목표로 하고 있다.\n",
            "  제조업 가치사슬의 진화 도시바의 마이스터 시리즈는 제조업 가치사슬 전반에 걸쳐 IoT 및 ICT를 효과적으로 활용하는 ‘차세대 모노즈쿠리’를 목표로 한다. 마이스터 시리즈는 제조 현장에서 발생하는 정보를 체계적으로 수집하는 마이스터 IoT™와 수집된 정보를 리얼타임으로 축적하는 마이스터 DigitalTwin™, 생산 현장의 가시화를 돕는 마이스터 Visualizer™, 제조 프로세스에서 발생하는 빅데이터에서 다양한 관계성을 파악함으로써 데이터 활용을 돕는 마이스터 Analysis™로 구성된다.\n",
            "  마이스터 시리즈의 특징으로는 디바이스부터 클라우드 서비스에 이르기까지 토탈 IoT 솔루션을 제공한다는 점을 들 수 있다. 솔루션의 범위는 수평적으로는 제품 기획, 설계, 생산, 운전, 보수에 이르는 제품 라이프사이클 전체의 디지털 결합을 가리키며, 수직적으로는 제조 현장에서부터 매니지먼트에 이르기까지 실시간으로 디지털 결합되는 것을 가리킨다. 즉 제조업 가치사슬 전반에 걸쳐 실제 제조 현장에서 발생한 데이터를 디지털 공간 상에 재현해 활용할 수 있는 것이다.\n",
            "  이와 관련해 도시바가 강조하는 개념이 ‘모노즈카이(ものづかい)’다. 모노즈쿠리가 뛰어난 기술력을 바탕으로 없던 물건을 만들어내는 것이라면, 모노 즈카이는 기존의 장치나 작업자, 자원 등의 포텐셜을 끌어올림으로써 제조 효율을 높이는 것을 가리킨다. 제조 현장에서 수집한 데이터를 가시화 및 분석하는 것은 모노즈카이를 위한 첫걸음인 것이다.\n",
            "  성큼 다가온 차세대 제조 현장 일본 욧카이치시(四日市市)에 위치한 도시바 반도체 메모리 공장은 IoT를 활용한 ‘연결되는 공장’의 대표적인 사례 중 하나다. 공장은 4,000대 가량의 각종 기계들로 구성되어 있는데, 이들 기계에서 발생하는 데이터는 초당 약 18,000건, 하루 16억 건에 달한다. 이는 일반적인 공장에서 다루는 정보량의 40배에 해당된다. 이처럼 막대한 양의 데이터는 서버로 수집된 뒤, 양품률과 생산성을 높이기 위한 생산 라인 분석에 활용된다.\n",
            "생산성 향상은 물론, 새로운 비즈니스 창출까지 – NEC\n",
            " 4차 산업혁명에 대한 관심이 높아지고 통신 및 데이터 처리 기술이 발달함에 따라 ‘연결되는 공장’의 사례 역시 속속 증가하고 있다. 이에 대해 일본의 통신·전자기기 전문기업 NEC는 IoT가 관리자 단계에서 실증(實證)을 위해 쓰이는 시대는 지났다고 말한다. 어느덧 IoT는 제조 현장에서 장비 및 시스템에 실질적으로 적용되는 실장(實裝)에 접어들었다는 것이다. 이와 함께 주목할만한 것이 NEC의 IIoT 솔루션에 대한 이미지다. NEC는 앞으로 공장은 물론 제품 역시 연결되어야 한다고 말한다. 그 이유는 무엇일까. \n",
            " 스루풋(throughput)을 극대화하는 ‘연결되는 공장’ \n",
            " 지금 이 순간에도 생산 현장에서는 수없이 방대한 양의 데이터가 발생한다. ‘연결되는 공장’은 이러한 데이터를 효율적으로 추적(traceability) 및 수집하는 것에서부터 시작된다. 이와 관련해 NEC에서 선보인 솔루션이 ‘물체지문인식에 의한 기판 ID 식별’이다. 대개 제품의 이력을 추적하기 위해 바코드나 RFID를 활용한다. 그러나 PCB기판처럼 제품의 크기가 작은 경우 바코드나 RFID를 설치하기 힘들다. 이때 활용할 수 있는 것이 물체지문인식기술이다.\n",
            " 고도의 화상인식기술을 바탕으로 조그만 부품의 요철까지 구별할 수 있어 태그를 부여하는 등의 수고를 덜 수 있다. 이와 함께 NEC는 제품 검사에 필요한 인력을 대폭 줄일 수 있는 라인 스캐너 카메라에 의한 외관검사장치를 선보였다. 위와 같은 솔루션으로 수집한 화상정보와 각 공장으로부터 모은 4M(Man, Machine, Material, Method) 정보를 빅데이터 기술로 분석할 경우, 차세대 제조 현장을 실현할 수 있는 것이다.현장에서 생산된 제품을 추적해 데이터를 수집했다면, 이를 가시화할 필요가 있다. 이와 관련해 NEC는 거점 및 공정별 체류 정도를 분석해 스루풋 (throughput)을 높이는 솔루션과 비콘(beacon) 이나 RFID를 통해 작업자 및 제품의 흐름을 수집한 뒤 최적의 동선을 안내해 작업현장을 효율화하는 기능을 제공한다.\n",
            "  새로운 비즈니스를 창출하는 ‘연결되는 제품’ \n",
            "‘\n",
            "연결되는 제품’은 제품에 IoT를 적용해 부가가치를 높이고 새로운 비즈니스를 창출하는 것을 가리킨다. 지금까지는 완성된 제품을 판매한 뒤 기업이 제공할 수 있는 서비스는 수리나 점검 등의 애프터 서비스가 고작이었다. 하지만 제품에 IoT를 적용할 경우 품질 및 구동 데이터를 수집해 제품이 고장나기 전 소비자에게 알람을 보내거나, 해당 데이터를 PLM 단계로 올려보내 제품 설계에 반영할 수 있다. 여기에 3D 화상인식 기술과 스마트 글래스를 활용하면 영상·음성공유를 통한 원격 업무 지원 시스템을 구축할 수도 있다. 새로운 비즈니스를 창출할 수 있는 것이다.\n",
            "생산방식 변화에 대응하는 법– 후지쯔(富士通)\n",
            " 글로벌 ICT 기업인 후지쯔는 제조기업의 계획 및관리업무를 통합적으로 관리하는 GLOVIA smart 시리즈를 통해 ‘연결되는 공장’에 대응하고 있다. 그중에서도 GLOVIA smart PRONES는 일본 내 중견제조기업이 가장 많이 사용하는 생산관리 패키지다. GLOVIA smart PRONES는 생산정보시스템을 중심으로 판매, 원가 시스템 등 다양한 옵션을 통해 전반적인 업무를 서포트하며 MTS(Make To Stock), ETO(Engineering To Order), MTO(Make To Order) 등의 다양한 생산관리방식에 대응할 수 있다.\n",
            " 또 데이터의 가시화를 실현하기 위해 시스템에 축적된 장비 구동 데이터를 효과적으로 활용해 ‘데이터 품질의 향상’과 ‘다각도에서의 데이터 분석’을 지원하는 BI 툴을 지원하고 있다. 이로 인해 축적된 데이터를 누구나 간단히 추출 및 분석할 수 있게 되어, 실시간으로 정보를 공유하는 것이 가능해진다. 이는 시장 변화에 발맞춘 신속한 의사결정과 개선으로 이어진다.\n",
            "  생산방식 변화에 대응하는 솔루션\n",
            "  최근 4차 산업혁명으로 인해 부가가치가 높은 개별 수주생산(job-order production)에 대한 관심이 높아지고 있다. 개별 수주생산은 주문생산이나 수주생산과 비슷하지만, 계속성이 없어 주문을 받을 때마다 재료나 공정, 작업규정 등을 새로 정하는 것이 특징이다. 많은 기업들이 고객들의 다양한 니즈를 만족하기 위해 시장에서의 상품수요를 예측해 생산하던 예측 생산(stock production)에서 매스 커스터마이제이션과 개별 수주생산 방식으로 이동하고 있다. 그렇다고 해서 기존의 예측 생산 방식을 완전히 포기할 수는 없다. 따라서 아직 많은 생산 현장에서 예측 생산과 개별 수주생산 방식이 혼재되어 있다.\n",
            "  후지쯔의 ‘GLOVIA SMART PRONES 개별생산’은생산형태의 변화에 대응해 여러 생산형태를 함께 운용할 수 있는 하이브리드형 생산관리 솔루션이다. GLOVIA SMART PRONES 개별생산은 공장이나 사업부마다 도입한 시스템을 하나의 시스템으로 관리할 수 있어 관리 비용을 크게 절약할 수 있다는 것이 특징이다. 또 개별 수주생산에 있어 반복성이 낮은 품목의 경우 마스터를 따로 등록하지 않아도 생산 절차를 진행할 수 있다.\n",
            "  실제로 가스 에너지를 이용한 공작기계를 공급하는 코이케산소공업㈜은 대형 절단기에 대한 개별 수주생산과 포터블 절단기 등의 기기를 대상으로 하는 예측 생산 방식이 혼재되어 있었다. 코이케산 소공업은 2012년 후지쯔의 생산관리 솔루션을 도입함으로써 지금까지 생산이 종료될 때까지 확인되지 않았던 원가정보를 실시간으로 확인할 수 있었으며, 생산성이 향상되었다.\n"
          ],
          "name": "stdout"
        },
        {
          "output_type": "stream",
          "text": [
            "---------------------------------TITLE---------------------------------\n",
            "\n",
            "  야망 속에 숨은 두려움 \n",
            "  혁명의 두 가지 중심 축, 연결된 공장 & 로봇 혁명 \n",
            "  걸림돌을 어떻게 깨부술 것인가 \n",
            "---------------------------------CONTENT---------------------------------\n",
            ".\n",
            "탈아입구(脱亜入欧). ‘아시아를 벗어나 서구로 나아가자’라는 뜻이다. 이는 일본 개화기를 지배했던 사상이다. 하지만 지금, 그들의 제조혁신전략에는 ‘세계제조 유아독존(世界製造 唯我獨尊)’이라는 사상이 강하게 자리하고 있었다. 이는 사실 어떤 두려움에서 나온 것이었는데….\n",
            "  야망 속에 숨은 두려움 \n",
            " 독일의 인더스트리 4.0, 미국의 산업인터넷 등 IT에 의한 제조 혁신의 노력이 진행되고 있다. 한국을 비롯하여 중국 등에서는 이러한 제조 선진국의 전략을 적극 벤치마킹하려고 하고 있다. 하지만 일본은 다르다. 인더스트리 4.0이나 리메이킹 아메리카 등제조 강국의 혁신 전략을 받아들이는 입장은 우리와 달랐다.\n",
            "  우리는 각국의 전략을 분석하고 그것을 적극적으로 도입하려 한다. 독일은 그러한 전략을 내놓고 또 실천할 수 있는 기반이 되어 있지만 우리는 그러지 못한 것에 아쉬워하고 안타까워 한다. 하나라도 더 배우고 소화하려는 입장이다. 그것은 독일이 우리 보다 한참 앞서있다는 것을 인정했기 때문이다.\n",
            "  일본은 이러한 독일의 움직임에 방어적이며 다소 적대적이다. 일본은 꼼꼼함, 정밀함, 장인정신, 모노 즈쿠리라는 키워드로 대표되는 제조강국이다. IT, 스마트·디지털화를 핵심으로 한 독일의 제조 혁신 전략은 일본의 전통 제조기술과는 반(反)하는 것일뿐 아니라, 전통 제조기술 강국으로서의 일본의 지위를 흔드는 것이기 때문이다.\n",
            "  이에 일본은 독일의 인더스트리 4.0, 4차 산업혁명이 세계적인 추세가 되어 감에 따라 그동안 쌓아온 모노즈쿠리의 힘이 전복되는 것이 아니냐는 우려를 갖고 있다. 이러한 불안은 ‘일본식’ 제조 혁신, 세계 표준 선점에 대한 강력한 의지로 대변된다. 즉 일본의 고유한 강점을 지키면서 세계적 표준화를 주도함으로써 글로벌 제조 강국으로 우뚝 서고자 하는 야망으로 나타난 것이다.\n",
            "  혁명의 두 가지 중심 축, 연결된 공장 & 로봇 혁명 \n",
            " 이러한 야망 실현에 추진력을 달아줄 두 가지 핵심 축이 바로 IVI와 RRI다. 일본에서 내로라하는 산학연 관계자들로 구성된 두 단체에서는 일본 제조 혁명 실현을 위해 다방면으로 노력하고 있다. 이에 IVI 에서는 일본식 스마트공장인 ‘연결된 공장(つなが る工場)’을, RRI에서는 아베 총리가 언급한 ‘로봇에 의한 산업혁명’을 목표로 한다.\n",
            " 두 단체에서는 제조분야 산학연 관계자가 하나의 목표를 갖고 활동하는 만큼 각 분야에 모두 혜택이 돌아갈 수 있는 방향으로 계획, 실천하고 있다. 또 좋은 사례는 참조모델로 공개함으로써 더 넓고 깊게 전파되도록 하고 있다. 더불어 제조업 전반에서도 IT에 의한 변화가 이루어지고 있다. 자동차, 화학, 철강 등의 분야에서 생산공정의 가시와, 센서를 통한 데이터 수집과 분석을 통해 부가가치를 창조하는 등 다양한 시도들이 진행되고 있다.\n",
            "  걸림돌을 어떻게 깨부술 것인가 \n",
            " 물론 모든 것이 순조로운 것은 아니다. 가장 큰 문제는 ‘표준화’다. 독일, 미국에서는 국제표준화기구 IEC, ISO 등을 활용하여 자국에 유리한 국제 표준을 설정하려 한다. 일본도 이 경쟁에 뛰어 들어 영향력을 행사하고자 한다. 그렇지 않으면 독일이나 미국이 만든 기준에 준거한 장비와 시스템이 표준화되어 그들이 경쟁 우위에 오르기 때문이다.\n",
            "  일본도 이를 위해 노력하고 있지만 현실은 녹록치 않다. 주요 대기업들이 자사 계열사 위주의 닫힌 시스템으로 노하우 유출을 꺼리고 있다. 또 일본의 현장력과 장인기술 등이 표준화될 경우 일본만의 강점이 저해될 것이라는 우려도 있다. 이에 국제표준화보다는 일본 고유의 기술을 지키면서 IT, 스마트화를 받아들일 기반을 만드는 일본 국내 표준화가 시급하다.\n",
            " 또 IT를 도입했을 때 발생할 사이버 보안 연구도 부족한 상태다. 데이터 유출을 목적으로 하는 사이버 공격이 교묘해지고 있어 이에 대한 보안 대책을 적극적으로 세워야 한다. 이외에도 개발, 생산, 공급망 관리에 대한 플랫폼이 서로 다르고 관련 업체들이 좁은 시장에서 과당 경쟁하고 있어 플랫폼의 집약화가 필요하다.\n",
            " \n",
            "  세계 제조 위기는 일본에도 해당되는 이야기지만, 일본은 여전히 강하다. 물론 앞서 언급 했듯 그 강점을 제조 혁신의 수단인 IoT, 빅데 이터, 클라우드, MES 등의 솔루션과 얼마나 조화롭게 융합시키느냐가 문제다. 그러나 일본의 강점으로 꼽히는 제조기반능력, 생산기술, 조직력이라는 기반이 있기에, 이 문제만 해결된다면 일본을 위협하는 경쟁국들을 가뿐히 물리칠 수 있지 않을까.\n"
          ],
          "name": "stdout"
        }
      ]
    },
    {
      "cell_type": "markdown",
      "metadata": {
        "id": "LdgAQArbOWDP"
      },
      "source": [
        "4) 중국 제조업 2025 - \"중국제조 2025, 창조와 모방 사이\""
      ]
    },
    {
      "cell_type": "code",
      "metadata": {
        "scrolled": true,
        "id": "rziMwMLZOWDP",
        "outputId": "fe4804e4-89f5-4a5e-eff7-4602225cd334"
      },
      "source": [
        "html=urlopen(\"http://www.mfgkr.com/archives/3222\")\n",
        "bsObj=BeautifulSoup(html,\"html.parser\")\n",
        "CHN_link_text=[]\n",
        "#USA_ManufactureInnovation = bsObj.find_all(\"div\", {\"class\":\"box-inner-block\"})\n",
        "for link in bsObj.find(\"div\",{\"class\":\"box-inner-block\"}).findAll(\"a\"):\n",
        "    CHN_link_text.append(link['href'])\n",
        "for link in range(0,len(CHN_link_text)): \n",
        "    html=urlopen(CHN_link_text[link])\n",
        "    bsObj=BeautifulSoup(html,\"html.parser\")\n",
        "    CHN_ManufactureInnovation_title2 = bsObj.find(\"div\",{\"class\":\"entry\"}).find_all(\"h3\")\n",
        "    CHN_ManufactureInnovation_title1 = bsObj.find(\"div\",{\"class\":\"entry\"}).find_all(\"h4\")\n",
        "    CHN_ManufactureInnovation_content1 = bsObj.find(\"div\",{\"class\":\"entry\"}).find_all(\"p\")\n",
        "    CHN_ManufactureInnovation_content2=bsObj.find(\"div\",{\"class\":\"entry\"}).find_all(\"div\",{\"class\":\"ja_text\"})\n",
        "    print(\"---------------------------------TITLE---------------------------------\")\n",
        "    for response in CHN_ManufactureInnovation_title1:  \n",
        "        print(response.get_text())\n",
        "    for response in CHN_ManufactureInnovation_title2:  \n",
        "        print(response.get_text())\n",
        "    print(\"---------------------------------CONTENT---------------------------------\")\n",
        "    for response in CHN_ManufactureInnovation_content1:\n",
        "        print(response.get_text())\n",
        "    for response in CHN_ManufactureInnovation_content2:\n",
        "        print(response.get_text())\n",
        "        # 중국은 우리나라와 같이 제조업 생산성 효율에 있어서 그렇게 좋은 나라는 아니다. 하지만 방대한 수출과 어마어마한 인구수 즉, 인력을\n",
        "# 이용해 떨어진 효율에도 이를 잠재우고 끊임없이 제조품을 생산해내고 있다.중국제조 2025는 종국적으로 공업화와 빅데이터, 클라우드 컴퓨팅, 사물인터넷 등을 도입하여 \n",
        "#제조의 스마트화, 네트워 크화, 디지털화 실현을 목표로 한다. 나아가 대량생산이라는 기존 생산방식이 아닌 다양한 소비자의 요구에 맞춤형 제품을 만들어내는 제조 방식을 구축하고자 한다. \n",
        "#이 점은 독일의 인더스트리 4.0과 비슷한 대목이다"
      ],
      "execution_count": null,
      "outputs": [
        {
          "output_type": "stream",
          "text": [
            "---------------------------------TITLE---------------------------------\n",
            "차근차근 한 단계씩, 하지만 강력하게\n",
            "모방인가? 창조인가?\n",
            "혁명을 이끌 주체들\n",
            "\n",
            "[중국의 4차 산업혁명 ①] 크지만 강하지 않은, 중국의 자아성찰\n",
            "[중국의 4차 산업혁명 ③] 날으는 돼지가 되자, 인터넷 플러스\n",
            "[중국의 4차 산업혁명 ④] 중국식 스마트 제조 – 베이징자동차\n",
            "[중국의 4차 산업혁명 ⑤] 그럼에도 불구하고… 한다면 한다\n",
            "\n",
            "Share this:\n",
            "관련\n",
            "---------------------------------CONTENT---------------------------------\n",
            " 신 에너지 자동차 산업 중국 GDP 대비 자동차 공업의 부가가치 비중은 1.5%로, 자동차 강국의 평균 4%와는 격차가 있다. 세계 분업 구조에서 중국은 조립, 생산 등에 치중되어 있기 때문인데, 이에 중국은 핵심 부품에서 완성 차까지의 공업 체계를 정비할 계획이다. 특히 심각한 환경・에너지 문제를 안고 있어 친환경 자동차, 스마트카 기술을 선진국 수준으로 향상시키고자 한다. 이에 2020년까지 독자 브랜드의 순수 전기자동차, 하이브리드 전기자동차의 연간 판매량 1백만 대를 돌파하고, 중국 내 시장 점유율을 70% 이상 달성할 것이라 목표를 잡았다.첨단 제어 공작기계 산업이 분야에서 중국의 기술 력이 전혀 없는 것은 아니다. 중국의 대형 고속 고효율 수치제어 자동 프레스 생산라인이 국제 입찰 경쟁에서 승리하여 미국 자동차 회사의 현지 생산라 인에 대량 적용된 사례도 있다. 이 외에 고속 5축 머시닝센터 등 20여 개 제품이 선진국 수준에 도달했다고 평가된다. 물론 조금씩 성장하고는 있으나 이 분야 선두 국가의 기술과 비교하면 아직은 격차가 있다. 이에 핵심 기술과 설비를 적극 개발하여 기술에 대한 신뢰를 구축하고 해외 의존도를 줄이고자 한다.\n",
            "\n",
            "중국제조 2025(中国制造 2025). \n",
            "중국이 대이불강 이라는 자아성찰을 바탕으로 내놓은 제조 혁신 전략이다.\n",
            "\n",
            "자국의 문제를 해결하고 혁신하여 제조 강국으로 우뚝 서겠다는 내용을 담고 있다. 스스로 크지만 강하지 않다고 인정하기는 했으나, 결국 앞으로 세계를 이끄는 제조 강국이 될 것이며 그 능력이 충분하다는 자신감을 전제로 하는 것이었다.\n",
            "  이는 중국 과학기술분야 최고의 학술기구인 중국 공정원이 정리한 제조강국종합지수 평가체계를 보면 알 수 있다. 여기에는 세계 각국이 순위별로 그룹화되어 있는데, 가장 높은 위치의 1그룹에는 미국이 있다. 2그룹은 독일과 일본, 3그룹에 중국, 프랑 스, 영국, 한국 등이 속해 있다. 중국은 이 기준을 토대로 중국제조 2025의 목표를 정했다. 제조 혁신을 실현하여 1그룹에 속한 미국과 어깨를 나란히 하겠다는 것이다 (사실상 세계 최고의 제조 강국 실현이 목표).\n",
            "차근차근 한 단계씩, 하지만 강력하게\n",
            "  중국공정원 주도로 진행된 중국제조 2025는 2015년 5월, 중국 국무원의 리커창(李克强) 총리가 전국 인민대표회의에서 정식 발표하면서 국책 과제가 되었다. 5월 8일 발표된 국무원 통지에 의하면 “중국의 설비, 브랜드에 의해 중국 제조에서 중국 창조로, 중국 스피드에서 중국 품질로, 중국 제품에서 중국 브랜드로 전환할 필요가 있다”고 밝히며 중국제조 2025에 의한 제조 혁신의 의지를 다졌다.\n",
            "  기존 성장 모델에서 벗어나 새로운 중국이라는 브랜드로 탈바꿈을 시도해야 했던 상황에서 등장한 중국제조 2025. 세계 제일의 제조 강국이 되겠다는 목표인 만큼 그 실천 방안 또한 원대하다. 구체적인 실천 계획은 총 30년 동안 진행되며, 10년 단위의 3단계로 구성된다. 자세한 내용은 아래 도식과 같다.\n",
            "\n",
            "\n",
            "\n",
            " .\n",
            "중국제조 2025는 제조업의 10대 중점 육성 분야를 선정하고 이를 3단계로 차근차근 성장, 혁신해나간다는 내용으로 이루어져 있다. 자세히 살펴보면 중점분야에서 경쟁력을 갖추기 위해 제도와 환경을 정비한다는 것이 주요 사항이다. 이를 기반으로 제조업의 디지털화, 네트워크화, 스마트화를 촉진하는 것을 골자로 하고 있다.\n",
            "더 깊이 들어가 보면 제도와 환경 정비의 구체적 대안은 중국이 안고 있는 세 가지 주요 문제를 개선하는 것을 기반으로 한다. 그 세 가지는 바로 품질, 환경, 구조의 문제다. 앞서 언급했듯 중국의 ‘메이드인 차이나’에 대한 품질이나 브랜드 가치가 상대적으로 높지 않다. 또 독보적으로 심각한 환경 문제를 앓고 있으며, 아직도 자원집약형 산업구조에 치중되어 있다.\n",
            "이에 중국제조 2025에서는 품질을 우선하여 기술력을 높이고 제품 품질에 대한 기업의 주체적인 책임을 강화하고자 한다. 이를 위해 표준법 체계와 품질관리감독 체계를 구축할 계획이다. 품질이 보장되면 브랜드 가치는 자연스레 상승하는 법. 나아가 세계적인 자주 브랜드를 육성한다는 목표도 포함돼 있다.\n",
            "또한 친환경 발전을 추구하여 에너지 절감 기술, 친환경 제조 기술 등을 개발하여 지속 가능한 발전 방식으로 전환하고자 한다. 기존 산업구조를 개선하는 것도 중요 사안인데, 자원에 의존한 전통적 산업 구조에서 부가가치가 높은 서비스형 제조로 전환한 다는 것이다. 나아가 대량생산 방식에서 매스커스터마이제이션으로의 전환을 목표로 한다.\n",
            "\n",
            "\n",
            "그렇다면 중점 산업별로 어떤 구체적 내용을 담고 있는지 알아보자.\n",
            "중국제조 2025 중점 육성 산업 중 대표적인 세 개의 산업분야를 소개한다.\n",
            "\n",
            "  차세대 정보통신 산업 중국 IT산업의 규모는 세계적인 수준이나, 그 안을 들여다보면 핵심 부품과 기술에 대한 자체 생산력은 현저히 떨어진다. 핵심 기술에 대한 해외 의존도가 높기 때문. 실제로 2014년 중국의 집적회로 수입액은 2,176억 달러로 석유와 함께 주요 수입 품목 중 하나로 꼽힌다. 이에 중국은 이 분야 기반기술을 다지고 클라우드 컴퓨팅, 사물 인터넷, 빅데이터 등의 관련 기업을 육성하여 국제 선두 그룹에 진입하는 것을 목표로 하고 있다. 물론 이를 위한 기술 개발 지원이나 지적재산권 보호 제도도 완비할 계획이다.\n",
            "\n",
            " 신 에너지 자동차 산업 중국 GDP 대비 자동차 공업의 부가가치 비중은 1.5%로, 자동차 강국의 평균 4%와는 격차가 있다. 세계 분업 구조에서 중국은 조립, 생산 등에 치중되어 있기 때문인데, 이에 중국은 핵심 부품에서 완성 차까지의 공업 체계를 정비할 계획이다. 특히 심각한 환경・에너지 문제를 안고 있어 친환경 자동차, 스마트카 기술을 선진국 수준으로 향상시키고자 한다. 이에 2020년까지 독자 브랜드의 순수 전기자동차, 하이브리드 전기자동차의 연간 판매량 1백만 대를 돌파하고, 중국 내 시장 점유율을 70% 이상 달성할 것이라 목표를 잡았다.첨단 제어 공작기계 산업이 분야에서 중국의 기술 력이 전혀 없는 것은 아니다. 중국의 대형 고속 고효율 수치제어 자동 프레스 생산라인이 국제 입찰 경쟁에서 승리하여 미국 자동차 회사의 현지 생산라 인에 대량 적용된 사례도 있다. 이 외에 고속 5축 머시닝센터 등 20여 개 제품이 선진국 수준에 도달했다고 평가된다. 물론 조금씩 성장하고는 있으나 이 분야 선두 국가의 기술과 비교하면 아직은 격차가 있다. 이에 핵심 기술과 설비를 적극 개발하여 기술에 대한 신뢰를 구축하고 해외 의존도를 줄이고자 한다.\n",
            "\n",
            "모방인가? 창조인가?\n",
            " 이쯤에서 드는 생각이 있다. 중국제조 2025는 종국적으로 공업화와 빅데이터, 클라우드 컴퓨팅, 사물인터넷 등을 도입하여 제조의 스마트화, 네트워 크화, 디지털화 실현을 목표로 한다. 나아가 대량생산이라는 기존 생산방식이 아닌 다양한 소비자의 요구에 맞춤형 제품을 만들어내는 제조 방식을 구축하고자 한다. 이 점은 독일의 인더스트리 4.0과 비슷한 대목이다.\n",
            "물론 유사한 부분이 있다. 하지만 중국이 도입하려 하는 차세대 정보기술은 이미 세계 제조업에 침투를 시작한 것들이다. 중국도 이러한 주류를 받아들여 제조업을 혁신하고자 하는 것이다. 특히 다른 혁명 전략과의 차이는 중국 제조 혁신 전략 인더스트리 2.0과 3.0, 4.0을 동시에 추진해야 한다는 것에서 두드러진다.\n",
            "앞서 언급했듯 중국 제조업은 많은 근본적 문제들을 안고 있다. 이에 제조업의 첨단화를 실현하려면그 부실한 기반을 먼저 다져야 한다. 제조 전반의 현대화와 첨단화를 동시에 추진해야 한다는 것이다. 이미 탄탄한 기반이 갖추어져 있고 인더스트리 4.0에 대한 비교적 충분한 논의가 이루어진 독일과는 혁명의 진행 방법과 속도가 분명 다를 수밖에 없다.\n",
            "이에 중국은 대이불강이라는 자아성찰 아래 자국 제조업이 직면한 문제점을 냉정하게 파악하고, 맞춤형 육성 정책을 구상했다. 또 상대적으로 우위에 있는 산업을 집중 육성하여 상위 위치를 선점한 뒤, 나머지 분야까지 이끌어 올리겠다는 전략을 세웠다. 세계 1위 진입이나 몇 %의 시장 점유율 확보 등의 수치는 다소 막연한 목표일 수 있으나 그 방법들이 허무맹랑한 것은 아니다.\n",
            "당장에 4차 산업혁명을 실현하겠다고 했다면 독일의 인더스트리 4.0을 모방한 전략에 지나지 않았을 것이다. 하지만 중국은 전통적 산업구조를 전환하고 선진화를 추진하는 동시에 최첨단 산업 분야의 비약적 발전을 꾀하고 있다. 그리고 독일에 비해 훨씬 더 복잡하고 험난한 혁명의 과정을 겪어야 함을 인지하고 있다. 중국제조 2025는 중국 만의 특수성을 반영한 전략인 것이다.\n",
            "물론 전략이 좋다고 해서 그 성공률을 100% 장담할 수 없다. 그렇다면 중국제조 2025는 어떻게 될 것인가? 목표대로 제조강국이 될수 있을까? 제자리걸음만 하거나 오히려 퇴보 하지는 않을까? 물론 당장 결과를 단정지을 수는 없다. 하지만 앞서 언급했듯 이 전략의 실현 과정이 복잡하고 험난하기에 그 실현 가능성에 대해 의구심을 갖게 되는 것이다.\n",
            "중국 정부도 인정하고 있듯, 중국제조 2025는 장기간의 노력과 투자가 필요한 전략이다.\n",
            "즉각적인 결과를 기대할 수 없다는 것이다. 이에 전략을 이끄는 리더인 정부는 물론 실질적인 혁명의 주체인 현업 제조 기업과 제조인의 인식 개선, 적극적 협조가 필요하다. 게다가 중국이 가장 필요로 하는 핵심기술이나 선진 시스템에 대한 해외 의존도가 높기 때문에 제조 선진국의 협력 또한 절실하다.\n",
            "\n",
            "\n",
            " .\n",
            "\n",
            "혁명을 이끌 주체들\n",
            " 정부의 강력한 추진으로 진행되고 있는 중국제조 2025. 사실상 혁명의 주체는 직접적 관련이 있는 제조 기업들이다. 정부 외에 필드에서는 어떤 움직 임이 일어나고 있을까? 실제로 4차 산업혁명과 관련하여 여러 조직이 만들어지고 있다고 한다. 지난 8월 26일에는 한국에서 4차 산업혁명과 관련하여 한국과 중국의 대 화합이 이루어지기도 했다.\n",
            "  중국에서 기업을 대상으로 교육과 컨설팅을 제공하는 북대종횡(北大纵横)과 MES, APS 등 스마트 공장 솔루션을 제공하는 엠아이큐브 솔루션 (MICUBE Solution), 한국의 4차 산업혁명 추진 협회인 인트리 4.0 포럼 관계자가 한자리에 모인 것이다. 만남의 목적은 중국의 4차산업혁명 실현에 기여하는 협회를 만들려는데 한국 인트리 4.0 포럼의 사례를 벤치마킹하려는 것. 북대종횡과 엠아이큐브 솔루션에서는 4차 산업혁 명과 관련한 협회를 구축하려고 준비중이다. 물론 정부, 대기업, 대학원과 함께 협력할 예정이다. 목적은 4차 산업혁명을 제대로 이해하고 받아들여 시스템화 하는 것. 독일, 미국 등의 전략을 그대로 중국에 적용할 수 없기에 정부, 기업, 학교와 밀접한 관계를 맺어 현실적이고 체계적으로 중국의 4차 산업혁명을 실현하고자 하는 것이다.\n",
            "또 한 가지 중요한 역할은 바로 제조인의 인식 제고와 교육이다. 엠아이큐브솔루션의 중국 파트너사인 장수마이쿠보정보과학유한공사 션이판(沈亦凡) 법인대표는 “현재 중국은 4차 산업혁명에 대해 개념적, 표면적인 것만 알고 실천을 어떻게 해야 할지 모른다. 보통 로봇으로 효율을 높이는 것이라고 생각하는 정도다”라고 말했다. 이에 협회를 만들어 교육을 통해 개념을 확실히 하고 실질적으로 수용, 실천할수 있도록 하려는 것이다.\n",
            "물론 협회 외에 독일의 지멘스나 미국의 GE 처럼 중국에서도 세계적인 자국 기업이 혁명을 이끌어갈 전망이다. 대표적인 네 개의 기업을 꼽자면 메이디(美的), 신송(新松), 포지텍 (Positec), 남경피닉스컨택트(南京phoenix contact)다. 모두 세계적인 기업으로 남경피 닉스컨택트를 제외하면 모두 중국 현지 기업 들이다. 이들 기업은 중국의 4차 산업혁명 실현을 위한 솔루션을 공급하면서 자체적으로도 스마트공장을 추진하는 등 혁명 실현에 중요한 역할을 하게 될 전망이다.\n",
            "\n",
            "---------------------------------TITLE---------------------------------\n",
            "인터넷을 더해서 혁신하자\n",
            "인터넷+제조업=???\n",
            "\n",
            "..\n",
            "주요 기업들의 적극적 시도들…하지만?\n",
            "\n",
            "[중국의 4차 산업혁명 ①] 크지만 강하지 않은, 중국의 자아성찰\n",
            "[중국의 4차 산업혁명 ②] 중국제조 2025, 창조와 모방 사이\n",
            "[중국의 4차 산업혁명 ④] 중국식 스마트 제조 – 베이징자동차\n",
            "[중국의 4차 산업혁명 ⑤] 그럼에도 불구하고… 한다면 한다\n",
            "\n",
            "Share this:\n",
            "관련\n",
            "---------------------------------CONTENT---------------------------------\n",
            ".\n",
            "“통풍구 앞에 서면 돼지도 날 수 있다.” 샤오미의 레이쥔(雷軍) 회장이 한 말이다. 이는 시대적 흐름을 잘 읽어 전략적 기회를 잡아야 성공할 수 있다는 말로, 그 시대적 주류는 ‘인터넷’을 의미한다. 이 말은 텐센트, 알리바바 등 관련 업체들 사이에서 크게 회자되었다. 그렇다면 과연 덩치 큰 중국은 인터넷이라는 순풍을 타고 날 수 있을 것인가?\n",
            "중국제조 2025와 함께 제조 혁명을 실현하는 또 하나의 축으로 거론되는 것이 인터넷플러스(互联 网+)다. 쉽게 말해 모든 산업에 인터넷을 도입・적용하여 혁신하고 생산 효율을 높이자는 것이다. 나아가 새로운 비즈니스 모델을 창출하고, 인터넷으로 모든 것이 연결된 생태계 구축을 목표로 하는 전략이다.\n",
            "이 말을 처음 꺼낸 사람은 텐센트(tencent)의 최고 경영자인 마화텅(马化腾)이다. 마화텅이 이야기하는 인터넷플러스의 모습은 경제・사회를 구성하는 모든 요소들 간에 한계와 경계가 없어, 모든 것이 개방되고 자유롭게 결합하는 것이다. 플러스되는 대상은 모든 사람과 사물을 포함한 산업 분야이며, 그 수단은 인터넷, 모바일 인터넷, 클라우드 컴퓨팅, 빅데이터, 사물인터넷 등이다.\n",
            "이는 비단한 기업에서 독단적으로 추진하는 전략은 아니다. 중국 국무원의 리커창(李克强) 총리가 2015년 전국 양회(两会, 전국인민대표대회와 중국 인민정치협상회의)에서 인터넷플러스를 언급하며 그 행동 계획을 정식으로 제정해야 한다고 주장하면서 국가 차원의 전략이 되었다.\n",
            "이에 중국공업정보화부는 같은 해 말, 인터넷플러 스의 적극적 추진에 관한 행동계획을 발표했다(3개년 발전 목표와 중장기 10개년 발전 목표로 진행). 2018년까지 산업과의 융합을 더 심화시키기 위해 정보화, 산업화 체제 및 기준을 제정하고 스마트 제조를 육성한다는 것을 내용으로 하고 있다. 2025년 까지는 인터넷플러스 기반의 산업 생태계를 개선하고, 나아가 인터넷플러스가 경제・사회 혁신 발전의 핵심 동력이 되도록 한다는 것이 그 계획이다.\n",
            "그렇다면 인터넷플러스가 제조업에 적용되면 어떤 효과를 얻을 수 있을까? 중국인터넷협회에 따르면 제조업에 인터넷을 적용할 경우 코스트를 최대 20%, 오염 물질 배출을 약 30% 줄일 수 있다고 한다. 물론 매스커스터마이제이션에도 대응할 수 있게 된다. 이에 2030년에는 산업인터넷이 창출하는 경제적 효과가 누적 규모 3조 달러에 달할 것으로 전망하기도 한다.\n",
            "실제로 전자제품을 생산하는 중국의 하이얼 (Haier)은 인터넷 기반의 자동화를 혁신의 수단으로 삼아 선양, 정저우, 포산, 칭다오 등지에 4대 후롄 (互联) 공장을 설립했다. 이후 온라인을 기반으로한 고객과의 소통으로 맞춤형 제조가 가능한 플랫폼을 구축하여, 세계 최초로 맞춤형 에어컨을 판매해 주목을 받고 있다.\n",
            "하이얼은 맞춤형 생산으로 전환하기 위해 공장의 모듈화, 자동화, 스마트화를 기본적으로 실현했다.\n",
            "게다가 고객과의 소통이 가능한 인터넷 온라인 플랫폼을 구축하여 개인화된 가전제품 제조라는 매스커스터마이제이션을 실현한 것이다. 일부 혁신적인 기업의 사례이기는 하지만, 인터넷플러스 도입의 효과는 제조업의 비약적 발전을 실현할 것으로 기대된다.\n",
            ".\n",
            "하지만 아직 인터넷플러스는 제조분야보다는 금융, 유통, 교통 등의 분야에 초점이 맞춰져 있는 것이 사실이다. 인터넷플러스를 이끄는 주요 3사인 텐센트, 중국 대표 검색 엔진 서비스 기업 바이두 (百度), 중국 최대의 전자상거래 업체 알리바바(阿里巴巴)의 행보를 보면 전통 제조보다는 서비스 분야에 조금 더 치중하고 있다는 것을 알 수 있다.\n",
            "바이두는 중국대뇌(中国大脑)를 주창하며 무인 운전, 의료 등의 분야에 인공지능 기술 적용을 확대해 나가고 있다. 알리바바도 주요 도시에서 인터넷플러스 도시 서비스(도로 상황 확인, 공공요금 지불, 진료 예약 등을 휴대전화에서 가능케 함)를 정식 실시하고 있다. 텐센트는 허난(河南) 정부의 지원 아래 폭스콘 등과 함께 인터넷플러스 스마트 전기자 동차라는 비즈니스 모델을 구상하고 있다.\n",
            "이렇게 인터넷을 전통 제조업에 적용하는 것이 우선 순위에서 밀려난 이유는 여러 가지가 있다. 전통 제조는 아직 과거의 시스템을 고수하고 있는 곳이 많고, 상대적으로 인터넷이 도입되어 효과를 보고 있는 금융, 교통 등의 분야보다 인식도가 낮기 때문이다. 잘 모르기 때문에 수용하려는 의지도 낮다. 필요성을 느낀다 하더라도 비용 부담 때문에 망설이는 경우도 많다.\n",
            "인프라 부족 역시 문제다. 인터넷플러스 도입을 위해서는 광대역 이동통신망, 공공 데이터 공유 채널, 인터넷과 전통 산업의 융합을 위한 기술 표준 등 물리적・제도적 인프라가 구비되어야 한다. 하지만 단기간에 구축될 수 있는 것이 아니므로 장기적인 준비가 필요할 전망이다. 이에 인터넷플러스는 중국 제조업을 비롯한 산업 전반에 큰 변화를 불러일으킬 것에는 틀림 없지만 도입 환경을 마련하기에는 시간이 걸릴 것으로 보인다.\n",
            " \n",
            " \n"
          ],
          "name": "stdout"
        },
        {
          "output_type": "stream",
          "text": [
            "---------------------------------TITLE---------------------------------\n",
            "베이징자동차(BAIC motor) \n",
            "\n",
            "독일은 되는데 왜 중국은 안 되는가?\n",
            "중요한 것은 연결, 그리고 커뮤니케이션\n",
            "베이징자동차의 새로운 시도들\n",
            "---------------------------------CONTENT---------------------------------\n",
            "중국 베이징자동차의 사례를 찾아 보았다. 베이징자동차는 중국 5대 자동차 그룹 중 하나로, 2016년 상반기 130.5만 대 차량 판매로 동기 대비 10.7% 상승하는 등(업계 평균8.1%) 빠른 성장세를 보이고 있는 중국 자동차 메이 커다. 특히 4차 산업혁명에 대응하기 위해 자체적으로 ‘스마트 제조’를 추진중인 대표 기업이다.\n",
            "\n",
            "베이징자동차(BAIC motor) \n",
            "승용차, SUV, MPV, 친환경 전기차 등을 개발, 생산, 판매 하는 중국 국영 자동차 메이커. 2013년 미국 포춘지가 발표한 세계 500강 기업 진입 이후 2016년에 160위를 달성했다. 최근 독일의 벤츠, 한국의 현대 자동차와 함께 만든 베이징벤츠, 베이징현대라는 합자회사들을 베이징자동차유한회사 소속의 새로운 주식상장회사로 발돋움시켰다. 또한 베이징 자동차는 완성차 제조, 부품 개발, 자체 개발, 서비스 무역, 개혁 조정의 5대 발전 플랫폼 구축에 성공한 중국 자동차 업계에서 가장 잘 갖춰진 자동차 메이커다.\n",
            "\t\t\t\n",
            "\n",
            "독일은 되는데 왜 중국은 안 되는가?\n",
            "  베이징자동차의 윤태화 부총재(한국 인더스트리4.0 협회 전문위원)에 의하면 베이징자동차에서는약 3년 반 동안 인더스트리 4.0을 연구했으며, 실제로 적용한 지는 2년이 되었다고 한다. 연구 결과 중국과 독일은 4차 산업혁명을 구상하는 과정부터 달랐고, 제조 환경 또한 차이가 있기에 자국에 맞는 플랫폼을 구축해야 한다는 것을 알아내게 된다.\n",
            "먼저 독일의 경우를 보자. 독일은 10년 전부터 혁명을 준비해 왔다. 소모임에서 2~3년 연구가 숙성됐 고, 산업계에서 6~7년 토론이 축적된 후, 3년간 정부로 확산되어 국가적 측면에서 혁명의 플랫폼을 구상하게 되었다. 그런데 사람들은 그 오랜 숙성의 과정보다 인더스트리 4.0이라는 결과에만 초점을 맞춰 혁신의 즉각적인 도입에 대해서만 맹목적으로 매달린 부분이 컸다.\n",
            "반면 중국은 4차 산업혁명이라는 큰 파도 앞에 갑작스레 직면해 있는 상황이다. 혁명을 준비하기 위한 오랜 준비의 과정이 독일에 비해 부족하다. 게다가 기술, 시스템, 제도가 탄탄한 독일과 달리 혁명의 기반을 다질 인식, 제도, 시스템 측면의 개선이 큰숙제로 남아있다. 이러한 독일과 중국의 차이는 “독일은 되는데 왜 중국은 안 될까?”라는 질문에 대한 답이 되기에 충분했다.\n",
            "중요한 것은 연결, 그리고 커뮤니케이션\n",
            "\n",
            "  이에 베이징자동차는 이러한 연구를 바탕으로 스마트 제조를 추진하게 된다. 내부적으로 ‘제조 품질 선진화 전략’과 인터넷플러스 제조(인터넷 플러스 전략에 제조 분야를 융합하는 전략)를 진행하던 중, 작년 초 중국제조 2025가 발표됨에 따라 이에 상응하는 스마트 제조 전략으로 전환하여 추진하게 된 것이다. 전략의 키워드는 연결, 그리고 커뮤니 케이션이라고 한다.\n",
            "인더스트리 4.0시대에는 제품 모델이 급격히 변화하게 된다. 즉 제품을 만들고 소비자에게 선택 받기를 기다리는 것이 아니라, 소비자가 제품을 선택・제 작하는 시대가 된 것이다. 이에 고객의 니즈에 대한 새로운 데이터가 작업자에게 연결되고 공정에 반영되는 연결과 커뮤니케이션의 플랫폼이 중요해진 것이다.\n",
            "이에 베이징자동차는 기존 각 부서, 라인, 공장 별대화 방식으로는 해결할 수 없기에, 부서와 부서, 라인과 라인, 다른 지역의 공장과 공장이 서로 어떻게 연결되고 정보를 공유하느냐가 가장 중요한 문제라고 보았다. 즉 IoT, IoS 생태계를 구축하여 연결된 스마트 공장을 통해 고객의 다양한 수요를 반영한 다품종, 커스터마이즈된 제품을 생산해야 한다는 것이다.\n",
            "물론 이를 실현하기 위해서는 자동차 개발 전 단계, 즉 디자인 기획부터 양산까지의 업무를 디지털화하고 생산 혁신을 추진해야 한다. 데이터 구축을 재정 립해야 한다는 것이다. 그 다음에 CPS, MES 등의 적용과 확장이 진행되어야 한다. 이러한 기술과 기반을 바탕으로 생산 혁신을 이루어가는 것이다.\n",
            "이에 베이징자동차에서 추진중인 스마트 제조 전략은 미래의 스마트 공장을 구현하기 위한 준비단계에 놓여 있다. 현재는 생산 설비와 라인의 자동 화, 운영 시스템의 디지털화를 추진중이다. 다음 단계는 공장이라는 울타리 안과 밖을 스마트화 하는것. 물론 가장 큰 숙제이자 핵심은 전체적인 대화의 채널을 가동시켜 연결하고 디지털화 해 나가는 것이다.\n",
            "\n",
            " \n",
            "베이징자동차의 새로운 시도들\n",
            "베이징자동차는 스마트 제조 외에도 다양한 신기술 개발로 새로운 비즈니스 모델을 창출해 나가고 있다. 대표적으로 스마트카 개발 전략의 일환으로 모바일 연결, 실시간 도로 현황 파악, 원격 내비게이션 등의 기능을 부여한 자동차를 만들고 있다. 또 2025년에는 지능운전 기능으로 완전 자동운전을 가능케 하는 것을 목표로 개발을 추진, 진행하고 있다.\n",
            "전기차와 관련해서도 2020년까지 A급 및 이하 차종을 전기차로 만들고, R-EV, PHEV의 상품화를 적극 추진하여 전통차에서 신에너지차로의 안정적 달성을 계획하고 있다. 또한 환경・에너지 이슈를 반영한 경량화 설계, 공법 적용으로 차량 무게를 2017년까지 5%, 2020년까지 10% 줄이는 것을 목표로 하고 있다. 함께 개발중인 저탄소 기술 개발로는 중국 4단계 연비 법규, 국가 6단계 배기 법규를 만족시키는 자동차를 생산할 계획이다.\n",
            "시스템 측면에서는 제조와 구매의 3H(High quality, High efficiency, High competence)전략을 추진중이다. 이는 자동화, 모듈화, 유연화를 통해 고효율, 최적 원가의 생산 운영 시스템을 구축하는 전략이다. 또한 구매 정보 스마트 시스템, 숙성된 구매 네트워크, 전체 가치 사슬에 걸친 원가 관리 시스템 구축으로 구매 경쟁력을 향상시킬 계획이다.\n",
            "판매 및 서비스 분야에서는 3F(Fast learn , Fast arrive, Fast help) 전략을 세웠다. 전자상거래, 빅데 이터에 의한 고객 파악과 대리점 간 교류 플랫폼 구축, 물류 네트워크 최적화 등을 달성하겠다는 것이다. 또한 모바일 어플리케이션 등 매체 플랫폼과 전자상거래 등의 플랫폼으로 신속한 예약, 정비, A/S 방면에 빠른 물류, 빠른 정보, 신속한 서비스 등을 제공할 전망이다.\n",
            "이 외에도 주목할만한 것은 고객 만족도 향상을 위한 화장공정(化妆工程, Make-up Engineering process)이라는 엔지니어링 프로세스다. 자동차를 개발하려면 2~3년이 소요되는데, 개발 초기 소비 트렌드를 반영하지만 시간이 지나 출시에 이르러 소비 트렌드가 바뀌어버린다. 이 문제에 대응하기 위해 디자인 엔지니어링 아키텍처(Design Engineering Architecture)의 자유도를 확보한 후개발 마지막 단계에서 고객의 요구 변화에 신속하게 대응하는 프로세스다.\n",
            "이에 기존 이목구비(기술)에 다양하게 덧칠(새로운 디자인 트렌드 적용)함으로써 아름다운 얼굴을 완성하는 화장과 같다고 해서 화장공정이라 이름이 붙여졌다. 이 화장공정은 고도의 경험과 기술이 집약된 베이징자동차 특색의 엔지니어링 프로세스로, 이를 통해 신차 개발에 따른 QCD 목표를 달성하고 있다.\n",
            "이러한 베이징자동차의 다양한 전략은 파이(π) 계획 3.14를 위해 진행된다. 이는 2020년까지의 베이징자동차 중장기 발전 전략이다. 3.14의 의미는 북경자동차의 자주 브랜드가 중국 로컬 브랜드 3위 진입, 합자회사*인 베이징벤츠가 중국 호화 브랜드 부문에서 1위, 베이징현대가 합자회사 전방 4위에 자리매김하는 것을 의미한다.\n",
            "2016년 8월 16일 진행된 베이징자동차 로컬 자주브랜드 1,000,000만대 생산 기념대회\n",
            "\n",
            "합자회사\n",
            "승용차, SUV, MPV, 친환경 전기차 등을 개발, 생산, 판매 하는 중국 국영 자동차 메이커. 2013년 미국 포춘지가 발표한 세계 500강 기업 진입 이후 2016년에 160위를 달성했다. 최근 독일의 벤츠, 한국의 현대 자동차와 함께 만든 베이징벤츠, 베이징현대라는 합자회사들을 베이징자동차유한회사 소속의 새로운 주식상장회사로 발돋움시켰다. 또한 베이징 자동차는 완성차 제조, 부품 개발, 자체 개발, 서비스 무역, 개혁 조정의 5대 발전 플랫폼 구축에 성공한 중국 자동차 업계에서 가장 잘 갖춰진 자동차 메이커다.\n",
            "\t\t\t\n",
            "  이에 베이징자동차는 이러한 연구를 바탕으로 스마트 제조를 추진하게 된다. 내부적으로 ‘제조 품질 선진화 전략’과 인터넷플러스 제조(인터넷 플러스 전략에 제조 분야를 융합하는 전략)를 진행하던 중, 작년 초 중국제조 2025가 발표됨에 따라 이에 상응하는 스마트 제조 전략으로 전환하여 추진하게 된 것이다. 전략의 키워드는 연결, 그리고 커뮤니 케이션이라고 한다.\n",
            "인더스트리 4.0시대에는 제품 모델이 급격히 변화하게 된다. 즉 제품을 만들고 소비자에게 선택 받기를 기다리는 것이 아니라, 소비자가 제품을 선택・제 작하는 시대가 된 것이다. 이에 고객의 니즈에 대한 새로운 데이터가 작업자에게 연결되고 공정에 반영되는 연결과 커뮤니케이션의 플랫폼이 중요해진 것이다.\n",
            "이에 베이징자동차는 기존 각 부서, 라인, 공장 별대화 방식으로는 해결할 수 없기에, 부서와 부서, 라인과 라인, 다른 지역의 공장과 공장이 서로 어떻게 연결되고 정보를 공유하느냐가 가장 중요한 문제라고 보았다. 즉 IoT, IoS 생태계를 구축하여 연결된 스마트 공장을 통해 고객의 다양한 수요를 반영한 다품종, 커스터마이즈된 제품을 생산해야 한다는 것이다.\n",
            "물론 이를 실현하기 위해서는 자동차 개발 전 단계, 즉 디자인 기획부터 양산까지의 업무를 디지털화하고 생산 혁신을 추진해야 한다. 데이터 구축을 재정 립해야 한다는 것이다. 그 다음에 CPS, MES 등의 적용과 확장이 진행되어야 한다. 이러한 기술과 기반을 바탕으로 생산 혁신을 이루어가는 것이다.\n",
            "이에 베이징자동차에서 추진중인 스마트 제조 전략은 미래의 스마트 공장을 구현하기 위한 준비단계에 놓여 있다. 현재는 생산 설비와 라인의 자동 화, 운영 시스템의 디지털화를 추진중이다. 다음 단계는 공장이라는 울타리 안과 밖을 스마트화 하는것. 물론 가장 큰 숙제이자 핵심은 전체적인 대화의 채널을 가동시켜 연결하고 디지털화 해 나가는 것이다.\n",
            " \n",
            "베이징자동차는 스마트 제조 외에도 다양한 신기술 개발로 새로운 비즈니스 모델을 창출해 나가고 있다. 대표적으로 스마트카 개발 전략의 일환으로 모바일 연결, 실시간 도로 현황 파악, 원격 내비게이션 등의 기능을 부여한 자동차를 만들고 있다. 또 2025년에는 지능운전 기능으로 완전 자동운전을 가능케 하는 것을 목표로 개발을 추진, 진행하고 있다.\n",
            "전기차와 관련해서도 2020년까지 A급 및 이하 차종을 전기차로 만들고, R-EV, PHEV의 상품화를 적극 추진하여 전통차에서 신에너지차로의 안정적 달성을 계획하고 있다. 또한 환경・에너지 이슈를 반영한 경량화 설계, 공법 적용으로 차량 무게를 2017년까지 5%, 2020년까지 10% 줄이는 것을 목표로 하고 있다. 함께 개발중인 저탄소 기술 개발로는 중국 4단계 연비 법규, 국가 6단계 배기 법규를 만족시키는 자동차를 생산할 계획이다.\n",
            "시스템 측면에서는 제조와 구매의 3H(High quality, High efficiency, High competence)전략을 추진중이다. 이는 자동화, 모듈화, 유연화를 통해 고효율, 최적 원가의 생산 운영 시스템을 구축하는 전략이다. 또한 구매 정보 스마트 시스템, 숙성된 구매 네트워크, 전체 가치 사슬에 걸친 원가 관리 시스템 구축으로 구매 경쟁력을 향상시킬 계획이다.\n",
            "판매 및 서비스 분야에서는 3F(Fast learn , Fast arrive, Fast help) 전략을 세웠다. 전자상거래, 빅데 이터에 의한 고객 파악과 대리점 간 교류 플랫폼 구축, 물류 네트워크 최적화 등을 달성하겠다는 것이다. 또한 모바일 어플리케이션 등 매체 플랫폼과 전자상거래 등의 플랫폼으로 신속한 예약, 정비, A/S 방면에 빠른 물류, 빠른 정보, 신속한 서비스 등을 제공할 전망이다.\n",
            "이 외에도 주목할만한 것은 고객 만족도 향상을 위한 화장공정(化妆工程, Make-up Engineering process)이라는 엔지니어링 프로세스다. 자동차를 개발하려면 2~3년이 소요되는데, 개발 초기 소비 트렌드를 반영하지만 시간이 지나 출시에 이르러 소비 트렌드가 바뀌어버린다. 이 문제에 대응하기 위해 디자인 엔지니어링 아키텍처(Design Engineering Architecture)의 자유도를 확보한 후개발 마지막 단계에서 고객의 요구 변화에 신속하게 대응하는 프로세스다.\n",
            "이에 기존 이목구비(기술)에 다양하게 덧칠(새로운 디자인 트렌드 적용)함으로써 아름다운 얼굴을 완성하는 화장과 같다고 해서 화장공정이라 이름이 붙여졌다. 이 화장공정은 고도의 경험과 기술이 집약된 베이징자동차 특색의 엔지니어링 프로세스로, 이를 통해 신차 개발에 따른 QCD 목표를 달성하고 있다.\n",
            "이러한 베이징자동차의 다양한 전략은 파이(π) 계획 3.14를 위해 진행된다. 이는 2020년까지의 베이징자동차 중장기 발전 전략이다. 3.14의 의미는 북경자동차의 자주 브랜드가 중국 로컬 브랜드 3위 진입, 합자회사*인 베이징벤츠가 중국 호화 브랜드 부문에서 1위, 베이징현대가 합자회사 전방 4위에 자리매김하는 것을 의미한다.\n",
            "외국기업과의 협력으로 만들어진 회사. 합자/합작회사를 모두 포함한다. 핵심 기술이 부족하고 브랜드 인지도가 낮은 중국기업은 개발 초기에 합자의 형태로 기업을 발전시키게 되었다. 하지만 여전한 기술 격차, 해외 브랜드의 독주 등으로 인해 최신 로컬(자주) 브랜드로 성장하려는 움직임이 커지고 있다.\n",
            "\t\t\t\n",
            "\n",
            ".\n",
            "중국 기업은 4차 산업혁명의 물결을 어떻게 헤쳐나가고 있을까?\n",
            "중국 베이징자동차의 사례를 찾아 보았다. 베이징자동차는 중국 5대 자동차 그룹 중 하나로, 2016년 상반기 130.5만 대 차량 판매로 동기 대비 10.7% 상승하는 등(업계 평균8.1%) 빠른 성장세를 보이고 있는 중국 자동차 메이 커다. 특히 4차 산업혁명에 대응하기 위해 자체적으로 ‘스마트 제조’를 추진중인 대표 기업이다.\n",
            "\n",
            "베이징자동차(BAIC motor) \n",
            "승용차, SUV, MPV, 친환경 전기차 등을 개발, 생산, 판매 하는 중국 국영 자동차 메이커. 2013년 미국 포춘지가 발표한 세계 500강 기업 진입 이후 2016년에 160위를 달성했다. 최근 독일의 벤츠, 한국의 현대 자동차와 함께 만든 베이징벤츠, 베이징현대라는 합자회사들을 베이징자동차유한회사 소속의 새로운 주식상장회사로 발돋움시켰다. 또한 베이징 자동차는 완성차 제조, 부품 개발, 자체 개발, 서비스 무역, 개혁 조정의 5대 발전 플랫폼 구축에 성공한 중국 자동차 업계에서 가장 잘 갖춰진 자동차 메이커다.\n",
            "\t\t\t\n",
            "\n",
            "독일은 되는데 왜 중국은 안 되는가?\n",
            "  베이징자동차의 윤태화 부총재(한국 인더스트리4.0 협회 전문위원)에 의하면 베이징자동차에서는약 3년 반 동안 인더스트리 4.0을 연구했으며, 실제로 적용한 지는 2년이 되었다고 한다. 연구 결과 중국과 독일은 4차 산업혁명을 구상하는 과정부터 달랐고, 제조 환경 또한 차이가 있기에 자국에 맞는 플랫폼을 구축해야 한다는 것을 알아내게 된다.\n",
            "먼저 독일의 경우를 보자. 독일은 10년 전부터 혁명을 준비해 왔다. 소모임에서 2~3년 연구가 숙성됐 고, 산업계에서 6~7년 토론이 축적된 후, 3년간 정부로 확산되어 국가적 측면에서 혁명의 플랫폼을 구상하게 되었다. 그런데 사람들은 그 오랜 숙성의 과정보다 인더스트리 4.0이라는 결과에만 초점을 맞춰 혁신의 즉각적인 도입에 대해서만 맹목적으로 매달린 부분이 컸다.\n",
            "반면 중국은 4차 산업혁명이라는 큰 파도 앞에 갑작스레 직면해 있는 상황이다. 혁명을 준비하기 위한 오랜 준비의 과정이 독일에 비해 부족하다. 게다가 기술, 시스템, 제도가 탄탄한 독일과 달리 혁명의 기반을 다질 인식, 제도, 시스템 측면의 개선이 큰숙제로 남아있다. 이러한 독일과 중국의 차이는 “독일은 되는데 왜 중국은 안 될까?”라는 질문에 대한 답이 되기에 충분했다.\n",
            "중요한 것은 연결, 그리고 커뮤니케이션\n",
            "\n",
            "  이에 베이징자동차는 이러한 연구를 바탕으로 스마트 제조를 추진하게 된다. 내부적으로 ‘제조 품질 선진화 전략’과 인터넷플러스 제조(인터넷 플러스 전략에 제조 분야를 융합하는 전략)를 진행하던 중, 작년 초 중국제조 2025가 발표됨에 따라 이에 상응하는 스마트 제조 전략으로 전환하여 추진하게 된 것이다. 전략의 키워드는 연결, 그리고 커뮤니 케이션이라고 한다.\n",
            "인더스트리 4.0시대에는 제품 모델이 급격히 변화하게 된다. 즉 제품을 만들고 소비자에게 선택 받기를 기다리는 것이 아니라, 소비자가 제품을 선택・제 작하는 시대가 된 것이다. 이에 고객의 니즈에 대한 새로운 데이터가 작업자에게 연결되고 공정에 반영되는 연결과 커뮤니케이션의 플랫폼이 중요해진 것이다.\n",
            "이에 베이징자동차는 기존 각 부서, 라인, 공장 별대화 방식으로는 해결할 수 없기에, 부서와 부서, 라인과 라인, 다른 지역의 공장과 공장이 서로 어떻게 연결되고 정보를 공유하느냐가 가장 중요한 문제라고 보았다. 즉 IoT, IoS 생태계를 구축하여 연결된 스마트 공장을 통해 고객의 다양한 수요를 반영한 다품종, 커스터마이즈된 제품을 생산해야 한다는 것이다.\n",
            "물론 이를 실현하기 위해서는 자동차 개발 전 단계, 즉 디자인 기획부터 양산까지의 업무를 디지털화하고 생산 혁신을 추진해야 한다. 데이터 구축을 재정 립해야 한다는 것이다. 그 다음에 CPS, MES 등의 적용과 확장이 진행되어야 한다. 이러한 기술과 기반을 바탕으로 생산 혁신을 이루어가는 것이다.\n",
            "이에 베이징자동차에서 추진중인 스마트 제조 전략은 미래의 스마트 공장을 구현하기 위한 준비단계에 놓여 있다. 현재는 생산 설비와 라인의 자동 화, 운영 시스템의 디지털화를 추진중이다. 다음 단계는 공장이라는 울타리 안과 밖을 스마트화 하는것. 물론 가장 큰 숙제이자 핵심은 전체적인 대화의 채널을 가동시켜 연결하고 디지털화 해 나가는 것이다.\n",
            "\n",
            " \n",
            "베이징자동차의 새로운 시도들\n",
            "베이징자동차는 스마트 제조 외에도 다양한 신기술 개발로 새로운 비즈니스 모델을 창출해 나가고 있다. 대표적으로 스마트카 개발 전략의 일환으로 모바일 연결, 실시간 도로 현황 파악, 원격 내비게이션 등의 기능을 부여한 자동차를 만들고 있다. 또 2025년에는 지능운전 기능으로 완전 자동운전을 가능케 하는 것을 목표로 개발을 추진, 진행하고 있다.\n",
            "전기차와 관련해서도 2020년까지 A급 및 이하 차종을 전기차로 만들고, R-EV, PHEV의 상품화를 적극 추진하여 전통차에서 신에너지차로의 안정적 달성을 계획하고 있다. 또한 환경・에너지 이슈를 반영한 경량화 설계, 공법 적용으로 차량 무게를 2017년까지 5%, 2020년까지 10% 줄이는 것을 목표로 하고 있다. 함께 개발중인 저탄소 기술 개발로는 중국 4단계 연비 법규, 국가 6단계 배기 법규를 만족시키는 자동차를 생산할 계획이다.\n",
            "시스템 측면에서는 제조와 구매의 3H(High quality, High efficiency, High competence)전략을 추진중이다. 이는 자동화, 모듈화, 유연화를 통해 고효율, 최적 원가의 생산 운영 시스템을 구축하는 전략이다. 또한 구매 정보 스마트 시스템, 숙성된 구매 네트워크, 전체 가치 사슬에 걸친 원가 관리 시스템 구축으로 구매 경쟁력을 향상시킬 계획이다.\n",
            "판매 및 서비스 분야에서는 3F(Fast learn , Fast arrive, Fast help) 전략을 세웠다. 전자상거래, 빅데 이터에 의한 고객 파악과 대리점 간 교류 플랫폼 구축, 물류 네트워크 최적화 등을 달성하겠다는 것이다. 또한 모바일 어플리케이션 등 매체 플랫폼과 전자상거래 등의 플랫폼으로 신속한 예약, 정비, A/S 방면에 빠른 물류, 빠른 정보, 신속한 서비스 등을 제공할 전망이다.\n",
            "이 외에도 주목할만한 것은 고객 만족도 향상을 위한 화장공정(化妆工程, Make-up Engineering process)이라는 엔지니어링 프로세스다. 자동차를 개발하려면 2~3년이 소요되는데, 개발 초기 소비 트렌드를 반영하지만 시간이 지나 출시에 이르러 소비 트렌드가 바뀌어버린다. 이 문제에 대응하기 위해 디자인 엔지니어링 아키텍처(Design Engineering Architecture)의 자유도를 확보한 후개발 마지막 단계에서 고객의 요구 변화에 신속하게 대응하는 프로세스다.\n",
            "이에 기존 이목구비(기술)에 다양하게 덧칠(새로운 디자인 트렌드 적용)함으로써 아름다운 얼굴을 완성하는 화장과 같다고 해서 화장공정이라 이름이 붙여졌다. 이 화장공정은 고도의 경험과 기술이 집약된 베이징자동차 특색의 엔지니어링 프로세스로, 이를 통해 신차 개발에 따른 QCD 목표를 달성하고 있다.\n",
            "이러한 베이징자동차의 다양한 전략은 파이(π) 계획 3.14를 위해 진행된다. 이는 2020년까지의 베이징자동차 중장기 발전 전략이다. 3.14의 의미는 북경자동차의 자주 브랜드가 중국 로컬 브랜드 3위 진입, 합자회사*인 베이징벤츠가 중국 호화 브랜드 부문에서 1위, 베이징현대가 합자회사 전방 4위에 자리매김하는 것을 의미한다.\n",
            "2016년 8월 16일 진행된 베이징자동차 로컬 자주브랜드 1,000,000만대 생산 기념대회\n",
            "\n",
            "합자회사\n",
            "외국기업과의 협력으로 만들어진 회사. 합자/합작회사를 모두 포함한다. 핵심 기술이 부족하고 브랜드 인지도가 낮은 중국기업은 개발 초기에 합자의 형태로 기업을 발전시키게 되었다. 하지만 여전한 기술 격차, 해외 브랜드의 독주 등으로 인해 최신 로컬(자주) 브랜드로 성장하려는 움직임이 커지고 있다.\n",
            "\t\t\t\n"
          ],
          "name": "stdout"
        },
        {
          "output_type": "stream",
          "text": [
            "---------------------------------TITLE---------------------------------\n",
            "\n",
            " 중국 4차 산업혁명을 보는 다접점의 프레임\n",
            "\n",
            "물론 특효약이 될 수는 없다\n",
            "\n",
            "[중국의 4차 산업혁명 ①] 크지만 강하지 않은, 중국의 자아성찰\n",
            "[중국의 4차 산업혁명 ②] 중국제조 2025, 창조와 모방 사이\n",
            "[중국의 4차 산업혁명 ③]  날으는 돼지가 되자, 인터넷 플러스\n",
            "[중국의 4차 산업혁명 ④] 중국식 스마트 제조 – 베이징자동차\n",
            "\n",
            "Share this:\n",
            "관련\n",
            "---------------------------------CONTENT---------------------------------\n",
            ".\n",
            "과연 대륙의 스케일이다. 중국은 4차 산업혁명 실현으로 제조 강대국이 되려 하고 있다. 하지만 이것이 다가 아니다. 중국은 큰 그림을 그리고 있다. 그리고 그 큰 덩치를 더욱 위협적으로 불리며 힘도 키우고 있다. 그리고 세계를 집어삼킬 준비를 하고 있다.\n",
            "  .\n",
            "지금까지 중국의 4차 산업혁명 전략에 대해 살펴봤다. 하지만 중국 4차 산업혁명이 곧 중국제조 2025인 것은 아니다. 베이징자동차의 윤태화 부총재도 중국의 4차 산업혁명은 하나의 프레임으로 바라보거나 해석하면 안 된다고 경고했다. 이는 마치 ‘인더 스트리 4.0 = 스마트공장’이라 단정지는 것과 다름없다는 것이다.\n",
            "이에 윤태화 부총재는 중국의 4차 산업혁명을 일대일로(一带一路), 중국제조 2025, 인터넷플러스라는 다접점의 프레임에서 바라봐야 한다고 강조했다. 일대일로는 미국에 대항해 세계의 패권과 경제권을 장악하기 위한 계획이다.\n",
            "이는 2013년 시진핑(習近平) 주석이 제시한 현대판 실크로드 전략으로, 당나라 시대에 개척한 육상 실크로드와 명나라 시대에 개척했던 해상 실크로드를 재현하자는 것이다. 이에 중국을 비롯한 아시아, 유럽, 아프리카를 포함한 거대 경제 네크워크를 구축 하는 것을 목표로 한다. 최근 중국 주도로 진행된 아시아인프라투자은행(AIIB)*도 일대일로 실현의 수단으로 작용할 것으로 보인다.\n",
            "이에 중국제조 2025 또한 세계 각국의 제조 혁명에 대응하면서도 세계 장악에 대한 중국의 야망 달성을 위해 중국이 내 놓은 정부 차원의 전략이라고 해석할 수 있다. 인터넷플러스는 4차 산업혁명 실현의 핵심 수단인 것이다.\n",
            "즉 중국 중심의 아시아, 유럽, 아프리카를 잇는 네트워크 구축으로 세계에 대한 중국의 영향력을 확고히 하려면 관련 인프라를 구축해야 한다. 결국 인프라 구축에는 결국 제조기술이 기반이 되어야 하는데 그 기반을 마련하려면 어떤 방향성을 가진 제조 혁신 전략이 필요하다. 그리고 그 전략의 가장 큰 수단이 되는 것은 바로 인터넷인 것이다.\n",
            "중국이 그리고 있는 그림은 크다. 역시 대륙의 스케일이다. 물론 중국이기에 가능한 것들도 있지만 분명 한계는 있다. 중국의 전략은 기존에 앓고 있던 문제를 단번에 해결해주지는 않을 것이라는 뜻이다.혁명 실현이 지지부진하다면 당연히 손해가 있을 것이고, 성공한다고 해도 즉각적인 이익을 얻을 수는 없을 것이다.\n",
            "중국은 혁신을 통한 성장을 강조하지만 기존 패러다임을 뒤집기가 쉽지는 않을 것이다. 게다가 중국의 총체적 문제와 한계들은 혁신을 진행시키는데 걸림돌이 될 것이다. 이 문제들 역시 단기간에 해결될 수 없는 고질적인 것이기 때문이다. 성공한다 하더라도 초기에는 여전히 경쟁력이 없을 수 있다. 그만큼 많은 투자가 되었을 것이고 초기에는 제조비용이 높을 것이기 때문이다.\n",
            "게다가 중국은 앞서 언급했든 인더스트리2.0과 3.0, 4.0을 동시에 추진해야 하는 어려운 상황이다. 땅이 넓은 중국은 동부 연안부터 성장하여 횡적 지역차가 존재한다. 중부 내륙으로 갈수록 덜 발전되어 있어, 지역에 따라 2, 3, 4차 산업이 동시에 벌어지고 있는 셈이다. 이에 중국의 4차 산업혁명 실현은 결코 순조롭지는 않으리라는 전망이다.\n",
            "“꼭 혁명에 의해서가 아니더라도 중국은 세계를 압도할 것이다.” 워낙 위협적인 중국이기에 4차 산업혁명이 아니더라도 중국은 결국 세계의 리더가 될 것이라는 이야기가 나오고 있다. 반대로 4차 산업혁명을 성공시킨다면 중국은 세계를 집어삼키고 남으리라는 것으로 해석할 수 있다. 분명 많은 문제를 안고 있는 중국의 혁명 과정은 결코 순탄치 않겠지만, 그럼에도 불구하고 중국은 중국이기 때문에 성공하기 어려운 만큼 실패하기도 어려울 것이다.\n",
            " \n"
          ],
          "name": "stdout"
        }
      ]
    },
    {
      "cell_type": "code",
      "metadata": {
        "scrolled": true,
        "id": "94912PdAOWDQ",
        "outputId": "daaff0f9-a0e9-48b9-f623-bfffc306fd5d"
      },
      "source": [
        "html=urlopen(\"http://www.mfgkr.com/archives/1812\")\n",
        "bsObj=BeautifulSoup(html,\"html.parser\")\n",
        "KOR_link_text=[]\n",
        "#USA_ManufactureInnovation = bsObj.find_all(\"div\", {\"class\":\"box-inner-block\"})\n",
        "for link in bsObj.find_all(\"div\",{\"class\":\"box-inner-block\"}):\n",
        "    for link_ in link.findAll(\"a\"):\n",
        "        KOR_link_text.append(link_['href'])\n",
        "for link in range(0,len(KOR_link_text)): \n",
        "    html=urlopen(KOR_link_text[link])\n",
        "    bsObj=BeautifulSoup(html,\"html.parser\")\n",
        "    KOR_ManufactureInnovation_title2 = bsObj.find(\"div\",{\"class\":\"entry\"}).find_all(\"h3\")\n",
        "    KOR_ManufactureInnovation_title1 = bsObj.find(\"div\",{\"class\":\"entry\"}).find_all(\"h4\")\n",
        "    KOR_ManufactureInnovation_content1 = bsObj.find(\"div\",{\"class\":\"entry\"}).find_all(\"p\")\n",
        "    KOR_ManufactureInnovation_content2=bsObj.find(\"div\",{\"class\":\"entry\"}).find_all(\"div\",{\"class\":\"ja_text\"})\n",
        "    print(\"---------------------------------TITLE---------------------------------\")\n",
        "    for response in KOR_ManufactureInnovation_title1:  \n",
        "        print(response.get_text())\n",
        "    for response in KOR_ManufactureInnovation_title2:  \n",
        "        print(response.get_text())\n",
        "    print(\"---------------------------------CONTENT---------------------------------\")\n",
        "    for response in KOR_ManufactureInnovation_content1:\n",
        "        print(response.get_text())\n",
        "    for response in KOR_ManufactureInnovation_content2:\n",
        "        print(response.get_text())\n",
        "        # 중국은 우리나라와 같이 제조업 생산성 효율에 있어서 그렇게 좋은 나라는 아니다. 하지만 방대한 수출과 어마어마한 인구수 즉, 인력을\n",
        "# 이용해 떨어진 효율에도 이를 잠재우고 끊임없이 제조품을 생산해내고 있다.중국제조 2025는 종국적으로 공업화와 빅데이터, 클라우드 컴퓨팅, 사물인터넷 등을 도입하여 \n",
        "#제조의 스마트화, 네트워 크화, 디지털화 실현을 목표로 한다. 나아가 대량생산이라는 기존 생산방식이 아닌 다양한 소비자의 요구에 맞춤형 제품을 만들어내는 제조 방식을 구축하고자 한다. \n",
        "#이 점은 독일의 인더스트리 4.0과 비슷한 대목이다\n",
        "    "
      ],
      "execution_count": null,
      "outputs": [
        {
          "output_type": "stream",
          "text": [
            "---------------------------------TITLE---------------------------------\n",
            "---------------------------------CONTENT---------------------------------\n",
            "정부 차원에서 4차 산업혁명에 강력하게 드라이브를 걸면서 새로운 제조 환경 도래에 대한 관심은 광범위하게 퍼져 나가고 있다. 변화하는 제조 환경의 모습을 다각적으로 제시하기 위해 지난 11월 개최된 ‘제9회 대한민국 제조혁신 콘퍼런스’에 그토록 많은 참가자들이 몰려든 것도 같은 맥락이다. 이 날 콘퍼런스에서는 국내 기업의 스마트공장 추진 사례도 발표되었다. 지금부터 이날 발표된 현대제철, 두산 공작기계, 울랄라랩의 사례를 소개한다. \n",
            "\t\tjQuery(document).ready(function($){\tjQuery(\"ul.tabs-nav\").tabs(\"> .pane\"); }); \n",
            "\n",
            "\n",
            " 현대제철 \n",
            " 두산공작기계 \n",
            " 울랄라랩 \n",
            "\n",
            "\n",
            "\t\t 최근 철강 제조 산업에서는 풍부한 설비 운전 경험에 기반해 안정적인 운영이 가능하도록 구축된 공장들이 많다. 그러나 생산량 증대 또는 안정적 품질 관리 능력 향상을 위해 기능 확장이나 유지보수하는 문제에 있어서 설비 공급사에 너무 의존적이라는 것이 현재 공장 운영의 애로사항 중 하나다. 더구나 은퇴·이직으로 인한 숙련 인원 감소, 갈수록 다양하고 복잡해지는 시장의 요구, 환경 보존 및 에너지 사용에 대한 관심 증가 등 해결해야 할 환경적 문제들도 산재해 있다. 이러한 가운데 현대제철은 지속가능한 경쟁력을 확보하고 수익을 증대시키기 위해 최신 ICT 기술을 활용한 스마트공장화가 필요하다고 판 단, 스마트공장 관련 기술 개발에 나섰다. 그리고 이를 철 분말 공장에 프로토타입 형식으로 적용시켜 IoT, 빅데이터 분석 기술과 같은  ICT 기술의 효용성을 검증하고 있다.\n",
            "불량 최소화를 통한 안정적 품질 유지, 비가동 및 돌발 상황 최소화를 통한 안정적 생산 유지, 신제품 개발 시간 단축까지 해결해야 할 과제는 명확했다. 각 문제 해결을 위해 ‘공정 인자와 품질 결과 연계성 분석을 통한 인과 관계 규명’, ‘설비 이상 현상 사전 감지 및 대응’, ‘과거 생산 조건 패턴 분석을 통한 테스트 횟수 최소화’라는 추진 목표가 설정되었다. 목표를 기반으로 로드맵도 설정했다. IoT 구축부터 이를 통해 수집된 데이터를 기반으로 하는 인자들 간 상관성 분석,이력 추적,패턴 인식 등 빅데이터 분석까지의 프로세스를 2017년에 집중 진행하고, 2018년부터는 생산·기술 개발 노하우의 정량화와 CPS 및 머신러닝을 진행하여 현재 공장이 스마트공장으로 진화할 수 있는 요소 기술들을 점검한다는 계획이다.\n",
            "이에 따라 현대제철은 MDS 테크놀로지, 네이버시스템과 함께 국책 과제 수요 기업으로 참여하여 제철 공정 내 IoT, 빅데이터분석 기술의 실효성 검증을 위한 프로토타입 시스템 구축에 나섰다. 시스템 구축을 위해 우선 진행된 것은 인프라 구축이다. MDS테크놀로지는 유무선 네트워크를 활용하여 모든 제어 레벨의 데이터를 수집할 수 있는 IoT 망을 구성했다. 여기에 다양한 포맷으로 수집된 데이터를 표준화하여 타 시스템에 전달할 수 있는 IoT 플랫폼 ‘씽스핀 (ThingSPIN)’을 사용해 사용자가 원하는 데이터를 원하는 시기에 수집하고, 원하는 곳에 다시 전달할 수 있는 인프라를 구축했다. 빅데이터 분석의 경우에도 ‘스플렁크(splunk)’라는 빅데이터 플랫폼을 활용하여 높은 수준의 지식 없이도 쉽게 데이터들의 연관성을 분석하고 패턴화시킬 수 있도록 네이버 시스템즈와 철 분말 공정 및 품질 전문가가 같이 참여하였다.\n",
            "\n",
            "그렇다면 현재 진행 중인 프로토타입 시스템 구축의 효과는? 우선은 인자들 간의 상관성 정량화 및 품질 패턴 분석을 통해 품질 예측이 가능할 것으로 예상되며, 이에 필요한 데이터 축적 및 분석을 수행하는 중이다. 축적되고 분석된 정보들을 기반으로 새로운 강종을 개발할 때도 유사성이 높은 기존 제품의 품질 패턴을 활용해 테스트 횟수를 줄이고 개발 시간을 단축할 수 있을 것으로 보인다. 또한 품질 데이터와온·습도 같은 공장의 환경 및 공정 데이터 사이의 연관성을 분석하여 최적의 운전 조건을 도출할 수 있었으며, 빅데이터 분석 기술을 활용해 조업자들의 조업 기준 준수 및 편차 발생 여부를 분석하고 최적화된 조업 가이드를 해준다거나 설비의 유지보수 조건 및 시기 최적화를 검증하여 예지보전을 하는 일도 가능하도록 시스템을 계속 진화시키는 데 있어 효과가 있음을 검증하고 있다. 프로토타입 데모 시스템을 통해 IoT 및 빅데이터 분석 기술의 실효성을 검증한 현대제철은 이를 토대로 스마트공장 고도화 단계 진입을 위한 로드맵 실행에 더욱 박차를 가할 예정이다.\n",
            "두산공작기계는 이날 자사 공장에 대한 적용을 통해 그 실효성이 검증된 공장 스마트화 솔루션 아이두컨트롤(aI doo CONTROL)을 소개했다. 이 솔루션은 제품 기획 및 설계부터 시뮬레이션, 생산, 서비스까지 전체 프로세스의 연결을 통해 최소한의 비용과 시간으로 매스 커스터마이제이션을 실현하는 콘셉트로 개발된 것이다. 제조사나 기종에 상관없이 공장 내 모든 절삭 장비의 데이터를 수집하고 관리하는 모니터링 시스템이라고 할 수 있다.\n",
            "최근 각광받고 있는 표준 통신 방식인 MTConnect 를 기반으로 하고 있기 때문에 두산공작기계의 자체 개발 CNC인 D300은 물론 화낙, 지멘스 등 다양한 제조사의 CNC 내부 정보를 쉽게 수집할 수 있다. ‘아이두컨트롤 스마트 보드’라는 어댑터만 있으면 표준화된 통신을 채택하고 있지 않은 구형 장비라 하더라도 데이터 수집이 가능하다. 수집된 데이터들은 하나의 플랫폼 안에서 모니터링, 분석, 시뮬레이션할 수 있으며, 이를 기반으로 장비를 제어하는 것도 가능하다.\n",
            "장비 전체의 상태 및 24시간 무인 가공장비 가동 현황, 가공 결품 예상 현황 등을 확인할 수 있다. 개별 장비 가동 현황을 조회할 경우 해당 장비의 상태 차트와 함께 일일 목표 사이클, 현재 기준 목표 사이클, 완료 사이클, 일일 생산량, 일 평균 사이클타임, 시간 당 생산량 등의 확인이 가능하다. 장비의 알람 발생 내역을 조회하거나 장비별 가동 실적을 분석 하는 것도 가능하다. 게다가 다양한 모바일 기기와도 연동되고, MES나 ERP 같은 상위 시스템과도 연동되기 때문에 더 효율적으로 생산을 관리할 수 있다.\n",
            "한편 이 같은 두산공작기계의 스마트화 콘셉트는 지난해 SIMTOS 2016 현장에서 한 차례 공개된 바 있다. 전시장에서는 VR 기기를 이용해 실제 제조 현장과 똑같은 환경에서장비 상태를 확인하고 조작할 수 있는 체험 공간을 마련하여 전시 관람객들에게 많은 관심을 받 았다.\n",
            "독일 지멘스 암베르크 공장은 스마트공장의 고도 화를 이룬 대표적인 사례로, 75%의 완전자동화와 실제 불량률 0.1% 미만의 이상적인 시스템을 자랑 한다. 그렇다면 한국 중소기업도 이러한 수준으로 공장을 구축할 수 있을까?\n",
            "한국 중소기업이 지멘스 공장과 같은 최첨단 스마트공장을 구현하기 어려운 이유 중 하나는 기업 대부분이 노동력 중심이기 때문이다. 좋은 설비와 기술력을 보유하고 있어도 여전히 수기로 생산 이력을 관리한다. 심지어 ERP와 같은 새로운 시스템을 도입해도 근로자들이 사용에 어려움을 느껴 제대로 활용하지 못한다. 최근 중소기업도 스마트공장의 필요성을 인식하고는 있지만, 이 같은 이유로 실제 현장 적용에 대해서는 부정적인 반응을 보이고 있다.\n",
            "게다가 스마트공장 솔루션의 대부분이 전체 세계 제조업의 20%도 되지 않는 대기업을 주 타깃으로 삼고 있기 때문에 중소기업이 이를 대체할 방법을 찾기 힘들다. 이들을 제외한 나머지 80%, 한국에서는 90%를 차지하는 중소제조업을 위한 스마트공장 플랫폼은 아직 없는 실정이다. 그렇다면 중소기업이 스마트공장 플랫폼을 도입하기 위해서는 어떻게 접근해야 할까?\n",
            "울랄라랩 강학주 대표는 먼저 단계별로 접근해 나갈 것을 강조했다.  스마트공장의 도입 목적을 명확히 설정한 후, 이에 필요한 기능들을 정의한다. 그리고 그 기능을 구현할 수 있는 기술을 확인한 후에 스마트공장을 시작해야 한다. 보통 이 단계부터 차근차근 밟아 나가지 않고 마지막 단계만 보거나 대기업의 이상적인 사례만 보기 때문에 스마트공장 구축을 실패할 가능성이 더욱 높은 것이다. 따라서 중소기업은 스마트공장을 도입하기 전에 보유하고 있는 설비와 기술의 현황을 제대로 파악한 후 추가적으로 필요한 기술을 정하고, 현재 어느 수준에 있는지를 정확히 인지하고 있어야 한다.\n",
            "특히 이 과정에서 데이터의 시각화는 굉장히 중요하다. 이는 데이터의 분석 결과를 쉽게 이해할 수 있도록 시각적으로 표현하고 전달해주기 때문에 의사결정에 매우 유용하다. 이를 위해서는 필요한 데이터의 수집이 제대로 이루어져야 하지만 국내 중소기업 대부분이 데이터가 잘 관리되지 않는 환경에 놓여있다. 공장에 MES나 ERP 라는 좋은 시스템이 있어도 제 기능을 다 하지 못하는 이유가 바로 이 데이터 수집 방법을 소홀히 했기 때문이다.\n",
            "하지만 데이터가 중요하다는 것을 알아도 그 방법을 모르면 막막할 수밖에 없다. 이러한 중소기업의 어려움을 해결하기 위해 울랄라랩에서는 스마트공장 IoT 디바이스인 위콘 (Wicon)과 스마트공장 플랫폼인 윔팩토리 (WimFactory)를 제공하고 있다.\n",
            "위콘은 공장 설비와 생산 데이터를 무선통신망을 통해 클라우드 플랫폼에 실시간으로 전송하는 기술로 기존 설비에 쉽게 설치해 사용 가능하며, 누구나 보기 쉬운 분석 툴을 제공 한다. 위콘과 다양한 센서의 결합을 통해 설비 현황 데이터를 수집하고 실시간으로 모니터링 하는 스마트공장 플랫폼이 윔팩토리다. 기존 생산 설비와 전체 프로세스를 바꾸지 않아도 쉽고 편리하게 스마트공장을 구축할 수 있다. 설비 온도, 압력 등 생산 관련 데이터를 상시 체크하며 생산 설비의 오작동 히스토리도 지속적으로 분석해 설비나 품질의 손실을 예방하는 예측 알림 서비스도 제공한다.\n",
            "실제로 울랄라랩은 이러한 데이터 관리를 통한 스마트공장 솔루션을 한 신발 공장의 생산 설비에 적용해 효율적인 생산 공정을 구축했다. 이 공장은 설비 노후로 인해 PLC 신뢰성이 저하되고 수작업 공 정때문에 근로자 의존도가 높았다. 하지만 솔루션 도입 후 기계 사이클을 분석해 생산량을 파악하고, 불량을 예측해 생산설비의 품질 향상과 효율성을 극대화할 수 있었다. 현재도 각 생산 프로세스에서 발생하는 데이터를 수집하고 이 데이터들의 관계에 대한 분석을 진행하고 있다. 스마트공장을 무조건 어렵게만 생각하지 말고 데이터 수집부터 시작해 차근차근 접근해 보자. 이것이 스마트공장을 시작하는 첫 단계이기 때문이다.\n",
            "---------------------------------TITLE---------------------------------\n",
            "Q. 회사를 성장시킬 변화는 무엇인가?\n",
            "Q. 4차 산업혁명 시대, 우리의 성장 가능성은?\n",
            "Q. 우리는 변화에 빠르게 적응하고 있을까?\n",
            "Q. 가장 우선적으로 도입할 솔루션은 무엇?\n",
            "Q. 미래를 위한 투자 계획은 어떻게?\n",
            "Q. 변화의 발목을 잡는 방해요소는 무엇?(다중선택)\n",
            "Q. 성공적 제조 혁신을 위해 필요한 지원은? (다중선택)\n",
            "Q. 4차 산업혁명 이끌 인력 보유는 충분한가?\n",
            "Q. 변화된 산업 환경, 인력에게 요구되는 자질은?\n",
            "Share this:\n",
            "관련\n",
            "---------------------------------CONTENT---------------------------------\n",
            "우리나라에서는 4차 산업혁명과 관한 정부 주도 정책이 일찍이 수립되었고, 패러다임 변화에 대한 제조 현장의 관심도 상당한 수준이다. 실제로 스마트공장 구축이나 관련 기술 개발에 나서며 적극적 행보를 보이는 기업들도 있다. 그렇다고해서 우리 가 과연 4차 산업혁명 시대를 잘 준비하고 있는 것이라 말할 수 있는가 하면 대답이 쉽지는 않다. 스위스 최대 은행인 UBS가 2016년 초 다보스포럼을 앞두고 보고서를 발표했다. 보고서에는 ‘4차 산업혁명에 가장 잘 적응할 수 있는 국가’에 대해 노동시장의 유연성, 기술 수준 등 다섯 가지 요소를 두루 고려한 평가 결과가 포함되었다. 미국, 독일 등의 국가가 상위권을 차지하고 일본과 대만도 높은 순위를 차지한 반면, 우리나라는 25위에 머물렀다. 기술 수준이나 교육 시스템 등의 요소에서는 상대적으로 높은 평가를 받았지만 노동시장 유연성에서는 전체 평가 대상인 139개국 중 83위에 그쳤다. 물론 이 평가가 절대적인 가치라고는 할 수 없다.\n",
            "그렇다면 과연 4차 산업혁명에 대한 우리의 실제 준비 상태는 어떨까? MFG는 한국인더스트리4.0 협회와 함께 스마트공장에 대한 대응 실태 파악을 위한 설문조사를 진행했다. 4차 산업혁명의 가장 비중있는 Action Item인 스마트공장에 대한 다음의 설문조사 결과를 통해 4차 산업혁명에 대한 우리의 대응이 어떤 수준인지 살펴보도록 하자.\n",
            "회사를 성장시키는 방법은 두 가지다. 기존의 비즈니스 모델을 유지하면서 공정 효율화를 통해 생산성을 향상시키고 수익을 확보하는 Bottom-line Saving, 새로운 비즈니스 모델이나 신제품의 개발을 통해 매출을 향상시키는 Top-line Growth가 그것이다. 모든 기업들은 각자의 상황에 맞는 적절한 성장 방법을 선택하면 된다. 4차 산업혁명과 발맞춘 변화의 방법을 선택하는 것도 이와 다르지 않다. 한국인더스트리4.0협회는 새로운 제조 시대에 필수적인 ‘디지털화’와 관련해 기업을 성장시킬 수 있는 방법이 무엇이라 생각하는지 물었다. 설문 참여자의 56.94%가 ‘기존 비즈니스 모델 및 제품·서비스의 디지털화’, 나머지 43.06%가 ‘기존에 없던 새로운 비즈니스 모델 및 디지털 제품·서비스’라고 응답하며 기존 비즈니스를 효율화시키는 방향에 조금 더 무게를 실었다.\n",
            "4차 산업혁명이나 스마트공장을 주제로 이야기하다 보면, 그 실질적 효과의 불확실성에 대한 이야기를 많이 한다. 그렇다면 실제로 사람들은 4차 산업혁명의 경제적 효과에 대해 어떻게 생각하고 있을까? ‘스마트화·디지털화를 통한 5년 후 기업 성장의 정도’를 묻는 질문에 ‘21~30%’ 수준으로 성장할 것 같다는 응답자 가 37.5%로 가장 많았다. ‘11~20%’의 성장을 예상한 응답자가 30.56%로 그 뒤를 이었고, ‘31~40%’라는 응답은 13.89%였다. ‘50% 이상’으로 크게 성장할 것이라고 답한 응답자도 5.56% 있었다. 생각의 정도는 달랐지만 대체로 제조 패러다임이 변화하고 있는 현재의 상황을 새로운 성장의 기회로 생각하고 있음은 분명한 것으로 보인다.\n",
            "IoT, 클라우드, 빅데이터, 모바일까지 이른바 ICBM으로 불리는 차세대 ICT 기술들은 4차 산업혁명의 핵심 기술로 주목받고 있다. 우리 기업들의 경우에도 ICBM, 지능형 로봇, 3D 프린팅 등의 와해 기술 도입에 대한 관심이 상당하지만 실질적으로 현장에 도입하는 문제는 조금 더디게 진행되고 있는듯 보인다. ‘귀사는 사물인터넷, 빅데이터 분석, 지능형 로봇, 3D프린팅 등 스마트공장 관련 기술을 빠르게 도입하고 있다고 생각하는가?’라는 질문에 긍정적인 답변을 한 응답자는 20% 남짓이다. 반면, 부정적인 답변을 한 응답자는 47.91%로 나타났고 31.25%는 보통이라고 응답했다.\n",
            "스마트공장을 구축하고 싶어하는 많은 제조 현장에서 가장 우선적으로 도입해야 한다고 생각하는 기술은 무엇일까? 3D 프린팅, 산업용 로봇, 빅데이터 기술이 각각 16.55%로 가장 많은 답변을 얻었다. MES(14.39%), ERP(12.23%)와 같은 관리 시스템이 그 뒤를 이었고, 센서도 10.7%로 상대적으로 높은 응답을 얻었다.\n",
            "우리 기업들의 매출액 대비 R&D 투자 비율은 평균 2~3% 정도라고 한다. 이를 기준으로 다음 설문 결과를 한번 살펴보도록 하자. ‘향후 스마트공장 관련 기술에 매년 매출의 몇 %를 투자할 것인가?’라는 질문에 ‘2~3%’가 30.88%로 가장 많은 응답을 얻었다. ‘4~6%’가 22.79%로 그 뒤를 이었고, 10% 이상 투자하겠다는 응답도 13.97%로 나타났다. 매년 꾸준히 매출의 일정 부분을 투자하겠다는 응답이 상당하게 나타남에 따라 제조 현장에서 스마트공장 구축의 필요성을 결코 가벼이 여기지는 않고 있다는 것을 알 수 있다.\n",
            "앞선 설문의 결과를 봤을 때, 제조 현장에서 4차 산업혁명이나 스마트공장 구축에 대한 필요성은 익히 인지하고 있지만 그것이 실질적인 행동으로 연결되는 것은 관심의 크기에 정비례하지는 못하고 있다. 그렇다면 이렇게 관심과 행동 사이를 가로막는 장애물은 무엇일까? ‘스마트공장의 성공적 구축에 있어 방해 요소 는 무엇인가? ’라는 질문에 47.06%로 가장 많은 응답자가 ‘불확실한 경제적 혜택과 과잉 투자’를 꼽았고 ‘최고 경영자의 우선 순위 및 지원 부족(30.88%)’, ‘직원들의 역량 불충분(30.15%)’이 그 뒤를 이었다.\n",
            "스마트공장을 구축하느냐 마느냐의 문제는 개별 기업의 사정이지만, 구축할 수 있느냐 없느냐의 문제로 넘어오면 더 이상 기업만의 일이 아니게 된다. 특히 중소기업의 경우에는 더욱 그렇다. 수·위탁 기업간에 뿌리깊게 자리한 갑을 구조로 중소기업들이 수익을 남기기 힘든 상황에서 자력으로 스마트공장을 구축 하기란 거의 불가능에 가깝다. 때문에 이들을 도울 적절한 정책 및 지원이 필요한 것. 설문 참여자의 55.88%는 ‘스마트공장을 포함한 제조 혁신 산업들과 연구 클러스터 생성’ 문제를, 34.56%는 ‘기업 투자 세금 혜택’ 문제를 필요한 정책으로 꼽았다.\n",
            "지난 달 한 기사가 다룬 청소년 희망 직업 선호도 조사 결과는 흥미로웠다. 의사, 법조인, 연예인 등 꾸준히 인기가 있었던 직업군의 순위는 떨어진 반면, 상대적으로 인기가 없던 이공계 연구 직종이 10권 안에 다수 안착했기 때문이다. 이러한 결과는 이세돌과 알파고의 대결로 점화된 4차 산업혁명에 대한 관심과 무관하 지 않다. 그러나 지금 제조 현장에는 4차 산업혁명을 이끌어나갈 인력이 충분하지 않다는 것이 제조인들의 생각이다. 스마트공장 관련 기술 적용과 관련해 충분한 인력을 보유하고 있느냐는 질문에 9.35%만이 그렇다고 응답했고, 67.63%는 그렇지 않다고 응답했다.\n",
            "변화하는 산업 환경에 대응하기 위해서는 어떤 인재가 필요할까? 설문을 통해 제조인들이 새로운 산업 환경에서 인력 채용 시 가장 눈여겨 봐야할 지원자의 자질은 무엇이라고 생각하는지 물어봤다. 가장 많은 표 를 얻은 것은 ‘문제 해결 능력’으로 26.62%의 응답률을 나타냈다. 창의성(23.02%), 거시적 안목(12.39%), 분석력(10.79%) 등이 그 뒤를 이었다.\n",
            "\n",
            "한국의 4차산업혁명 특집\n",
            "① 한국, 길 잃은 패스트 팔로어\n",
            "② 변화 위한 본격적 걸음 내딛는 기업들\n",
            "③ 현장에서 바라보는 한국의 4차 산업혁명\n",
            "④ 한국의 성공적 산업혁명을 위한 전제조건은?\n",
            "\n",
            "Share this:트위터로 공유하기 (새 창에서 열림)페이스북에 공유하려면 클릭하세요. (새 창에서 열림)구글 +1에서 공유하려면 클릭하세요 (새 창에서 열림)\n",
            "\n",
            "관련\n",
            "\n",
            "\n"
          ],
          "name": "stdout"
        },
        {
          "output_type": "stream",
          "text": [
            "---------------------------------TITLE---------------------------------\n",
            "따로 노는 대·중소기업, 변화의 발목 잡아\n",
            "Share this:\n",
            "관련\n",
            "---------------------------------CONTENT---------------------------------\n",
            "많은 사람들이 4차 산업혁명에 대해 지극한 관심을 보이면서도, 한편으로는 아직 나와 먼 얘기라고 생각하는 경향이 있다. 그 같은 생각의 기저에는 여러 가지 원인이 있다. 앞선 설문조사 결과에서도 드러났듯이 이 새로운 변화에 대한 경제적 효과나 실체를 확신할 수  없는 상황이 우선적으로 거리감을 형성한다. 그러나 한 가지 분명히 해야 할 문제는 4차 산업혁명이나 스마트공장은 어떤 하나의 솔루션이나 완전히 새로운 것은 아니라는 점이다. 컨베이어와 전기동력으로 대량생산 체계를 구축(2차 산업혁명)하고, 전자 및 IT를 활용하여 자동화 체계를 강화(3차 산업혁명)한 것처럼 최신 ICT 기술을 기반으로 지금보다 더 생산을 효율화하려는 움직임이자 지향점인 것이다. 우리는 생산을 시작한 이후로 늘 지금 보다 더 효율적인 것을 추구해 왔고 계속 추구해야 한다. 이러한 관점에서 보면 4차 산업혁명을 결코 막연하거나 상관없다는 이유로 먼 발치에 두고만 볼 수는 없는 일이다.\n",
            "그러나 이런 거리감을 차치하더라도 한국 제조업계가 4차 산업혁명이라는 흐름에 빠르게 편승하지 못하고 있는 중요한 이유는 따로 있다. 바로 아직 많은 기업들이 3차 산업혁명조차 완벽하게 경험하지 못했다는 사실이다. Smart Machine & Factory의 박한구 대표 는 3차 산업혁명과 4차 산업혁명의 명확한 구분 위에서 중소기업과 대기업이 각자의 역할을 해나가야 한다고 설명했다.\n",
            "3차 산업혁명은 쉽게 말하자면 자동화를 향한 여정이었다. 센서나 엑츄에이터(Level 0) 부터 PLC(Level 1), P/C(Level 2) 단까지 공장 자동화를 우선 도입하고 그것을 자연스럽게 MES(Level 3)와 ERP(Level 4) 같은 상위 단까지 연결시켜 전체적으로 자동화 시스템을 완성시키는 것이었다. 하지만 이전의 산업혁명에는 사람이 필히 개입할 수밖에 없는 한계가 있었다.\n",
            "P/C Process Computer\n",
            "\t\t\t\n",
            "\n",
            "\n",
            "\n",
            "\n",
            "자동화 개념은 기본적으로 비례 적분 제어(PI 제어)나 비례 적분 미분 제어(PID제어) 같은 수식을 기반으로 하는 알고리즘을 사용하고 있다. 이것은 사람이 미리 프로그램을 해놓은 순서와 알고리즘에 따라 생산 시설이 자동으로 움직이는 것이다. 하지만 이 경우에 선형적인 제어는 잘 되어도 비선형적 제어는 어려운데, 모든 설비가 선형적으로만 움직이지 않는다는 것이 문제다. 기계가 노후되거나 열이 발생하면 비선형적 현상이 많이 발생하게 되는데, 알고리즘이 이를 따라가지 못하기 때문에 사람의 개입이 필요해진다. 결국 완벽한 무인화는 불가능한 일이 된다. 이처럼 2% 부족한 자동화에 빅데이터, AI, 머신러닝 등 첨단 ICT 기술을 접목하여 생산 설비가 스스로 능동적 판단을 내리는 똑똑한 공장을 만드는 것이 4차 산업혁명이다.\n",
            "Level 0 ~ Level 2의 공장 자동화에 대한 인프라 구축이 이루어진 상태에서 첨단 ICT 기술을 융합해야만 성공적인 변화가 가능하다.\n",
            "여기서 간과하지 말아야 할 사실이 있다. 4차 산업 혁명이란 결국 ‘2% 부족한 자동화에 첨단 ICT 기술을 접목하는 것’이고, 결국 공장 자동화에 대한 인프라가 완전히 갖춰져 있어야 한다는 것이 그 전제가 된다는 사실이다. 하지만 대부분의 기업들이 공장 자동화조차도 제대로 구현하지 못하고 있는 것이 문제라고 박 대표는 설명했다.\n",
            "“대기업의 경우에는 이미 공장 자동화가 100% 되어 있다. 하지만 대기업들의 공급사슬(Supply Chain) 상에 있는 중소 제조 기업들의 대부분은 일부 공정만 자동화되어 있거나 그 조차도 되지 않는 ‘ICT 미적용 수준’ 또는 ‘기초 수준’ 정도에 그치고 있다. ERP나 MES를 도입했다 하더라도 Level 0 ~ Level 2의 공장 자동화에 대한 인프라가 완전히 구축되지 않은 상태에서 상위 시스템을 우선 도입한 경우가 많다 보니, 수동 입력에 따른 데이터 신뢰도 저하 문제로 실제적인 사용률이 낮다. 3차 산업혁명의 과제도 제대로 이행하지 못한 상황에서 4차 산업혁명으로 나아갈 방법은 없다. 때문에 중소기업들이 Level 0부터 단계적으로 공장 자동화 인프라를 구축하는 것이 우선 되어야 한다.”\n",
            "\n",
            "\n",
            "\n",
            "\n",
            "하지만 중소기업이 스스로 자동화 인프라를 구축하기란 거의 불가능하다. 현재 우리나라의 기업간 수·위탁거래 구조는 더 하위 단계의 벤더로 내려갈수록 수익을 남기기 힘들게 되어있는데, 울며 겨자 먹기로 납품가 경쟁을 벌이는 상황에서 중소기업 들이 자동화에 투자할 수 있는 여유가 있을리 만무하다. 그래서 정부의 역할이 중요하다는 것이 박 대표의 생각이다. 중소기업의 자동화 구축을 위한 투자 지원 확대에 집중하는 동시에 기업 간 구조 개선을 위한 제도 및 정책 마련에도 힘써야 한다고 강조했다.\n",
            "Smart Machine & Factory의 박한구 대표\n",
            "\n",
            "\n",
            "\n",
            "\n",
            "대기업의 변화가 혁신의 동력 될 것\n",
            "그렇다면 이미 자동화가 완전히 구축된 대기 업은 어떻게 해야할까? 박 대표는 데이터를 자본화한 소프트웨어 비즈니스로 비즈니스 모델을 확대시켜야 한다고 설명했다.\n",
            "“우리나라가 현재의 장치 산업으로 지속 성장을 이어나가는 것은 어렵다고 본다. 때문에 새로운 비즈니스 모델이 필요하다. 대기업들이 공장을 스마트화 하는 과정에서 생산되는 데이터를 활용하여 소프트웨어를 개발하는 것이 하나의 답이 될 수 있다. 미국의 GE처럼 본래 가지고 있는 도메인 지식과 첨단 ICT 기술을 활용, 데이터 자본을 통해 서비스 사업을 펼칠 수 있는 역량 및 기반은 우리 기업들도 충분히 가지고 있다. 지금은 그 같은 변화에 대해 기업들이 적극적으로 나서지 않는 상황이지만, 변화하는 산업 환경에 맞춰 비즈니스 패러다임도 변화해야 한다는 것은 거스를 수 없는 사실이다.”\n",
            "박한구 대표는 비즈니스 모델 변화와 함께 중소기업에 대한 인식 변화도 필요하다고 덧붙였다. 대기업과 중소기업은 상생의 관계이고, 그것은 4차 산업혁명에서도 마찬가지다. 대기업에서 자동화·스마트화를 아무리 잘한들, 벤더가 납품하는 소재나 부품 데이터가 제대로 관리되지 않으면 소용없는 일이다. 중소기업의 변화가 지연될수록 결국 대기업도 큰 타격을 입을 수밖에 없다.때문에 대기업들은 최소한 자신의 공급사슬 내에 있는 중소기업들의 스마트화에 대한 책임 의식을 가질 필요가 있으며, 기존의 상하관계를 벗어나 파트너십을 기반으로 함께 변화에 동참할 때 비로소 성공의 열매를 수확할 수 있을 것이다.\n",
            "\n",
            "\n",
            "\n",
            "\n",
            "\n",
            "\n",
            "\n",
            "\n",
            "\n",
            "\n",
            "\n",
            "\n",
            "\n",
            "한국의 4차산업혁명 특집\n",
            "① 한국, 길 잃은 패스트 팔로어\n",
            "② 변화 위한 본격적 걸음 내딛는 기업들\n",
            "③ 현장에서 바라보는 한국의 4차 산업혁명\n",
            "④ 한국의 성공적 산업혁명을 위한 전제조건은?\n",
            "\n",
            "Share this:트위터로 공유하기 (새 창에서 열림)페이스북에 공유하려면 클릭하세요. (새 창에서 열림)구글 +1에서 공유하려면 클릭하세요 (새 창에서 열림)\n",
            "\n",
            "관련\n",
            "\n",
            "\n",
            "자동화 개념은 기본적으로 비례 적분 제어(PI 제어)나 비례 적분 미분 제어(PID제어) 같은 수식을 기반으로 하는 알고리즘을 사용하고 있다. 이것은 사람이 미리 프로그램을 해놓은 순서와 알고리즘에 따라 생산 시설이 자동으로 움직이는 것이다. 하지만 이 경우에 선형적인 제어는 잘 되어도 비선형적 제어는 어려운데, 모든 설비가 선형적으로만 움직이지 않는다는 것이 문제다. 기계가 노후되거나 열이 발생하면 비선형적 현상이 많이 발생하게 되는데, 알고리즘이 이를 따라가지 못하기 때문에 사람의 개입이 필요해진다. 결국 완벽한 무인화는 불가능한 일이 된다. 이처럼 2% 부족한 자동화에 빅데이터, AI, 머신러닝 등 첨단 ICT 기술을 접목하여 생산 설비가 스스로 능동적 판단을 내리는 똑똑한 공장을 만드는 것이 4차 산업혁명이다.\n",
            "여기서 간과하지 말아야 할 사실이 있다. 4차 산업 혁명이란 결국 ‘2% 부족한 자동화에 첨단 ICT 기술을 접목하는 것’이고, 결국 공장 자동화에 대한 인프라가 완전히 갖춰져 있어야 한다는 것이 그 전제가 된다는 사실이다. 하지만 대부분의 기업들이 공장 자동화조차도 제대로 구현하지 못하고 있는 것이 문제라고 박 대표는 설명했다.\n",
            "“대기업의 경우에는 이미 공장 자동화가 100% 되어 있다. 하지만 대기업들의 공급사슬(Supply Chain) 상에 있는 중소 제조 기업들의 대부분은 일부 공정만 자동화되어 있거나 그 조차도 되지 않는 ‘ICT 미적용 수준’ 또는 ‘기초 수준’ 정도에 그치고 있다. ERP나 MES를 도입했다 하더라도 Level 0 ~ Level 2의 공장 자동화에 대한 인프라가 완전히 구축되지 않은 상태에서 상위 시스템을 우선 도입한 경우가 많다 보니, 수동 입력에 따른 데이터 신뢰도 저하 문제로 실제적인 사용률이 낮다. 3차 산업혁명의 과제도 제대로 이행하지 못한 상황에서 4차 산업혁명으로 나아갈 방법은 없다. 때문에 중소기업들이 Level 0부터 단계적으로 공장 자동화 인프라를 구축하는 것이 우선 되어야 한다.”\n",
            "하지만 중소기업이 스스로 자동화 인프라를 구축하기란 거의 불가능하다. 현재 우리나라의 기업간 수·위탁거래 구조는 더 하위 단계의 벤더로 내려갈수록 수익을 남기기 힘들게 되어있는데, 울며 겨자 먹기로 납품가 경쟁을 벌이는 상황에서 중소기업 들이 자동화에 투자할 수 있는 여유가 있을리 만무하다. 그래서 정부의 역할이 중요하다는 것이 박 대표의 생각이다. 중소기업의 자동화 구축을 위한 투자 지원 확대에 집중하는 동시에 기업 간 구조 개선을 위한 제도 및 정책 마련에도 힘써야 한다고 강조했다.\n",
            "대기업의 변화가 혁신의 동력 될 것\n",
            "그렇다면 이미 자동화가 완전히 구축된 대기 업은 어떻게 해야할까? 박 대표는 데이터를 자본화한 소프트웨어 비즈니스로 비즈니스 모델을 확대시켜야 한다고 설명했다.\n",
            "“우리나라가 현재의 장치 산업으로 지속 성장을 이어나가는 것은 어렵다고 본다. 때문에 새로운 비즈니스 모델이 필요하다. 대기업들이 공장을 스마트화 하는 과정에서 생산되는 데이터를 활용하여 소프트웨어를 개발하는 것이 하나의 답이 될 수 있다. 미국의 GE처럼 본래 가지고 있는 도메인 지식과 첨단 ICT 기술을 활용, 데이터 자본을 통해 서비스 사업을 펼칠 수 있는 역량 및 기반은 우리 기업들도 충분히 가지고 있다. 지금은 그 같은 변화에 대해 기업들이 적극적으로 나서지 않는 상황이지만, 변화하는 산업 환경에 맞춰 비즈니스 패러다임도 변화해야 한다는 것은 거스를 수 없는 사실이다.”\n",
            "박한구 대표는 비즈니스 모델 변화와 함께 중소기업에 대한 인식 변화도 필요하다고 덧붙였다. 대기업과 중소기업은 상생의 관계이고, 그것은 4차 산업혁명에서도 마찬가지다. 대기업에서 자동화·스마트화를 아무리 잘한들, 벤더가 납품하는 소재나 부품 데이터가 제대로 관리되지 않으면 소용없는 일이다. 중소기업의 변화가 지연될수록 결국 대기업도 큰 타격을 입을 수밖에 없다.때문에 대기업들은 최소한 자신의 공급사슬 내에 있는 중소기업들의 스마트화에 대한 책임 의식을 가질 필요가 있으며, 기존의 상하관계를 벗어나 파트너십을 기반으로 함께 변화에 동참할 때 비로소 성공의 열매를 수확할 수 있을 것이다.\n",
            "\n",
            "한국의 4차산업혁명 특집\n",
            "① 한국, 길 잃은 패스트 팔로어\n",
            "② 변화 위한 본격적 걸음 내딛는 기업들\n",
            "③ 현장에서 바라보는 한국의 4차 산업혁명\n",
            "④ 한국의 성공적 산업혁명을 위한 전제조건은?\n",
            "\n",
            "Share this:트위터로 공유하기 (새 창에서 열림)페이스북에 공유하려면 클릭하세요. (새 창에서 열림)구글 +1에서 공유하려면 클릭하세요 (새 창에서 열림)\n",
            "\n",
            "관련\n",
            "\n",
            "\n"
          ],
          "name": "stdout"
        }
      ]
    },
    {
      "cell_type": "markdown",
      "metadata": {
        "id": "dyZjBY3HOWDQ"
      },
      "source": [
        "## 결론\n",
        "\n",
        " 가설로 내세웠던 한국은 현재 제조업에 있어 위기인가에 대한 것은 데이터 분석을 통해 여러 부분에 있어서 증명이 되었다. 한국은 현재 제조업의 수출 비중이 크고, 다른 나라에 비해 제조업에 의존하는 비율이 크기 때문에 위기가 온다면 우리나라 경제에 큰 영향을 줄 수 있다. 그렇기에 더더욱 우리는 제조업에서의 강력한 한방(혁신)이 필요하다. 하지만 4차 산업혁명에 있어 제조업의 혁신을 만들 수 있는 길은 생산성 향상으로부터 출발한다는 독일에 말에 뒤늦게 스마트 팩토리를 구축하고 있지만 아직은 한계가 있음을 보여준다. 한국은 단위노동비용 및 1인당 노동생산성에 있어서도 매우 큰 폭으로 낮아져 이를 우려하는 목소리가 많이 나오고 있다. 이 뿐만이 아니다. 제조업의 성장은 제조업 내부 역량으로는 절대 혁신을 도모할 수 없다. 그렇기에 우리는 제조업은 IT기업과 손을 잡아 즉, M&A 인수합병을 통해 생산성 향상 및 고용 문제, 저성장의 난제를 풀어나가야하는데 한국은 기술을 뺏길 수 있다는 우려때문에 M&A를 조금 꺼려하는 것처럼 보였다. 일본을 보면 늦게 시작한만큼 그들은 로봇, IoT부분에 있어서 빠르게 제조업에 투입하고 있는데 우리는 아직도 소극적인 것이 한국 제조업의 위기를 만들어낸 것 같다. 즉, <strong> <span style =\"color:red\">한국 제조업의 경쟁력 하락 및 혁신의 어려움은 한가지 원인이 아닌 복합적으로 서로 얽혀있기 때문에 이 모든 것을 하나씩 해결해 나갈 필요가 있다. </span></strong> "
      ]
    },
    {
      "cell_type": "markdown",
      "metadata": {
        "id": "EKM_gVnLOWDQ"
      },
      "source": [
        "## 참고문헌"
      ]
    },
    {
      "cell_type": "markdown",
      "metadata": {
        "id": "c_gPrP2aOWDQ"
      },
      "source": [
        "- 네이버 오픈 API를 이용한 뉴스기사 수집 <br>\n",
        "https://developers.naver.com/docs/common/openapiguide/ 2019.06.09 <br>\n",
        "\n",
        "- 오픈 API를 통한 공공데이터 수집<br>\n",
        "https://medium.com/@whj2013123218/%EC%98%A4%ED%94%88-api%EB%A5%BC-%ED%86%B5%ED%95%9C-%EA%B3%B5%EA%B3%B5%EB%8D%B0%EC%9D%B4%ED%84%B0-%EC%88%98%EC%A7%91-e1dd0ad203b6<br>\n",
        "\n",
        "- THE WORLD BANK (거시지표)<br>\n",
        "https://data.worldbank.org/indicator/NV.IND.MANF.CD?year_high_desc=true<br>\n",
        "\n",
        "- 한국경제연구원 \"[한경연] 2월 25일(월) 조간_제조업 노동생산성 및 단위노동비용 국제비교 보도자료\"<br>\n",
        "\n",
        "- MFG - 크롤링 기사<br>\n",
        "http://www.mfgkr.com/archives/2752 2019.06.09 <br>\n",
        "\n",
        "- 이장균 현대경제연구원 수석연구위원 ,「한국 제조업의 살길은 M&A」, 2017.05.03 <br>\n",
        "http://weekly.donga.com/List/3/all/11/938808/1 2019.06.08<br>\n",
        "\n",
        "- 임성현 기자,「\"기술 뺏길라\" 합병 꺼리는 벤처…M&A중재원 세워 우려 해소를」, 2019.04.17 <br> \n",
        "https://www.mk.co.kr/news/economy/view/2019/04/239522/ 2019.06.08<br>\n",
        "\n",
        "- 조아라 기자,「제조 스마트를 향한 움직임」, 2018.10.02 <br>\n",
        "http://www.mfgkr.com/archives/8572 2019.06.09<br>\n",
        "\n",
        "- 산업통계 분석 시스템 <br>\n",
        "https://www.istans.or.kr/co/newCoTab.do?scode=C184 \n",
        "\n",
        "- 전성필 기자,「연구개발 시설·생산공장이 한 지역에 있어야 제조업 활력↑」, 2018.12.14<br>\n",
        "http://news.kmib.co.kr/article/view.asp?arcid=0924046665 2019.06.09<br>\n"
      ]
    },
    {
      "cell_type": "markdown",
      "metadata": {
        "id": "EVp1H134OWDQ"
      },
      "source": [
        "## 참조도서\n",
        "\n",
        "\"파이썬으로 웹 크롤러 만들기\", 라이언 미첼 지음, 한빛미디어, 2016년 12월 01일 출간\n",
        "https://www.google.com/search?q=%ED%8C%8C%EC%9D%B4%EC%8D%AC+%ED%81%AC%EB%A1%A4%EB%A7%81+%EC%B1%85&sa=X&rlz=1C1NHXL_koKR735KR735&biw=1600&bih=722&tbm=isch&source=iu&ictx=1&fir=Hnj7KYt7nq3xhM%253A%252C-zQGx2X-FReMGM%252C%252Fg%252F11bwyq4j95&vet=1&usg=AI4_-kTYgFH2LgR19Pul__ts8yZd8HKxVw&ved=2ahUKEwiksPLr1NziAhWtKqYKHfgfDs0Q_B0wCnoECAoQAw&cshid=1560092420761884#imgrc=Hnj7KYt7nq3xhM:"
      ]
    },
    {
      "cell_type": "code",
      "metadata": {
        "id": "PyS2rRzeOWDQ"
      },
      "source": [
        ""
      ],
      "execution_count": null,
      "outputs": []
    }
  ]
}